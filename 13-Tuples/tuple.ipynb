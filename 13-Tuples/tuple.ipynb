{
  "cells": [
    {
      "cell_type": "markdown",
      "metadata": {
        "id": "view-in-github",
        "colab_type": "text"
      },
      "source": [
        "<a href=\"https://colab.research.google.com/github/AbdullahMalik17/Python/blob/main/tuple.ipynb\" target=\"_parent\"><img src=\"https://colab.research.google.com/assets/colab-badge.svg\" alt=\"Open In Colab\"/></a>"
      ]
    },
    {
      "cell_type": "markdown",
      "metadata": {
        "id": "-J-l9bhCTW2C"
      },
      "source": [
        "# Tuples\n",
        "They are similar to list but we don't change the value of it . Thay are used when we are sure that it's not changed .\n",
        "## Methods\n",
        "- sort\n",
        "## Function\n",
        "- len\n",
        "- min\n",
        "- max\n",
        "- tuple\n",
        "- sum"
      ]
    },
    {
      "cell_type": "code",
      "execution_count": 8,
      "metadata": {
        "vscode": {
          "languageId": "plaintext"
        },
        "colab": {
          "base_uri": "https://localhost:8080/"
        },
        "id": "z3iJZ_QmTW2J",
        "outputId": "ac28386a-a2a9-4eab-f8b5-ed2c5ab4930e"
      },
      "outputs": [
        {
          "output_type": "stream",
          "name": "stdout",
          "text": [
            "3\n",
            "5\n",
            "1\n",
            "15\n",
            "(1, 2, 3, 4, 5)\n"
          ]
        }
      ],
      "source": [
        "tuple_1 = (1,\"Abdullah\",8)\n",
        "print(len(tuple_1))\n",
        "tuple_2 = (1,2,5,4,3)\n",
        "print(max(tuple_2))\n",
        "print(min(tuple_2))\n",
        "print(sum(tuple_2))\n",
        "print(tuple(sorted(tuple_2)))"
      ]
    },
    {
      "cell_type": "code",
      "source": [
        "# To convert the list into tuple.\n",
        "list1 = [1,2,3,4,5]\n",
        "print(tuple(list1))\n",
        "# To convert tuple into list\n",
        "tuple_3 = (1,2,3,4,5)\n",
        "print(list(tuple_3))"
      ],
      "metadata": {
        "colab": {
          "base_uri": "https://localhost:8080/"
        },
        "id": "xC--AHNRUwM3",
        "outputId": "be3cced5-dd76-451e-d30a-0ac7fd351bcf"
      },
      "execution_count": 4,
      "outputs": [
        {
          "output_type": "stream",
          "name": "stdout",
          "text": [
            "(1, 2, 3, 4, 5)\n",
            "[1, 2, 3, 4, 5]\n"
          ]
        }
      ]
    }
  ],
  "metadata": {
    "language_info": {
      "name": "python"
    },
    "colab": {
      "provenance": [],
      "include_colab_link": true
    },
    "kernelspec": {
      "name": "python3",
      "display_name": "Python 3"
    }
  },
  "nbformat": 4,
  "nbformat_minor": 0
}