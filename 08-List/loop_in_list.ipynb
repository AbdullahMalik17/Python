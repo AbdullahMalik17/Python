{
 "cells": [
  {
   "cell_type": "markdown",
   "metadata": {},
   "source": [
    "# You can use for loop in list .\n",
    "For example , if you want to print the entires of list in line by line . Then you use This type of coding . "
   ]
  },
  {
   "cell_type": "code",
   "execution_count": null,
   "metadata": {
    "vscode": {
     "languageId": "plaintext"
    }
   },
   "outputs": [],
   "source": [
    "containners = [\"Abdullah\",\"Haleema\",\"Hamna\",\"Amna\"]\n",
    "for container in containners :\n",
    "return container"
   ]
  }
 ],
 "metadata": {
  "language_info": {
   "name": "python"
  }
 },
 "nbformat": 4,
 "nbformat_minor": 2
}
