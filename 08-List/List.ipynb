{
  "cells": [
    {
      "cell_type": "markdown",
      "metadata": {
        "id": "JIORop2Gq9dQ"
      },
      "source": [
        "# Why do list important ?\n",
        "They are important because we save the data in it without using variable name . We access our data by using indexes ."
      ]
    },
    {
      "cell_type": "code",
      "execution_count": 3,
      "metadata": {
        "colab": {
          "base_uri": "https://localhost:8080/"
        },
        "id": "j98j_USzrQvd",
        "outputId": "36500970-c773-4142-d148-f589fa7c18f4"
      },
      "outputs": [
        {
          "name": "stdout",
          "output_type": "stream",
          "text": [
            "['apple', 'banana', 'strawberry', 'watermelon', 4]\n"
          ]
        }
      ],
      "source": [
        "from typing import List\n",
        "fruits : List[str] = [\"apple\" , \"banana\" , \"strawberry\" , \"watermelon\" ,4]\n",
        "print(fruits)\n"
      ]
    },
    {
      "cell_type": "markdown",
      "metadata": {
        "id": "QrFTYDy2tdye"
      },
      "source": [
        "# List Length"
      ]
    },
    {
      "cell_type": "code",
      "execution_count": 4,
      "metadata": {
        "colab": {
          "base_uri": "https://localhost:8080/"
        },
        "id": "UwYndO67tiRs",
        "outputId": "25a59532-31b9-4318-a0c6-b2e0c2853248"
      },
      "outputs": [
        {
          "name": "stdout",
          "output_type": "stream",
          "text": [
            "4\n"
          ]
        }
      ],
      "source": [
        "fruits = [\"Banana\" , \"Strawberry\" , \"Apple\" , \"WaterMelon\"]\n",
        "print(len(fruits)) # It gives the answer who not starts with 0 but it also starts from 1 ."
      ]
    },
    {
      "cell_type": "markdown",
      "metadata": {
        "id": "MXLsIncXvDU1"
      },
      "source": [
        "# Another way of accessing indexes"
      ]
    },
    {
      "cell_type": "code",
      "execution_count": 5,
      "metadata": {
        "colab": {
          "base_uri": "https://localhost:8080/"
        },
        "id": "53WMiiwGvIOM",
        "outputId": "da916991-1b60-4c74-9ad0-95e0c56de22c"
      },
      "outputs": [
        {
          "name": "stdout",
          "output_type": "stream",
          "text": [
            "['Banana'] ['Banana', 'Strawberry'] ['Banana', 'Strawberry', 'Apple'] ['Banana', 'Strawberry', 'Apple', 'WaterMelon']\n"
          ]
        }
      ],
      "source": [
        "print(fruits[0:1],fruits[0:2],fruits[0:3],fruits[0:4])"
      ]
    },
    {
      "cell_type": "markdown",
      "metadata": {
        "id": "2m7KIO6yydPc"
      },
      "source": [
        "# Compare indexes data"
      ]
    },
    {
      "cell_type": "code",
      "execution_count": 6,
      "metadata": {
        "colab": {
          "base_uri": "https://localhost:8080/"
        },
        "id": "w5chCvekykrJ",
        "outputId": "feb59813-aed3-4113-c216-9147a29c7926"
      },
      "outputs": [
        {
          "name": "stdout",
          "output_type": "stream",
          "text": [
            "True False\n"
          ]
        }
      ],
      "source": [
        "print(\"Banana\" in fruits ,\"banana\" in fruits)"
      ]
    },
    {
      "cell_type": "markdown",
      "metadata": {
        "id": "AtK1WbosEJLs"
      },
      "source": [
        "# Methods of list:-\n",
        "1. append()\n",
        "2. insert()\n",
        "3. extend()\n",
        "4. remove()\n",
        "5. pop()\n",
        "6. clear()\n",
        "7. index()\n",
        "8. count()\n",
        "9. sort()\n",
        "10. reverse()\n",
        "11. copy()"
      ]
    },
    {
      "cell_type": "code",
      "execution_count": 18,
      "metadata": {
        "colab": {
          "base_uri": "https://localhost:8080/"
        },
        "id": "cYaFxOPmEs2Y",
        "outputId": "5f225b37-7606-4271-e23d-eb4498e08233"
      },
      "outputs": [
        {
          "name": "stdout",
          "output_type": "stream",
          "text": [
            "['Abdullah', 'Athar', 'Bushra', 'Ayesha']\n"
          ]
        }
      ],
      "source": [
        "# append()\n",
        "# It is used to add end of the list.\n",
        "name = [\"Abdullah\",\"Athar\",\"Bushra\"]\n",
        "name.append(\"Ayesha\")\n",
        "print(name)"
      ]
    },
    {
      "cell_type": "code",
      "execution_count": 25,
      "metadata": {
        "colab": {
          "base_uri": "https://localhost:8080/"
        },
        "id": "7ekjVEbyGM89",
        "outputId": "af298662-1167-4b1c-aa4b-cb1e6c3d9195"
      },
      "outputs": [
        {
          "name": "stdout",
          "output_type": "stream",
          "text": [
            "['Azhar', 'Abdullah', 'Bushra', 'Ayesha', 'Tahir', 'Mubashir']\n"
          ]
        }
      ],
      "source": [
        "# insert()\n",
        "# It is used to add element in any index .\n",
        "name.insert(0,\"Azhar\")\n",
        "print(name)"
      ]
    },
    {
      "cell_type": "code",
      "execution_count": 26,
      "metadata": {
        "colab": {
          "base_uri": "https://localhost:8080/"
        },
        "id": "x6H-IyINGySq",
        "outputId": "ec11c7f9-af47-479b-ea88-2303d9fbb2ec"
      },
      "outputs": [
        {
          "name": "stdout",
          "output_type": "stream",
          "text": [
            "['Azhar', 'Abdullah', 'Bushra', 'Ayesha', 'Tahir', 'Mubashir', 'Tahir', 'Mubashir']\n"
          ]
        }
      ],
      "source": [
        "# extend()\n",
        "# It is used to add list to another list .\n",
        "another_name = [\"Tahir\",\"Mubashir\"]\n",
        "name.extend(another_name)\n",
        "print(name)"
      ]
    },
    {
      "cell_type": "code",
      "execution_count": 12,
      "metadata": {
        "colab": {
          "base_uri": "https://localhost:8080/"
        },
        "id": "GijfXOsgHDyZ",
        "outputId": "5306af1c-7e00-49e6-9ef5-11854cd9766b"
      },
      "outputs": [
        {
          "name": "stdout",
          "output_type": "stream",
          "text": [
            "['Azhar', 'Abdullah', 'Athar', 'Bushra', 'Ayesha', 'Tahir']\n",
            "Mubashir\n"
          ]
        }
      ],
      "source": [
        "# pop()\n",
        "# It is used to remove element from last .\n",
        "deleted_name = name.pop()\n",
        "print(name)\n",
        "print(deleted_name)"
      ]
    },
    {
      "cell_type": "code",
      "execution_count": 13,
      "metadata": {
        "colab": {
          "base_uri": "https://localhost:8080/"
        },
        "id": "D_gBs8DvH3Xl",
        "outputId": "c1ef8834-7af8-44a7-b83d-3637d28a698b"
      },
      "outputs": [
        {
          "name": "stdout",
          "output_type": "stream",
          "text": [
            "[]\n",
            "None\n"
          ]
        }
      ],
      "source": [
        "# clear()\n",
        "# It is used to remove all the elements from list and make it empty .\n",
        "deleted_name1 = name.clear()\n",
        "print(name)"
      ]
    },
    {
      "cell_type": "code",
      "execution_count": 29,
      "metadata": {
        "colab": {
          "base_uri": "https://localhost:8080/"
        },
        "id": "sALHDnCfKGfG",
        "outputId": "d31b3eae-5a62-402a-a998-e48ddbb0e737"
      },
      "outputs": [
        {
          "name": "stdout",
          "output_type": "stream",
          "text": [
            "['Azhar', 'Abdullah', 'Ayesha', 'Tahir', 'Mubashir', 'Tahir', 'Mubashir']\n"
          ]
        }
      ],
      "source": [
        "# remove()\n",
        "# It is used to remove element from value\n",
        "name.remove(\"Bushra\")\n",
        "print(name)"
      ]
    },
    {
      "cell_type": "code",
      "execution_count": 30,
      "metadata": {
        "colab": {
          "base_uri": "https://localhost:8080/"
        },
        "id": "f-HdYiP2L702",
        "outputId": "61dc7fac-4fef-4125-fd4a-19114fc06655"
      },
      "outputs": [
        {
          "data": {
            "text/plain": [
              "3"
            ]
          },
          "execution_count": 30,
          "metadata": {},
          "output_type": "execute_result"
        }
      ],
      "source": [
        "# index method\n",
        "# it is used to find the find the element at index .\n",
        "name.index(\"Tahir\",0,4)"
      ]
    },
    {
      "cell_type": "code",
      "execution_count": 32,
      "metadata": {
        "colab": {
          "base_uri": "https://localhost:8080/"
        },
        "id": "L3YNNLIIMai0",
        "outputId": "823450dc-a937-45d5-e3a0-c568bb26bc61"
      },
      "outputs": [
        {
          "name": "stdout",
          "output_type": "stream",
          "text": [
            "None\n",
            "[1, 2, 3, 4, 5, 6, 7, 8, 9]\n"
          ]
        }
      ],
      "source": [
        "# sort method\n",
        "n = [3,4,1,2,5,8,7,6,9]\n",
        "n.sort()\n",
        "print(n)"
      ]
    }
  ],
  "metadata": {
    "colab": {
      "include_colab_link": true,
      "provenance": []
    },
    "kernelspec": {
      "display_name": "Python 3",
      "name": "python3"
    },
    "language_info": {
      "name": "python"
    }
  },
  "nbformat": 4,
  "nbformat_minor": 0
}
