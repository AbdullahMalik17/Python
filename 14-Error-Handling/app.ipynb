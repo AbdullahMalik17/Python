{
  "cells": [
    {
      "cell_type": "markdown",
      "metadata": {
        "id": "view-in-github",
        "colab_type": "text"
      },
      "source": [
        "<a href=\"https://colab.research.google.com/github/AbdullahMalik17/Python/blob/main/app.ipynb\" target=\"_parent\"><img src=\"https://colab.research.google.com/assets/colab-badge.svg\" alt=\"Open In Colab\"/></a>"
      ]
    },
    {
      "cell_type": "markdown",
      "source": [
        "# Error handling\n",
        "They are used to make our code more understandable and it has less possibility of error .\n",
        "We use try and except method\n"
      ],
      "metadata": {
        "id": "b-w-NWkJwYwA"
      }
    },
    {
      "cell_type": "code",
      "source": [
        "\n",
        "try:\n",
        "  num8 = int(input(\"Enter a number ..\"))\n",
        "  num1 = num8 /10\n",
        "  print(num1)\n",
        "except ValueError:\n",
        "  print(\"Please , Give us a correct number\")\n",
        "except ZeroDivisionError:\n",
        "  print(\"Can't divide this\")\n",
        "else:\n",
        "  print(\"No error occurs\")\n",
        ""
      ],
      "metadata": {
        "colab": {
          "base_uri": "https://localhost:8080/"
        },
        "id": "jlpAnfBKxAuX",
        "outputId": "6354ac87-d80d-480d-ef98-08f078fcc59d"
      },
      "execution_count": 10,
      "outputs": [
        {
          "output_type": "stream",
          "name": "stdout",
          "text": [
            "Enter a number ..7\n",
            "0.7\n",
            "No error occurs\n"
          ]
        }
      ]
    },
    {
      "cell_type": "code",
      "source": [
        "import requests\n",
        "# API information\n",
        "url = \"https://chatify.najam.pk/api/v1/sendmessage\"\n",
        "params = {\n",
        "    \"Number\" : \"03126710602\" ,\n",
        "    \"Message\" : \"From Muhammad Abdullah\" ,\n",
        "    \"apikey\" : \"fjhdjhfjgt675ifgfr\"\n",
        "}\n",
        "try :\n",
        "  response = requests.get(url,params)\n",
        "  if response.status_code ==200:\n",
        "    print(\"Message sent completely .\")\n",
        "  else :\n",
        "    print(\"Message is not sent.\")\n",
        "except requests.exceptions.RequestException as e :\n",
        "  print(\"An error occur in sending process \")\n",
        "  print(e)\n",
        "\n"
      ],
      "metadata": {
        "colab": {
          "base_uri": "https://localhost:8080/"
        },
        "id": "wWQULtn0xnKu",
        "outputId": "7cbcd2cd-c5c3-4aff-843a-be69267019cd"
      },
      "execution_count": 16,
      "outputs": [
        {
          "output_type": "stream",
          "name": "stdout",
          "text": [
            "Message is not sent.\n"
          ]
        }
      ]
    }
  ],
  "metadata": {
    "language_info": {
      "name": "python"
    },
    "colab": {
      "provenance": [],
      "include_colab_link": true
    },
    "kernelspec": {
      "name": "python3",
      "display_name": "Python 3"
    }
  },
  "nbformat": 4,
  "nbformat_minor": 0
}