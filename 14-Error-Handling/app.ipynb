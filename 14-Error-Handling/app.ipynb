{
  "cells": [
    {
      "cell_type": "markdown",
      "metadata": {
        "colab_type": "text",
        "id": "view-in-github"
      },
      "source": [
        "<a href=\"https://colab.research.google.com/github/AbdullahMalik17/Python/blob/main/app.ipynb\" target=\"_parent\"><img src=\"https://colab.research.google.com/assets/colab-badge.svg\" alt=\"Open In Colab\"/></a>"
      ]
    },
    {
      "cell_type": "markdown",
      "metadata": {
        "id": "b-w-NWkJwYwA"
      },
      "source": [
        "# Error handling\n",
        "They are used to make our code more understandable and it has less possibility of error .\n",
        "We use try and except method.\n",
        "The types of error are follows:-\n",
        "- ZeroDivisionError\n",
        "- ValueError (TypeError)\n",
        "- requests.exceptions.RequestException\n"
      ]
    },
    {
      "cell_type": "code",
      "execution_count": 3,
      "metadata": {
        "colab": {
          "base_uri": "https://localhost:8080/"
        },
        "id": "jlpAnfBKxAuX",
        "outputId": "53eddc81-6b26-4c82-ccad-0d7d863531d1"
      },
      "outputs": [
        {
          "name": "stdout",
          "output_type": "stream",
          "text": [
            "Please , Give us a correct number\n"
          ]
        }
      ],
      "source": [
        "\n",
        "try:\n",
        "  num8 = int(input(\"Enter a number ..\"))\n",
        "  num1 = num8 /10\n",
        "  print(num1)\n",
        "except ValueError:\n",
        "  print(\"Please , Give us a correct number\")\n",
        "except ZeroDivisionError:\n",
        "  print(\"Can't divide this\")\n",
        "except Exception as e :     # we use Exception when we don't know about type .\n",
        "  print(\"This is not a correct value .\")\n",
        "else:\n",
        "  print(\"No error occurs\")\n"
      ]
    },
    {
      "cell_type": "code",
      "execution_count": 4,
      "metadata": {
        "colab": {
          "base_uri": "https://localhost:8080/"
        },
        "id": "wWQULtn0xnKu",
        "outputId": "20b3bd90-b3b3-4427-d5b3-40a10023a947"
      },
      "outputs": [
        {
          "ename": "ModuleNotFoundError",
          "evalue": "No module named 'requests'",
          "output_type": "error",
          "traceback": [
            "\u001b[1;31m---------------------------------------------------------------------------\u001b[0m",
            "\u001b[1;31mModuleNotFoundError\u001b[0m                       Traceback (most recent call last)",
            "Cell \u001b[1;32mIn[4], line 1\u001b[0m\n\u001b[1;32m----> 1\u001b[0m \u001b[38;5;28;01mimport\u001b[39;00m \u001b[38;5;21;01mrequests\u001b[39;00m\n\u001b[0;32m      2\u001b[0m \u001b[38;5;66;03m# API information\u001b[39;00m\n\u001b[0;32m      3\u001b[0m url \u001b[38;5;241m=\u001b[39m \u001b[38;5;124m\"\u001b[39m\u001b[38;5;124mhttps://chatify.najam.pk/api/v1/sendmediamessage\u001b[39m\u001b[38;5;124m\"\u001b[39m\n",
            "\u001b[1;31mModuleNotFoundError\u001b[0m: No module named 'requests'"
          ]
        }
      ],
      "source": [
        "import requests\n",
        "# API information\n",
        "url = \"https://chatify.najam.pk/api/v1/sendmediamessage\"\n",
        "params = {\n",
        "    \"number\" : \"03126710602\" ,\n",
        "    \"message\" : \"From Muhammad Abdullah\" ,\n",
        "    \"apikey\" : \"a1c3e4f5-6789-0123-bcde-456789abcdef\"\n",
        "}\n",
        "try :\n",
        "  response = requests.get(url,params=params)\n",
        "  if response.status_code == 200:\n",
        "    print(\"Message sent completely .\")\n",
        "  else :\n",
        "    print(f\"Message is not sent.{response.status_code}\")\n",
        "except IndentationError:\n",
        "  print(\"Write Your code in aright way .\")\n",
        "except requests.exceptions.RequestException as e :\n",
        "  print(\"An error occur in sending process \")\n",
        "  print(e)\n",
        "\n"
      ]
    },
    {
      "cell_type": "code",
      "execution_count": null,
      "metadata": {
        "id": "nVeMIDN_tD0W"
      },
      "outputs": [],
      "source": []
    }
  ],
  "metadata": {
    "colab": {
      "include_colab_link": true,
      "provenance": []
    },
    "kernelspec": {
      "display_name": "python67",
      "language": "python",
      "name": "python3"
    },
    "language_info": {
      "codemirror_mode": {
        "name": "ipython",
        "version": 3
      },
      "file_extension": ".py",
      "mimetype": "text/x-python",
      "name": "python",
      "nbconvert_exporter": "python",
      "pygments_lexer": "ipython3",
      "version": "3.12.7"
    }
  },
  "nbformat": 4,
  "nbformat_minor": 0
}
