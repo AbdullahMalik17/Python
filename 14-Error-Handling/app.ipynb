{
  "cells": [
    {
      "cell_type": "markdown",
      "metadata": {
        "id": "view-in-github",
        "colab_type": "text"
      },
      "source": [
        "<a href=\"https://colab.research.google.com/github/AbdullahMalik17/Python/blob/main/app.ipynb\" target=\"_parent\"><img src=\"https://colab.research.google.com/assets/colab-badge.svg\" alt=\"Open In Colab\"/></a>"
      ]
    },
    {
      "cell_type": "markdown",
      "source": [
        "# Error handling\n",
        "They are used to make our code more understandable and it has less possibility of error .\n",
        "We use try and except method.\n",
        "The types of error are follows:-\n",
        "- ZeroDivisionError\n",
        "- ValueError (TypeError)\n",
        "- requests.exceptions.RequestException\n"
      ],
      "metadata": {
        "id": "b-w-NWkJwYwA"
      }
    },
    {
      "cell_type": "code",
      "source": [
        "\n",
        "try:\n",
        "  num8 = int(input(\"Enter a number ..\"))\n",
        "  num1 = num8 /10\n",
        "  print(num1)\n",
        "except ValueError:\n",
        "  print(\"Please , Give us a correct number\")\n",
        "except ZeroDivisionError:\n",
        "  print(\"Can't divide this\")\n",
        "except Exception as e :     # we use Exception when we don't know about type .\n",
        "  print(\"This is not a correct value .\")\n",
        "else:\n",
        "  print(\"No error occurs\")\n"
      ],
      "metadata": {
        "id": "jlpAnfBKxAuX",
        "colab": {
          "base_uri": "https://localhost:8080/"
        },
        "outputId": "53eddc81-6b26-4c82-ccad-0d7d863531d1"
      },
      "execution_count": 18,
      "outputs": [
        {
          "output_type": "stream",
          "name": "stdout",
          "text": [
            "Enter a number ..``\n",
            "Please , Give us a correct number\n"
          ]
        }
      ]
    },
    {
      "cell_type": "code",
      "source": [
        "import requests\n",
        "# API information\n",
        "url = \"https://chatify.najam.pk/api/v1/sendmediamessage\"\n",
        "params = {\n",
        "    \"number\" : \"03126710602\" ,\n",
        "    \"message\" : \"From Muhammad Abdullah\" ,\n",
        "    \"apikey\" : \"a1c3e4f5-6789-0123-bcde-456789abcdef\"\n",
        "}\n",
        "try :\n",
        "  response = requests.get(url,params=params)\n",
        "  if response.status_code == 200:\n",
        "    print(\"Message sent completely .\")\n",
        "  else :\n",
        "    print(f\"Message is not sent.{response.status_code}\")\n",
        "except IndentationError:\n",
        "  print(\"Write Your code in aright way .\")\n",
        "except requests.exceptions.RequestException as e :\n",
        "  print(\"An error occur in sending process \")\n",
        "  print(e)\n",
        "\n"
      ],
      "metadata": {
        "id": "wWQULtn0xnKu",
        "colab": {
          "base_uri": "https://localhost:8080/"
        },
        "outputId": "20b3bd90-b3b3-4427-d5b3-40a10023a947"
      },
      "execution_count": 6,
      "outputs": [
        {
          "output_type": "stream",
          "name": "stdout",
          "text": [
            "Message is not sent.405\n"
          ]
        }
      ]
    },
    {
      "cell_type": "code",
      "source": [],
      "metadata": {
        "id": "nVeMIDN_tD0W"
      },
      "execution_count": null,
      "outputs": []
    }
  ],
  "metadata": {
    "language_info": {
      "name": "python"
    },
    "colab": {
      "provenance": [],
      "include_colab_link": true
    },
    "kernelspec": {
      "name": "python3",
      "display_name": "Python 3"
    }
  },
  "nbformat": 4,
  "nbformat_minor": 0
}