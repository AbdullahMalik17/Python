{
  "cells": [
    {
      "cell_type": "markdown",
      "metadata": {
        "id": "UUxLGDuea0hZ"
      },
      "source": [
        "# Function\n"
      ]
    },
    {
      "cell_type": "code",
      "execution_count": null,
      "metadata": {
        "colab": {
          "base_uri": "https://localhost:8080/",
          "height": 35
        },
        "id": "-Xv55rXWa0hf",
        "outputId": "149d50de-77a0-4fdd-c8da-a01c3a75af71",
        "vscode": {
          "languageId": "plaintext"
        }
      },
      "outputs": [
        {
          "data": {
            "application/vnd.google.colaboratory.intrinsic+json": {
              "type": "string"
            },
            "text/plain": [
              "'Assalam o Alaikum! Abdullah'"
            ]
          },
          "execution_count": 5,
          "metadata": {},
          "output_type": "execute_result"
        }
      ],
      "source": [
        "def greeting(greeting):\n",
        "  return f\"Assalam o Alaikum! {greeting}\"    # return is also used to print the string . And we do more work with it .\n",
        "\n",
        "greeting(\"Abdullah\")\n"
      ]
    },
    {
      "cell_type": "markdown",
      "metadata": {
        "id": "RzDAgw0ifyom"
      },
      "source": [
        "# default parameter\n"
      ]
    },
    {
      "cell_type": "code",
      "execution_count": null,
      "metadata": {
        "colab": {
          "base_uri": "https://localhost:8080/",
          "height": 52
        },
        "id": "2L_Wa7D6fxfM",
        "outputId": "2badc179-e119-4c09-c6dc-76cec3b2569f"
      },
      "outputs": [
        {
          "name": "stdout",
          "output_type": "stream",
          "text": [
            "Assalam o Alaikum ! Person\n"
          ]
        },
        {
          "data": {
            "application/vnd.google.colaboratory.intrinsic+json": {
              "type": "string"
            },
            "text/plain": [
              "'Assalam o Alaikum ! Abdullah'"
            ]
          },
          "execution_count": 23,
          "metadata": {},
          "output_type": "execute_result"
        }
      ],
      "source": [
        "# greeting() # it will give an error\n",
        "def greet_with_default(name = \"Person\"):\n",
        "  return f\"\"\"Assalam o Alaikum ! {name}\"\"\"\n",
        "\n",
        "print(greet_with_default())\n",
        "greet_with_default(\"Abdullah\")"
      ]
    },
    {
      "cell_type": "code",
      "execution_count": null,
      "metadata": {
        "colab": {
          "base_uri": "https://localhost:8080/"
        },
        "id": "3n-4iUoTvmaX",
        "outputId": "c670cb88-d5a3-4efe-dbf3-5624e5b006b3"
      },
      "outputs": [
        {
          "name": "stdout",
          "output_type": "stream",
          "text": [
            "1. Take Kettle. \n",
            "2. Put Milk .\n",
            "3. Put Patti \n",
            "4. Boil for a minute\n",
            "Your Tea is ready.\n"
          ]
        }
      ],
      "source": [
        "# Ending of Function\n",
        "def make_tea():\n",
        "  print(\"1. Take Kettle. \\n2. Put Milk .\\n3. Put Patti \\n4. Boil for a minute\")\n",
        "  return f\"Your Tea is ready.\"\n",
        "  print(\"x. You should wash your pots .\") # It don't run because program is end after return .\n",
        "tea1 = make_tea()\n",
        "print(tea1)"
      ]
    },
    {
      "cell_type": "markdown",
      "metadata": {
        "id": "C4hja_PL4PBy"
      },
      "source": [
        "# keyword argument"
      ]
    },
    {
      "cell_type": "code",
      "execution_count": null,
      "metadata": {
        "colab": {
          "base_uri": "https://localhost:8080/",
          "height": 35
        },
        "id": "sTLRzKC-4cf4",
        "outputId": "23108756-8713-454d-bf38-dd5538c45ccd"
      },
      "outputs": [
        {
          "data": {
            "application/vnd.google.colaboratory.intrinsic+json": {
              "type": "string"
            },
            "text/plain": [
              "'Assalam o Alaikum ! Abdullah'"
            ]
          },
          "execution_count": 12,
          "metadata": {},
          "output_type": "execute_result"
        }
      ],
      "source": [
        "def greet_with_default(name = \"Person\"):\n",
        "  return f\"\"\"Assalam o Alaikum ! {name}\"\"\"\n",
        "greet_with_default(name=\"Abdullah\")  # It is also called keyword argument ."
      ]
    },
    {
      "cell_type": "markdown",
      "metadata": {
        "id": "hhdW8cet6s8W"
      },
      "source": [
        "# Assignment"
      ]
    },
    {
      "cell_type": "code",
      "execution_count": null,
      "metadata": {
        "colab": {
          "base_uri": "https://localhost:8080/"
        },
        "id": "IXKvvHBz6vhi",
        "outputId": "a1285a7f-3c4f-4cfc-8d20-4165c6284bc4"
      },
      "outputs": [
        {
          "name": "stdout",
          "output_type": "stream",
          "text": [
            "6\n",
            "1\n"
          ]
        }
      ],
      "source": [
        "import random\n",
        "def roll_dice(limit : int = 6):\n",
        "  return random.randint(1,limit)\n",
        "\n",
        "print(roll_dice(7))\n",
        "print(roll_dice())\n",
        "\n"
      ]
    }
  ],
  "metadata": {
    "colab": {
      "include_colab_link": true,
      "provenance": []
    },
    "kernelspec": {
      "display_name": "Python 3",
      "name": "python3"
    },
    "language_info": {
      "name": "python"
    }
  },
  "nbformat": 4,
  "nbformat_minor": 0
}
