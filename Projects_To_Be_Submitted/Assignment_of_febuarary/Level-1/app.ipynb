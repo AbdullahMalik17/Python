{
  "cells": [
    {
      "cell_type": "markdown",
      "metadata": {
        "colab_type": "text",
        "id": "view-in-github"
      },
      "source": [
        "<a href=\"https://colab.research.google.com/github/AbdullahMalik17/Python/blob/main/app.ipynb\" target=\"_parent\"><img src=\"https://colab.research.google.com/assets/colab-badge.svg\" alt=\"Open In Colab\"/></a>"
      ]
    },
    {
      "cell_type": "code",
      "execution_count": null,
      "metadata": {
        "vscode": {
          "languageId": "plaintext"
        }
      },
      "outputs": [],
      "source": [
        "\n",
        "# Question no 1\n",
        "number = []\n",
        "for i in range(2000,3201):\n",
        "  # It return a value which divides by 7 but not the multiple of 5\n",
        "  if i%7==0 and i%5 != 0 :\n",
        "    # we use string method to make it string to apply the\n",
        "    number.append(str(i))\n",
        "print(\",\".join(number))"
      ]
    },
    {
      "cell_type": "code",
      "execution_count": null,
      "metadata": {
        "vscode": {
          "languageId": "plaintext"
        }
      },
      "outputs": [],
      "source": [
        "\n",
        "# Question no 2\n",
        "# We have to find the factorial of num as a parameter .\n",
        "def factorial(num1):\n",
        "  result=1\n",
        "  for i in range(1,num1+1):\n",
        "    result = result*i\n",
        "  return result\n",
        "number = 7\n",
        "factorial_of_number= factorial(8)\n",
        "print(f\"{factorial_of_number}\")"
      ]
    },
    {
      "cell_type": "code",
      "execution_count": null,
      "metadata": {
        "vscode": {
          "languageId": "plaintext"
        }
      },
      "outputs": [],
      "source": [
        "\n",
        "# Question no 3\n",
        "# We have to find the square of all the integral parts of number and give the result in dict\n",
        "def square(num):\n",
        "  return num*num\n",
        "\n",
        "for i in range(1,9):\n",
        "  square1 =square(i)\n",
        "  print(f\"{i}:{square(i)}\")"
      ]
    },
    {
      "cell_type": "code",
      "execution_count": null,
      "metadata": {
        "vscode": {
          "languageId": "plaintext"
        }
      },
      "outputs": [],
      "source": [
        "# Question no. 4\n",
        "list_1 = []\n",
        "for i in range(1,5):\n",
        " nums = int(input(\"Enter Few numbers \"))\n",
        " list_1.append(nums)\n",
        "print(list_1)\n",
        "print(tuple(list_1))"
      ]
    },
    {
      "cell_type": "code",
      "execution_count": null,
      "metadata": {
        "vscode": {
          "languageId": "plaintext"
        }
      },
      "outputs": [],
      "source": [
        "\n",
        "# Question no. 5\n",
        "class getting :\n",
        "  def __init__(self):\n",
        "    self.getstring = input(\"Enter you Name \")\n",
        "    self.printstring = self.getstring\n",
        "get = getting()\n",
        "print(get.getstring)"
      ]
    },
    {
      "cell_type": "code",
      "execution_count": null,
      "metadata": {
        "vscode": {
          "languageId": "plaintext"
        }
      },
      "outputs": [],
      "source": [
        "# Question no. 6\n",
        "# formula Q = Square root of [(2 * C * D)/H]\n",
        "import math\n",
        "c =  50\n",
        "h = 30\n",
        "def input_d():\n",
        "  d = int(input(\"Enter the value of H... \"))\n",
        "  q = math.sqrt((2 * c * d)/h)\n",
        "  q = round(q)\n",
        "  print(q)\n",
        "\n",
        "input_d()"
      ]
    },
    {
      "cell_type": "code",
      "execution_count": null,
      "metadata": {
        "vscode": {
          "languageId": "plaintext"
        }
      },
      "outputs": [],
      "source": [
        "# Question no 7\n",
        "# here we get two input and print two dimensional array .\n",
        "print( \"\"\"Generates a 2-dimensional array with element value i*j.\n",
        "\n",
        "  Args:\n",
        "    X: Number of rows.\n",
        "    Y: Number of columns.\n",
        "\n",
        "  Returns:\n",
        "    A 2-dimensional array.\n",
        "  \"\"\")\n",
        "x = int(input(\"Enter the value of rows... \"))\n",
        "y = int(input(\"Enter the value of column...  \"))\n",
        "array = []\n",
        "def two_d_array():\n",
        " for i in range(x):\n",
        "   row = []\n",
        "   for j in range(y):\n",
        "     row.append(i*j)\n",
        "   array.append(row)\n",
        "\n",
        "\n",
        "two_d_array()\n",
        "print(array)"
      ]
    },
    {
      "cell_type": "code",
      "execution_count": null,
      "metadata": {
        "vscode": {
          "languageId": "plaintext"
        }
      },
      "outputs": [],
      "source": [
        "# Question no 8\n",
        "list_of_words = []\n",
        "def input_words():\n",
        "  return input(\"Enter the names of things... \")\n",
        "\n",
        "name = input_words()\n",
        "while name != \"\":\n",
        "  list_of_words.append(name)\n",
        "  name = input_words()\n",
        "\n",
        "list_of_words.sort()\n",
        "print(list_of_words)"
      ]
    },
    {
      "cell_type": "code",
      "execution_count": null,
      "metadata": {
        "vscode": {
          "languageId": "plaintext"
        }
      },
      "outputs": [],
      "source": [
        "# Question no. 9\n",
        "line = input(\"Enter a line about you... \")\n",
        "line = line.upper()\n",
        "print(line)"
      ]
    },
    {
      "cell_type": "code",
      "execution_count": null,
      "metadata": {
        "vscode": {
          "languageId": "plaintext"
        }
      },
      "outputs": [],
      "source": [
        "# Question no. 10\n",
        "line = \"hello world and practice makes perfect and hello world again \"\n",
        "line = line.removeprefix(\"hello world\")\n",
        "words = line.split()\n",
        "words.sort()\n",
        "sorted_words = \" \".join(words)\n",
        "print(sorted_words)"
      ]
    },
    {
      "cell_type": "code",
      "execution_count": null,
      "metadata": {
        "vscode": {
          "languageId": "plaintext"
        }
      },
      "outputs": [],
      "source": [
        "# Question no . 11\n",
        "# We take input , convert ito binary and shows the output which is divisible by 5\n",
        "digit = int(input(\"Enter digits in binary ...\"),2)\n",
        "if digit % 5 == 0:\n",
        "  digit = bin(digit)\n",
        "  print(digit)\n",
        "else:\n",
        "  print(\"Not divisible by 5\")"
      ]
    },
    {
      "cell_type": "code",
      "execution_count": null,
      "metadata": {
        "vscode": {
          "languageId": "plaintext"
        }
      },
      "outputs": [],
      "source": [
        "# Question no. 12\n",
        "# Find even number and make the list .\n",
        "even_n = []\n",
        "for i in range(1000,3000+1):\n",
        "  if(i % 2 == 0):\n",
        "    even_n.append(i)\n",
        "\n",
        "print(even_n)"
      ]
    },
    {
      "cell_type": "code",
      "execution_count": null,
      "metadata": {
        "vscode": {
          "languageId": "plaintext"
        }
      },
      "outputs": [],
      "source": [
        "# Question no. 13\n",
        "# We get input and give result of letters and digits .\n",
        "# we use isaplha and isdigit method\n",
        "sentence = \"Hello World! 123\"\n",
        "letters = 0\n",
        "digits = 0\n",
        "for char in sentence:\n",
        "  if char.isalpha():\n",
        "    letters += 1\n",
        "  if char.isdigit():\n",
        "    digits += 1\n",
        "\n",
        "print(f\"Letters {letters} and Digits {digits}\")"
      ]
    },
    {
      "cell_type": "code",
      "execution_count": null,
      "metadata": {
        "vscode": {
          "languageId": "plaintext"
        }
      },
      "outputs": [],
      "source": [
        "# Question no 14\n",
        "# We will count the number of uppercase and lowercase letter in a sentence\n",
        "print(f\"\"\"This program will take a sentence .\n",
        "Tell about lowercase and uppercase .  \"\"\")\n",
        "\n",
        "uppercase = 0\n",
        "lowercase = 0\n",
        "sentence = input(\"Enter a sentence... \")\n",
        "for letter in sentence:\n",
        "  if letter.isupper():\n",
        "    uppercase +=1\n",
        "  if letter.islower():\n",
        "    lowercase +=1\n",
        "\n",
        "print(f\"Uppercase letter are {uppercase} and lowercase are {lowercase}\")"
      ]
    },
    {
      "cell_type": "code",
      "execution_count": null,
      "metadata": {
        "vscode": {
          "languageId": "plaintext"
        }
      },
      "outputs": [],
      "source": [
        "# Question no 16\n",
        "# here we take list , separate add number and again make list of square of odd numbers.\n",
        "print(f\"\"\"Give numbers to separate odd number.\n",
        "It will print square of odd number \"\"\")\n",
        "try:\n",
        " num = input(\"Enter numbers... \")\n",
        " num = num.split(\",\")\n",
        " num = list(num)\n",
        " num_square = []\n",
        " for i in range(0,len(num)):\n",
        "  num[i] = int(num[i])\n",
        "  if(num[i] % 2 != 0):\n",
        "    j = num[i]**2\n",
        "    num_square.append(j)\n",
        "    print(f\"The square of number is {j} \")\n",
        "\n",
        " print(num_square)\n",
        "except ValueError:\n",
        "  print(\"Enter correct value \")"
      ]
    },
    {
      "cell_type": "code",
      "execution_count": null,
      "metadata": {
        "vscode": {
          "languageId": "plaintext"
        }
      },
      "outputs": [],
      "source": [
        "# Question no. 17\n",
        "# D stands for deposit and W stands for withdraw\n",
        "# We will show the amount of net worth of bank .\n",
        "# It is necesarry to give give sp in use of D or W .\n",
        "input_supplied = input(\"Enter Transactions... \")\n",
        "transaction = input_supplied.split(\" \")\n",
        "len_trans = len(transaction)\n",
        "deposit = 0\n",
        "withdraw =0\n",
        "print(transaction)\n",
        "try:\n",
        " for i in range(0,len_trans,2):\n",
        "  if(transaction[i] == \"D\"):\n",
        "    deposit += int(transaction[i+1])\n",
        "  if(transaction[i] == \"W\"):\n",
        "     withdraw += int(transaction[i+1])\n",
        " net_worth = deposit - withdraw\n",
        " print(f\"The net worth of bank is {net_worth}\")\n",
        "except ValueError():\n",
        "  print(\"Enter Correct Value .\")"
      ]
    },
    {
      "cell_type": "code",
      "execution_count": null,
      "metadata": {
        "colab": {
          "base_uri": "https://localhost:8080/"
        },
        "id": "bzpoG_kf4lC_",
        "outputId": "1d8de2e9-39d7-460b-cb39-40ddf7b151ba",
        "vscode": {
          "languageId": "plaintext"
        }
      },
      "outputs": [
        {
          "name": "stdout",
          "output_type": "stream",
          "text": [
            "ABd1234@1\n"
          ]
        }
      ],
      "source": [
        "# Question no . 18\n",
        "# We have to test the criteria of password .\n",
        "# The criteria of password is as follows:-\n",
        "# At least 1 letter between [a-z]\n",
        "# At least 1 number between [0-9]\n",
        "# At least 1 letter between [A-Z]\n",
        "# At least 1 character from [$#@]\n",
        "# Minimum length of transaction password: 6\n",
        "# Maximum length of transaction password: 12\n",
        "# re is the module that is used for data search in match\n",
        "import re\n",
        "\n",
        "passwords = [\"ABd1234@1\", \"a F1#\", \"2w3E*\", \"2We3345\"]\n",
        "\n",
        "for password in passwords:\n",
        "    if (\n",
        "        6 <= len(password) <= 12\n",
        "        and re.search(\"[a-z]\", password)\n",
        "        and re.search(\"[A-Z]\", password)\n",
        "        and re.search(\"[0-9]\", password)\n",
        "        and re.search(\"[$#@]\", password)\n",
        "    ):\n",
        "        print(password)"
      ]
    },
    {
      "cell_type": "code",
      "execution_count": null,
      "metadata": {
        "colab": {
          "base_uri": "https://localhost:8080/"
        },
        "id": "sryWsNkD_q6I",
        "outputId": "be0bccbd-9b48-4efe-f7c4-f7a7b60d6844"
      },
      "outputs": [
        {
          "name": "stdout",
          "output_type": "stream",
          "text": [
            "[('Tom', 19, 80), ('John', 20, 90), ('Jony', 17, 91), ('Jony', 17, 93), ('Json', 21, 85)]\n",
            "[('John', 20, 90), ('Jony', 17, 91), ('Jony', 17, 93), ('Json', 21, 85), ('Tom', 19, 80)]\n"
          ]
        }
      ],
      "source": [
        "# Question no. 19\n",
        "# We have to sort the data in it .\n",
        "# Data will contain name , age and score .\n",
        "from operator import itemgetter\n",
        "entries = [\"Tom\",19,80,\"John\",20,90,\"Jony\",17,91,\"Jony\",17,93,\"Json\",21,85]\n",
        "tuple_list = list(zip(entries[::3], entries[1::3], entries[2::3]))\n",
        "sorted_list = sorted(tuple_list,key = itemgetter(0))\n",
        "print(sorted_list)\n"
      ]
    },
    {
      "cell_type": "code",
      "execution_count": null,
      "metadata": {
        "colab": {
          "base_uri": "https://localhost:8080/"
        },
        "id": "eB7L6LxcE0Dl",
        "outputId": "b6cd2900-1827-470d-908e-ee1fd85169e5"
      },
      "outputs": [
        {
          "name": "stdout",
          "output_type": "stream",
          "text": [
            "[0, 7, 14, 21, 28, 35, 42, 49, 56, 63, 70, 77, 84, 91, 98, 105, 112, 119, 126, 133, 140, 147, 154, 161, 168, 175, 182, 189, 196, 203, 210, 217, 224, 231, 238, 245, 252, 259, 266, 273, 280, 287, 294, 301, 308, 315, 322, 329, 336, 343, 350, 357, 364, 371, 378, 385, 392, 399, 406, 413, 420, 427, 434, 441, 448, 455, 462, 469, 476, 483, 490, 497, 504, 511, 518, 525, 532, 539, 546, 553, 560, 567, 574, 581, 588, 595, 602, 609, 616, 623, 630, 637, 644, 651, 658, 665, 672, 679, 686, 693, 700, 707, 714, 721, 728, 735, 742, 749, 756, 763, 770, 777, 784, 791, 798, 805, 812, 819, 826, 833, 840, 847, 854, 861, 868, 875, 882, 889, 896, 903, 910, 917, 924, 931, 938, 945, 952, 959, 966, 973, 980, 987, 994, 1001, 1008, 1015, 1022, 1029, 1036, 1043, 1050, 1057, 1064, 1071, 1078, 1085, 1092, 1099, 1106, 1113, 1120, 1127, 1134, 1141, 1148, 1155, 1162, 1169, 1176, 1183, 1190, 1197, 1204, 1211, 1218, 1225, 1232, 1239, 1246, 1253, 1260, 1267, 1274, 1281, 1288, 1295, 1302, 1309, 1316, 1323, 1330, 1337, 1344, 1351, 1358, 1365, 1372, 1379, 1386, 1393, 1400, 1407, 1414, 1421, 1428, 1435, 1442, 1449, 1456, 1463, 1470, 1477, 1484, 1491, 1498, 1505, 1512, 1519, 1526, 1533, 1540, 1547, 1554, 1561, 1568, 1575, 1582, 1589, 1596, 1603, 1610, 1617, 1624, 1631, 1638, 1645, 1652, 1659, 1666, 1673, 1680, 1687, 1694, 1701, 1708, 1715, 1722, 1729, 1736, 1743, 1750, 1757, 1764, 1771, 1778, 1785, 1792, 1799, 1806, 1813, 1820, 1827, 1834, 1841, 1848, 1855, 1862, 1869, 1876, 1883, 1890, 1897, 1904, 1911, 1918, 1925, 1932, 1939, 1946, 1953, 1960, 1967, 1974, 1981, 1988, 1995, 2002, 2009, 2016, 2023, 2030, 2037, 2044, 2051, 2058, 2065, 2072, 2079, 2086, 2093, 2100, 2107, 2114, 2121, 2128, 2135, 2142, 2149, 2156, 2163, 2170, 2177, 2184, 2191, 2198, 2205, 2212, 2219, 2226, 2233, 2240, 2247, 2254, 2261, 2268, 2275, 2282, 2289, 2296, 2303, 2310, 2317, 2324, 2331, 2338, 2345, 2352, 2359, 2366, 2373, 2380, 2387, 2394, 2401, 2408, 2415, 2422, 2429, 2436, 2443, 2450, 2457, 2464, 2471, 2478, 2485, 2492, 2499, 2506, 2513, 2520, 2527, 2534, 2541, 2548, 2555, 2562, 2569, 2576, 2583, 2590, 2597, 2604, 2611, 2618, 2625, 2632, 2639, 2646, 2653, 2660, 2667, 2674, 2681, 2688, 2695, 2702, 2709, 2716, 2723, 2730, 2737, 2744, 2751, 2758, 2765, 2772, 2779, 2786, 2793, 2800, 2807, 2814, 2821, 2828, 2835, 2842, 2849, 2856, 2863, 2870, 2877, 2884, 2891, 2898, 2905, 2912, 2919, 2926, 2933, 2940, 2947, 2954, 2961, 2968, 2975, 2982, 2989, 2996, 3003, 3010, 3017, 3024, 3031, 3038, 3045, 3052, 3059, 3066, 3073, 3080, 3087, 3094, 3101, 3108, 3115, 3122, 3129, 3136, 3143, 3150, 3157, 3164, 3171, 3178, 3185, 3192, 3199, 3206, 3213, 3220, 3227, 3234, 3241, 3248, 3255, 3262, 3269, 3276, 3283, 3290, 3297, 3304, 3311, 3318, 3325, 3332, 3339, 3346, 3353, 3360, 3367, 3374, 3381, 3388, 3395, 3402, 3409, 3416, 3423, 3430, 3437, 3444, 3451, 3458, 3465, 3472, 3479, 3486, 3493, 3500, 3507, 3514, 3521, 3528, 3535, 3542, 3549, 3556, 3563, 3570, 3577, 3584, 3591, 3598, 3605, 3612, 3619, 3626, 3633, 3640, 3647, 3654, 3661, 3668, 3675, 3682, 3689, 3696, 3703, 3710, 3717, 3724, 3731, 3738, 3745, 3752, 3759, 3766, 3773, 3780, 3787, 3794, 3801, 3808, 3815, 3822, 3829, 3836, 3843, 3850, 3857, 3864, 3871, 3878, 3885, 3892, 3899, 3906, 3913, 3920, 3927, 3934, 3941, 3948, 3955, 3962, 3969, 3976, 3983, 3990, 3997, 4004, 4011, 4018, 4025, 4032, 4039, 4046, 4053, 4060, 4067, 4074, 4081, 4088, 4095, 4102, 4109, 4116, 4123, 4130, 4137, 4144, 4151, 4158, 4165, 4172, 4179, 4186, 4193, 4200, 4207, 4214, 4221, 4228, 4235, 4242, 4249, 4256, 4263, 4270, 4277, 4284, 4291, 4298, 4305, 4312, 4319, 4326, 4333, 4340, 4347, 4354, 4361, 4368, 4375, 4382, 4389, 4396, 4403, 4410, 4417, 4424, 4431, 4438, 4445, 4452, 4459, 4466, 4473, 4480, 4487, 4494, 4501, 4508, 4515, 4522, 4529, 4536, 4543, 4550, 4557, 4564, 4571, 4578, 4585, 4592, 4599, 4606, 4613, 4620, 4627, 4634, 4641, 4648, 4655, 4662, 4669, 4676, 4683, 4690, 4697, 4704, 4711, 4718, 4725, 4732, 4739, 4746, 4753, 4760, 4767, 4774, 4781, 4788, 4795, 4802, 4809, 4816, 4823, 4830, 4837, 4844, 4851, 4858, 4865, 4872, 4879, 4886, 4893, 4900, 4907, 4914, 4921, 4928, 4935, 4942, 4949, 4956, 4963, 4970, 4977, 4984, 4991, 4998, 5005, 5012, 5019, 5026, 5033, 5040, 5047, 5054, 5061, 5068, 5075, 5082, 5089, 5096, 5103, 5110, 5117, 5124, 5131, 5138, 5145, 5152, 5159, 5166, 5173, 5180, 5187, 5194, 5201, 5208, 5215, 5222, 5229, 5236, 5243, 5250, 5257, 5264, 5271, 5278, 5285, 5292, 5299, 5306, 5313, 5320, 5327, 5334, 5341, 5348, 5355, 5362, 5369, 5376, 5383, 5390, 5397, 5404, 5411, 5418, 5425, 5432, 5439, 5446, 5453, 5460, 5467, 5474, 5481, 5488, 5495, 5502, 5509, 5516, 5523, 5530, 5537, 5544, 5551, 5558, 5565, 5572, 5579, 5586, 5593, 5600, 5607, 5614, 5621, 5628, 5635, 5642, 5649, 5656, 5663, 5670, 5677, 5684, 5691, 5698, 5705, 5712, 5719, 5726, 5733, 5740, 5747, 5754, 5761, 5768, 5775, 5782, 5789, 5796, 5803, 5810, 5817, 5824, 5831, 5838, 5845, 5852, 5859, 5866, 5873, 5880, 5887, 5894, 5901, 5908, 5915, 5922, 5929, 5936, 5943, 5950, 5957, 5964, 5971, 5978, 5985, 5992, 5999, 6006, 6013, 6020, 6027, 6034, 6041, 6048, 6055, 6062, 6069, 6076, 6083, 6090, 6097, 6104, 6111, 6118, 6125, 6132, 6139, 6146, 6153, 6160, 6167, 6174, 6181, 6188, 6195, 6202, 6209, 6216, 6223, 6230, 6237, 6244, 6251, 6258, 6265, 6272, 6279, 6286, 6293, 6300, 6307, 6314, 6321, 6328, 6335, 6342, 6349, 6356, 6363, 6370, 6377, 6384, 6391, 6398, 6405, 6412, 6419, 6426, 6433, 6440, 6447, 6454, 6461, 6468, 6475, 6482, 6489, 6496, 6503, 6510, 6517, 6524, 6531, 6538, 6545, 6552, 6559, 6566, 6573, 6580, 6587, 6594, 6601, 6608, 6615, 6622, 6629, 6636, 6643, 6650, 6657, 6664, 6671, 6678, 6685, 6692, 6699, 6706, 6713, 6720, 6727, 6734, 6741, 6748, 6755, 6762, 6769, 6776, 6783, 6790, 6797, 6804, 6811, 6818, 6825, 6832, 6839, 6846, 6853, 6860, 6867, 6874, 6881, 6888, 6895, 6902, 6909, 6916, 6923, 6930, 6937, 6944, 6951, 6958, 6965, 6972, 6979, 6986, 6993, 7000, 7007, 7014, 7021, 7028, 7035, 7042, 7049, 7056, 7063, 7070, 7077, 7084, 7091, 7098, 7105, 7112, 7119, 7126, 7133, 7140, 7147, 7154, 7161, 7168, 7175, 7182, 7189, 7196, 7203, 7210, 7217, 7224, 7231, 7238, 7245, 7252, 7259, 7266, 7273, 7280, 7287, 7294, 7301, 7308, 7315, 7322, 7329, 7336, 7343, 7350, 7357, 7364, 7371, 7378, 7385, 7392, 7399, 7406, 7413, 7420, 7427, 7434, 7441, 7448, 7455, 7462, 7469, 7476, 7483, 7490, 7497, 7504, 7511, 7518, 7525, 7532, 7539, 7546, 7553, 7560, 7567, 7574, 7581, 7588, 7595, 7602, 7609, 7616, 7623, 7630, 7637, 7644, 7651, 7658, 7665, 7672, 7679, 7686, 7693, 7700, 7707, 7714, 7721, 7728, 7735, 7742, 7749, 7756, 7763, 7770, 7777, 7784, 7791, 7798, 7805, 7812, 7819, 7826, 7833, 7840, 7847, 7854, 7861, 7868, 7875, 7882, 7889, 7896, 7903, 7910, 7917, 7924, 7931, 7938, 7945, 7952, 7959, 7966, 7973, 7980, 7987, 7994, 8001, 8008, 8015, 8022, 8029, 8036, 8043, 8050, 8057, 8064, 8071, 8078, 8085, 8092, 8099, 8106, 8113, 8120, 8127, 8134, 8141, 8148, 8155, 8162, 8169, 8176, 8183, 8190, 8197, 8204, 8211, 8218, 8225, 8232, 8239, 8246, 8253, 8260, 8267, 8274, 8281, 8288, 8295, 8302, 8309, 8316, 8323, 8330, 8337, 8344, 8351, 8358, 8365, 8372, 8379, 8386, 8393, 8400, 8407, 8414, 8421, 8428, 8435, 8442, 8449, 8456, 8463, 8470, 8477, 8484, 8491, 8498, 8505, 8512, 8519, 8526, 8533, 8540, 8547, 8554, 8561, 8568, 8575, 8582, 8589, 8596, 8603, 8610, 8617, 8624, 8631, 8638, 8645, 8652, 8659, 8666, 8673, 8680, 8687, 8694, 8701, 8708, 8715, 8722, 8729, 8736, 8743, 8750, 8757, 8764, 8771, 8778, 8785, 8792, 8799, 8806, 8813, 8820, 8827, 8834, 8841, 8848, 8855, 8862, 8869, 8876, 8883, 8890, 8897, 8904, 8911, 8918, 8925, 8932, 8939, 8946, 8953, 8960, 8967, 8974, 8981, 8988, 8995, 9002, 9009, 9016, 9023, 9030, 9037, 9044, 9051, 9058, 9065, 9072, 9079, 9086, 9093, 9100, 9107, 9114, 9121, 9128, 9135, 9142, 9149, 9156, 9163, 9170, 9177, 9184, 9191, 9198, 9205, 9212, 9219, 9226, 9233, 9240, 9247, 9254, 9261, 9268, 9275, 9282, 9289, 9296, 9303, 9310, 9317, 9324, 9331, 9338, 9345, 9352, 9359, 9366, 9373, 9380, 9387, 9394, 9401, 9408, 9415, 9422, 9429, 9436, 9443, 9450, 9457, 9464, 9471, 9478, 9485, 9492, 9499, 9506, 9513, 9520, 9527, 9534, 9541, 9548, 9555, 9562, 9569, 9576, 9583, 9590, 9597, 9604, 9611, 9618, 9625, 9632, 9639, 9646, 9653, 9660, 9667, 9674, 9681, 9688, 9695, 9702, 9709, 9716, 9723, 9730, 9737, 9744, 9751, 9758, 9765, 9772, 9779, 9786, 9793, 9800, 9807, 9814, 9821, 9828, 9835, 9842, 9849, 9856, 9863, 9870, 9877, 9884, 9891, 9898, 9905, 9912, 9919, 9926, 9933, 9940, 9947, 9954, 9961, 9968, 9975, 9982, 9989, 9996]\n"
          ]
        }
      ],
      "source": [
        "# Question no. 20\n",
        "# We will make a class that print number which are divisible by 7 \\\n",
        "class Divisible_seven :\n",
        "  def __init__(self,n):\n",
        "    self.n=n\n",
        "\n",
        "  def generate_number(self):\n",
        "    for i in range(self.n+1):\n",
        "      if i % 7 == 0:\n",
        "        yield i     # yield collects the vlues of i and store it .\n",
        "\n",
        "num = Divisible_seven(10000)\n",
        "print(list(num.generate_number()))"
      ]
    },
    {
      "cell_type": "code",
      "execution_count": null,
      "metadata": {
        "colab": {
          "base_uri": "https://localhost:8080/"
        },
        "id": "s_EggkwZexFy",
        "outputId": "5db38858-b2c8-4b72-8fd5-be86345c65ca"
      },
      "outputs": [
        {
          "name": "stdout",
          "output_type": "stream",
          "text": [
            "Enter direction of robots... UP 5 DOWN 3 LEFT 3 RIGHT 2\n",
            "2\n"
          ]
        }
      ],
      "source": [
        "# Question no. 21\n",
        "# We will find the distance through pythagorus formula .\n",
        "import math\n",
        "values = input(\"Enter direction of robots... \").upper().split()\n",
        "def distance_formula():\n",
        "  try:\n",
        "   position = [0,0]\n",
        "   for i in range(0,len(values),2):\n",
        "    if values[i] == \"UP\":\n",
        "      position[1] += int(values[i+1])\n",
        "    elif  values[i] == \"DOWN\":\n",
        "      position[1] -= int(values[i+1])\n",
        "    elif values[i] == \"RIGHT\":\n",
        "      position[0] += int(values[i+1])\n",
        "    elif  values[i] == \"LEFT\":\n",
        "      position[0] -= int(values[i+1])\n",
        "    else:\n",
        "      print()\n",
        "  except ValueError():\n",
        "    print(\"Please Give Correct Values\")\n",
        "  distance = math.sqrt(position[0]**2+position[1]**2)\n",
        "  print(round(distance))\n",
        "\n",
        "distance_formula()\n"
      ]
    },
    {
      "cell_type": "code",
      "execution_count": null,
      "metadata": {
        "id": "0tJOXv7ym9GR"
      },
      "outputs": [],
      "source": [
        "# Question no. 22"
      ]
    },
    {
      "cell_type": "code",
      "execution_count": null,
      "metadata": {
        "colab": {
          "base_uri": "https://localhost:8080/"
        },
        "id": "upSyzQ8Bni_a",
        "outputId": "838d5dd9-b1eb-4c15-a92f-fb1af006a388"
      },
      "outputs": [
        {
          "name": "stdout",
          "output_type": "stream",
          "text": [
            "64\n"
          ]
        }
      ],
      "source": [
        "# Question no. 23\n",
        "# We will make the class that returns square of paramater .\n",
        "class Square:\n",
        "  def __init__(self,n):\n",
        "    self.n = n\n",
        "  def square(self):\n",
        "    return self.n**2\n",
        "num = Square(8)\n",
        "print(num.square())"
      ]
    },
    {
      "cell_type": "code",
      "execution_count": null,
      "metadata": {
        "colab": {
          "base_uri": "https://localhost:8080/"
        },
        "id": "asxO5L5xonSM",
        "outputId": "37bae54b-8306-45d2-f264-14e841be7741"
      },
      "outputs": [
        {
          "name": "stdout",
          "output_type": "stream",
          "text": [
            "Forward raw_input to frontends\n",
            "\n",
            "        Raises\n",
            "        ------\n",
            "        StdinNotImplementedError if active frontend doesn't support stdin.\n",
            "        \n",
            "Return the absolute value of the argument.\n",
            "Convert a string or number to a floating point number, if possible.\n",
            "int([x]) -> integer\n",
            "int(x, base=10) -> integer\n",
            "\n",
            "Convert a number or string to an integer, or return 0 if no arguments\n",
            "are given.  If x is a number, return x.__int__().  For floating point\n",
            "numbers, this truncates towards zero.\n",
            "\n",
            "If x is not a number or if base is given, then x must be a string,\n",
            "bytes, or bytearray instance representing an integer literal in the\n",
            "given base.  The literal can be preceded by '+' or '-' and be surrounded\n",
            "by whitespace.  The base defaults to 10.  Valid bases are 0 and 2-36.\n",
            "Base 0 means to interpret the base from the string as an integer literal.\n",
            ">>> int('0b100', base=0)\n",
            "4\n",
            "None\n"
          ]
        }
      ],
      "source": [
        "# Question no. 24\n",
        "# Print documentation for built-in functions\n",
        "print(input.__doc__)\n",
        "print(abs.__doc__)\n",
        "print(float.__doc__)\n",
        "print(int.__doc__)\n",
        "def square(n):\n",
        "  return n**2\n",
        "\n",
        "print(square.__doc__)"
      ]
    },
    {
      "cell_type": "code",
      "execution_count": null,
      "metadata": {
        "id": "ac6NifWZrCAh"
      },
      "outputs": [],
      "source": [
        "# Question no. 25\n",
        "# Write a code of class\n",
        "class Dog:\n",
        "  def __init__(self,name,breed):\n",
        "    self.name = name\n",
        "    self.breed = breed\n",
        "\n",
        "dog1 = Dog(\"Fluffi\",\"Germensheferd\")"
      ]
    },
    {
      "cell_type": "code",
      "execution_count": null,
      "metadata": {
        "colab": {
          "base_uri": "https://localhost:8080/"
        },
        "id": "G-BnAZPHsavJ",
        "outputId": "8e123edd-a112-42a5-a16f-132fdce3a161"
      },
      "outputs": [
        {
          "name": "stdout",
          "output_type": "stream",
          "text": [
            "11\n",
            "7\n",
            "19\n"
          ]
        }
      ],
      "source": [
        "# Question no. 26\n",
        "# We will make a function that returns the sum of two numbers .\n",
        "def sum(a,b):\n",
        "  print(a+b)\n",
        "sum(5,6)\n",
        "sum(4,3)\n",
        "sum(12,7)"
      ]
    },
    {
      "cell_type": "code",
      "execution_count": null,
      "metadata": {
        "colab": {
          "base_uri": "https://localhost:8080/"
        },
        "id": "e7KhbNxKtJYS",
        "outputId": "f2096d51-249f-493d-fbbb-f40592dd9474"
      },
      "outputs": [
        {
          "name": "stdout",
          "output_type": "stream",
          "text": [
            "3\n"
          ]
        }
      ],
      "source": [
        "# Question no. 27\n",
        "# We will convert int into str and print a console .\n",
        "def printValue(n):\n",
        "  print(str(n))\n",
        "printValue(3)"
      ]
    },
    {
      "cell_type": "code",
      "execution_count": null,
      "metadata": {
        "colab": {
          "base_uri": "https://localhost:8080/"
        },
        "id": "glAfJZI9j_WC",
        "outputId": "806adc47-8e5f-47d8-dbd2-f2ae697dd519"
      },
      "outputs": [
        {
          "name": "stdout",
          "output_type": "stream",
          "text": [
            "3\n"
          ]
        }
      ],
      "source": [
        "# Question no. 28\n",
        "# We will convert str into int and print a console .\n",
        "def printValue(s1):\n",
        "  print(int(s1))\n",
        "printValue(\"3\")"
      ]
    },
    {
      "cell_type": "code",
      "execution_count": null,
      "metadata": {
        "colab": {
          "base_uri": "https://localhost:8080/"
        },
        "id": "OgL5-ef0tnzG",
        "outputId": "d4f93ed2-5db3-4d76-f8b7-b59fd420e715"
      },
      "outputs": [
        {
          "name": "stdout",
          "output_type": "stream",
          "text": [
            "7\n",
            "13\n"
          ]
        }
      ],
      "source": [
        "# Question no. 29\n",
        "# We will get two string number and print their sum .\n",
        "def printValue(s1,s2):\n",
        "  print(int(s1)+int(s2))\n",
        "printValue(\"3\",\"4\")\n",
        "printValue(\"6\",\"7\")"
      ]
    },
    {
      "cell_type": "code",
      "execution_count": null,
      "metadata": {
        "colab": {
          "base_uri": "https://localhost:8080/"
        },
        "id": "6Ebn6AVWumTX",
        "outputId": "d1c10f9b-6d09-4a03-b927-ac962ae9bc34"
      },
      "outputs": [
        {
          "name": "stdout",
          "output_type": "stream",
          "text": [
            "My name is Abdullah My father name is Athar\n"
          ]
        }
      ],
      "source": [
        "# Question no. 30\n",
        "# We will print the concatenation of two string\n",
        "def concate(para1:str,para2:str):\n",
        "  print(para1+para2)\n",
        "concate(\"My name is Abdullah \",'My father name is Athar')"
      ]
    },
    {
      "cell_type": "code",
      "execution_count": null,
      "metadata": {
        "colab": {
          "base_uri": "https://localhost:8080/"
        },
        "id": "AgWJOKdVvPZh",
        "outputId": "043d74e4-66be-41f9-9d47-a889eec5a4a8"
      },
      "outputs": [
        {
          "name": "stdout",
          "output_type": "stream",
          "text": [
            "The length of Abdullah is greater than Haleema\n"
          ]
        }
      ],
      "source": [
        "# Question no. 31\n",
        "# Define a function that can accept two strings as input and print the string with maximum length in console. If two strings have the same length, then the function should print al l strings line by line\n",
        "def printValue(s1,s2):\n",
        "  l1 = s1\n",
        "  l2 = s2\n",
        "  if len(l1) > len(l2):\n",
        "    print(f\"The length of {l1} is greater than {l2}\")\n",
        "  elif len(l1)<len(l2):\n",
        "    print(f\"The length of {l2} is greater than {l1}\")\n",
        "  else :\n",
        "    print(\"Both are equal.\")\n",
        "\n",
        "printValue(\"Abdullah\",\"Haleema\")"
      ]
    },
    {
      "cell_type": "code",
      "execution_count": null,
      "metadata": {
        "colab": {
          "base_uri": "https://localhost:8080/"
        },
        "id": "YsFBwuikmPIy",
        "outputId": "d237484c-1139-48ba-f963-b91197fa967e"
      },
      "outputs": [
        {
          "name": "stdout",
          "output_type": "stream",
          "text": [
            "The value of 7 is odd.\n",
            "The Value of 8 is even.\n"
          ]
        }
      ],
      "source": [
        "# Question no. 32\n",
        "# We define a function that tells the odd or even value .\n",
        "def even_odd(n):\n",
        "  if n % 2 == 0:\n",
        "    print(f\"The Value of {n} is even.\")\n",
        "  else:\n",
        "    print(f\"The value of {n} is odd.\")\n",
        "\n",
        "even_odd(7)\n",
        "even_odd(8)"
      ]
    },
    {
      "cell_type": "code",
      "execution_count": null,
      "metadata": {
        "colab": {
          "base_uri": "https://localhost:8080/"
        },
        "id": "fUGFtDtroL0Y",
        "outputId": "a3025fab-fe27-4d7f-c329-438b20331fab"
      },
      "outputs": [
        {
          "name": "stdout",
          "output_type": "stream",
          "text": [
            "{1: 1, 2: 4, 3: 9, 4: 16}\n"
          ]
        }
      ],
      "source": [
        "# Question no. 33\n",
        "# We will make the dictionary which print of value that is square of key .\n",
        "def printDict():\n",
        "  num : dict = {\n",
        "    1 : 1**2,\n",
        "    2 : 2**2,\n",
        "    3 : 3**2,\n",
        "    4 : 4**2\n",
        "    }\n",
        "\n",
        "  print(num)\n",
        "\n",
        "printDict()"
      ]
    },
    {
      "cell_type": "code",
      "execution_count": null,
      "metadata": {
        "colab": {
          "base_uri": "https://localhost:8080/"
        },
        "id": "EXOA01DMpUhr",
        "outputId": "735da3be-896a-4596-c594-0ee4dc6f7fd2"
      },
      "outputs": [
        {
          "name": "stdout",
          "output_type": "stream",
          "text": [
            "{1: 1, 2: 4, 3: 9, 4: 16, 5: 25, 6: 36, 7: 49, 8: 64, 9: 81, 10: 100, 11: 121, 12: 144, 13: 169, 14: 196, 15: 225, 16: 256, 17: 289, 18: 324, 19: 361, 20: 400}\n"
          ]
        }
      ],
      "source": [
        "# Question no. 34\n",
        "# This Question is related to above question .\n",
        "def printDict1():\n",
        " num1 : dict = {\n",
        "  }\n",
        " for i in range(1,21):\n",
        "   num1[i] = i**2\n",
        " print(num1)\n",
        "printDict1()\n"
      ]
    },
    {
      "cell_type": "code",
      "execution_count": null,
      "metadata": {
        "colab": {
          "base_uri": "https://localhost:8080/"
        },
        "id": "0kplQiPlsFMB",
        "outputId": "4811c7c4-4fed-4756-f7df-e011c05055cf"
      },
      "outputs": [
        {
          "name": "stdout",
          "output_type": "stream",
          "text": [
            "dict_values([1, 4, 9, 16, 25, 36, 49, 64, 81, 100, 121, 144, 169, 196, 225, 256, 289, 324, 361, 400])\n"
          ]
        }
      ],
      "source": [
        "# Question no. 35\n",
        "def printDict1():\n",
        " num1 : dict = {\n",
        "  }\n",
        " for i in range(1,21):\n",
        "   num1[i] = i**2\n",
        " print(num1.values())\n",
        "printDict1()"
      ]
    },
    {
      "cell_type": "code",
      "execution_count": null,
      "metadata": {
        "colab": {
          "base_uri": "https://localhost:8080/"
        },
        "id": "HZzmlLhaqe2u",
        "outputId": "644920b4-2dea-4dac-db9f-601282310b2a"
      },
      "outputs": [
        {
          "name": "stdout",
          "output_type": "stream",
          "text": [
            "dict_keys([1, 2, 3, 4, 5, 6, 7, 8, 9, 10, 11, 12, 13, 14, 15, 16, 17, 18, 19, 20])\n"
          ]
        }
      ],
      "source": [
        "# Question no. 36\n",
        "def printDict1():\n",
        " num1 : dict = {\n",
        "  }\n",
        " for i in range(1,21):\n",
        "   num1[i] = i**2\n",
        " print(num1.keys())\n",
        "printDict1()"
      ]
    },
    {
      "cell_type": "code",
      "execution_count": null,
      "metadata": {
        "colab": {
          "base_uri": "https://localhost:8080/"
        },
        "id": "ogwyjfBWr34i",
        "outputId": "62e8a463-7283-488a-8fea-816eba73bedb"
      },
      "outputs": [
        {
          "name": "stdout",
          "output_type": "stream",
          "text": [
            "[1, 4, 9, 16, 25, 36, 49, 64, 81, 100, 121, 144, 169, 196, 225, 256, 289, 324, 361, 400]\n"
          ]
        }
      ],
      "source": [
        "# Question no. 37\n",
        "square_n = []\n",
        "def prinlist():\n",
        "  for i in range(1,21):\n",
        "    square_n.append(i**2)\n",
        "\n",
        "  print(square_n)\n",
        "prinlist()\n"
      ]
    },
    {
      "cell_type": "code",
      "execution_count": null,
      "metadata": {
        "colab": {
          "base_uri": "https://localhost:8080/"
        },
        "id": "pwGDvNfwtFY1",
        "outputId": "ade4a231-e238-4ed0-b148-b0e1b2d796cd"
      },
      "outputs": [
        {
          "name": "stdout",
          "output_type": "stream",
          "text": [
            "[1, 4, 9, 16, 25]\n"
          ]
        }
      ],
      "source": [
        "# Question no. 38\n",
        "square_n = []\n",
        "def prinlist():\n",
        "  for i in range(1,21):\n",
        "    square_n.append(i**2)\n",
        "prinlist()\n",
        "sliced_number = square_n[0:5]\n",
        "print(sliced_number)"
      ]
    },
    {
      "cell_type": "code",
      "execution_count": null,
      "metadata": {
        "id": "k8cn9GGcujnf"
      },
      "outputs": [],
      "source": [
        "# Question no. 39\n",
        "square_n = []\n",
        "def prinlist():\n",
        "  for i in range(1,21):\n",
        "    square_n.append(i**2)\n",
        "prinlist()\n",
        "sliced_number = square_n[15:20]\n",
        "print(sliced_number)"
      ]
    },
    {
      "cell_type": "code",
      "execution_count": null,
      "metadata": {
        "colab": {
          "base_uri": "https://localhost:8080/"
        },
        "id": "dxqsN1qjutwa",
        "outputId": "09eb476c-6a18-4b3d-b089-2fb25a222478"
      },
      "outputs": [
        {
          "name": "stdout",
          "output_type": "stream",
          "text": [
            "[36, 49, 64, 81, 100, 121, 144, 169, 196, 225, 256, 289, 324, 361, 400]\n"
          ]
        }
      ],
      "source": [
        "# Question no. 40\n",
        "square_n = []\n",
        "def prinlist():\n",
        "  for i in range(1,21):\n",
        "    square_n.append(i**2)\n",
        "prinlist()\n",
        "sliced_number = square_n[5:20]\n",
        "print(sliced_number)"
      ]
    },
    {
      "cell_type": "code",
      "execution_count": null,
      "metadata": {
        "colab": {
          "base_uri": "https://localhost:8080/"
        },
        "id": "ZWPzrkc-vN5F",
        "outputId": "0cf17502-ae47-4929-a8a6-2f8093526d73"
      },
      "outputs": [
        {
          "name": "stdout",
          "output_type": "stream",
          "text": [
            "(1, 4, 9, 16, 25, 36, 49, 64, 81, 100, 121, 144, 169, 196, 225, 256, 289, 324, 361, 400)\n"
          ]
        }
      ],
      "source": [
        "# Question no. 41\n",
        "square_n = []\n",
        "def printuple():\n",
        "  for i in range(1,21):\n",
        "    square_n.append(i**2)\n",
        "\n",
        "  print(tuple(square_n))\n",
        "printuple()\n"
      ]
    },
    {
      "cell_type": "code",
      "execution_count": null,
      "metadata": {
        "colab": {
          "base_uri": "https://localhost:8080/"
        },
        "id": "TZ4nDHacwAlt",
        "outputId": "80f79ff9-1514-4bc8-8835-10d7dbfa4402"
      },
      "outputs": [
        {
          "name": "stdout",
          "output_type": "stream",
          "text": [
            "(1, 2, 3, 4, 5)\n"
          ]
        }
      ],
      "source": [
        "# Question no. 42\n",
        "tuple_1 = (1,2,3,4,5,6,7,8,9,10)\n",
        "print(tuple_1[0:5])"
      ]
    },
    {
      "cell_type": "code",
      "execution_count": null,
      "metadata": {
        "colab": {
          "base_uri": "https://localhost:8080/"
        },
        "id": "5xBAc9K8wbti",
        "outputId": "da1ab5fc-d913-4419-cef9-fbbcbb557a42"
      },
      "outputs": [
        {
          "name": "stdout",
          "output_type": "stream",
          "text": [
            "(2, 4, 6, 8, 10)\n"
          ]
        }
      ],
      "source": [
        "# Question no. 43\n",
        "# We will print a tuple of even number b/t 1_10\n",
        "list_1 = [1,2,3,4,5,6,7,8,9,10]\n",
        "even_list = []\n",
        "for i in range(1,len(list_1)+1):\n",
        "  if(i % 2 == 0):\n",
        "    even_list.append(i)\n",
        "print(tuple(even_list))"
      ]
    },
    {
      "cell_type": "code",
      "execution_count": null,
      "metadata": {
        "colab": {
          "base_uri": "https://localhost:8080/"
        },
        "id": "BbasTF8MxPRZ",
        "outputId": "ded17d19-4456-4d85-c9aa-a2b4b3787438"
      },
      "outputs": [
        {
          "name": "stdout",
          "output_type": "stream",
          "text": [
            "Enter Yes or no... yes\n",
            "Yes\n"
          ]
        }
      ],
      "source": [
        "# Question no. 44\n",
        "string = input(\"Enter Yes or no... \")\n",
        "if string.upper() == 'YES':\n",
        "  print(\"Yes\")\n",
        "else:\n",
        "  print(\"No\")"
      ]
    },
    {
      "cell_type": "code",
      "execution_count": null,
      "metadata": {
        "colab": {
          "base_uri": "https://localhost:8080/"
        },
        "id": "DJmHg6w1x6zh",
        "outputId": "d5bf966c-f549-41e0-bfcc-59e59c6dff28"
      },
      "outputs": [
        {
          "name": "stdout",
          "output_type": "stream",
          "text": [
            "[2, 4, 6, 8, 10]\n"
          ]
        }
      ],
      "source": [
        "# Question no. 45\n",
        "# We use filter function in it.\n",
        "list_3 = [1,2,3,4,5,6,7,8,9,10]\n",
        "even_number = filter(lambda x:x%2==0,list_3)\n",
        "# Filter get even number .\n",
        "even_number_list = list(even_number)\n",
        "# It will make the list .\n",
        "print(even_number_list)"
      ]
    },
    {
      "cell_type": "code",
      "execution_count": null,
      "metadata": {
        "colab": {
          "base_uri": "https://localhost:8080/"
        },
        "id": "TQFuuuDKh2uL",
        "outputId": "78c1a6b6-dbe3-4c77-b57f-0ab8ce211d02"
      },
      "outputs": [
        {
          "name": "stdout",
          "output_type": "stream",
          "text": [
            "[1, 4, 9, 16, 25, 36, 49, 64, 81, 100]\n"
          ]
        }
      ],
      "source": [
        "# Question no. 46\n",
        "# We will use map\n",
        "list_3 = [1,2,3,4,5,6,7,8,9,10]\n",
        "square_number = map(lambda x:x**2,list_3)\n",
        "# It will make the square of number\n",
        "square_number_list = list(square_number)\n",
        "print(square_number_list)"
      ]
    },
    {
      "cell_type": "code",
      "execution_count": null,
      "metadata": {
        "colab": {
          "base_uri": "https://localhost:8080/"
        },
        "id": "tzzaQZKbjDsN",
        "outputId": "42de0189-f1b0-4e92-810c-c2c165ece194"
      },
      "outputs": [
        {
          "name": "stdout",
          "output_type": "stream",
          "text": [
            "[4, 16, 36, 64, 100]\n"
          ]
        }
      ],
      "source": [
        "# Question no. 47\n",
        "list_3 = [1,2,3,4,5,6,7,8,9,10]\n",
        "even_num = filter(lambda x:x % 2 == 0,list_3)\n",
        "list_even_num = list(even_num)\n",
        "square_even_num = map(lambda x : x ** 2,list_even_num)\n",
        "list_square_even_num = list(square_even_num)\n",
        "print(list_square_even_num)"
      ]
    },
    {
      "cell_type": "code",
      "execution_count": null,
      "metadata": {
        "colab": {
          "base_uri": "https://localhost:8080/"
        },
        "id": "Jm-t1LOYkGoO",
        "outputId": "a5d773cf-66ac-48a1-86bb-52a90d343a4c"
      },
      "outputs": [
        {
          "name": "stdout",
          "output_type": "stream",
          "text": [
            "[2, 4, 6, 8, 10, 12, 14, 16, 18, 20]\n"
          ]
        }
      ],
      "source": [
        "# Question no. 48\n",
        "list_4 = []\n",
        "for i in range(1,21):\n",
        "  list_4.append(i)\n",
        "\n",
        "even_number = filter(lambda x:x%2==0,list_4)\n",
        "even_number_list = list(even_number)\n",
        "print(even_number_list)"
      ]
    },
    {
      "cell_type": "code",
      "execution_count": null,
      "metadata": {
        "colab": {
          "base_uri": "https://localhost:8080/"
        },
        "id": "-nodoEw6lNRu",
        "outputId": "07bbb953-7892-4f76-afd8-4167d00a771a"
      },
      "outputs": [
        {
          "name": "stdout",
          "output_type": "stream",
          "text": [
            "[1, 4, 9, 16, 25, 36, 49, 64, 81, 100, 121, 144, 169, 196, 225, 256, 289, 324, 361, 400]\n"
          ]
        }
      ],
      "source": [
        "# Question no. 49\n",
        "list_4 = []\n",
        "for i in range(1,21):\n",
        "  list_4.append(i)\n",
        "\n",
        "square_number = map(lambda x:x**2,list_4)\n",
        "list_square_number = list(square_number)\n",
        "print(list_square_number)"
      ]
    },
    {
      "cell_type": "code",
      "execution_count": null,
      "metadata": {
        "colab": {
          "base_uri": "https://localhost:8080/"
        },
        "id": "opdfAhcIlzrJ",
        "outputId": "c82f810b-d457-4954-f186-7baf9bd0b37a"
      },
      "outputs": [
        {
          "name": "stdout",
          "output_type": "stream",
          "text": [
            "I an American\n"
          ]
        }
      ],
      "source": [
        "# Question no. 50\n",
        "# We use static method\n",
        "class Nationality:\n",
        "  staticmethod\n",
        "  def American():\n",
        "    print(\"I an American\")\n",
        "\n",
        "nationality = Nationality.American()\n"
      ]
    },
    {
      "cell_type": "code",
      "execution_count": null,
      "metadata": {
        "colab": {
          "base_uri": "https://localhost:8080/"
        },
        "id": "9BnTqFHanlso",
        "outputId": "b1b9338d-47ab-40b2-bd10-39e73dcb3e99"
      },
      "outputs": [
        {
          "name": "stdout",
          "output_type": "stream",
          "text": [
            "Your name is Abdullah\n",
            "Your nationality is Pakistani\n",
            "AhmedPur East\n"
          ]
        }
      ],
      "source": [
        "# Question no. 51\n",
        "class American:\n",
        "  def __init__(self,name):\n",
        "   self.name = name\n",
        "   print(f\"Your name is {self.name}\")\n",
        "  def nationality(self,nattionality):\n",
        "    print(f\"Your nationality is {nattionality}\")\n",
        "\n",
        "class NewYork(American):\n",
        "  def __init__(self,name,borough):\n",
        "   super().__init__(name)\n",
        "   self.borough = borough\n",
        "\n",
        "  def borough(self):\n",
        "    print(f\"Your address is {self.borough} , New York\")\n",
        "newyork = NewYork(\"Abdullah\",\"AhmedPur East\")\n",
        "newyork.nationality(\"Pakistani\")\n",
        "print(newyork.borough)\n",
        "\n",
        "\n"
      ]
    },
    {
      "cell_type": "code",
      "execution_count": null,
      "metadata": {
        "colab": {
          "base_uri": "https://localhost:8080/"
        },
        "id": "s3YCuTtwtp4U",
        "outputId": "cfb824ee-5908-4d9f-9855-d6d94856759d"
      },
      "outputs": [
        {
          "name": "stdout",
          "output_type": "stream",
          "text": [
            "79\n"
          ]
        }
      ],
      "source": [
        "# Question no. 52\n",
        "# We will make the class which return area of circle.\n",
        "import math\n",
        "class Circle:\n",
        "  def __init__(self,radius):\n",
        "    area = math.pi*radius**2\n",
        "    print(round(area))\n",
        "area = Circle(5)\n"
      ]
    },
    {
      "cell_type": "code",
      "execution_count": null,
      "metadata": {
        "colab": {
          "base_uri": "https://localhost:8080/"
        },
        "id": "SWi5bHucvCHJ",
        "outputId": "42e70319-fb14-46fa-8ccc-3adab00a6494"
      },
      "outputs": [
        {
          "name": "stdout",
          "output_type": "stream",
          "text": [
            "16\n"
          ]
        }
      ],
      "source": [
        "# Question no. 53\n",
        "# We will make the class which return area of rectangle.\n",
        "class Rectangle:\n",
        "  def __init__(self,length,width):\n",
        "    area = length*width\n",
        "    print(area)\n",
        "\n",
        "rectangle = Rectangle(4,4)"
      ]
    },
    {
      "cell_type": "code",
      "execution_count": null,
      "metadata": {
        "colab": {
          "base_uri": "https://localhost:8080/"
        },
        "id": "7HpnrEAbvpqj",
        "outputId": "7fcc40c5-feb2-4b2c-ca53-2b8c075b0d7c"
      },
      "outputs": [
        {
          "name": "stdout",
          "output_type": "stream",
          "text": [
            "16\n",
            "36\n"
          ]
        }
      ],
      "source": [
        "# Question no. 54\n",
        "# We will make the class which tell about shape of figure\n",
        "class Shape:\n",
        "  def __init__(self,number_length):\n",
        "    self.number_length = number_length\n",
        "  def area(self):\n",
        "    if self.number_length != 0:\n",
        "      return self.number_length**2\n",
        "    else:\n",
        "      return 0\n",
        "class Square(Shape):\n",
        "  def __init__(self,length):\n",
        "    super().__init__(length)\n",
        "shape = Shape(4)\n",
        "print(shape.area())\n",
        "shape_1 = Square(6)\n",
        "print(shape_1.area())"
      ]
    },
    {
      "cell_type": "code",
      "execution_count": null,
      "metadata": {
        "colab": {
          "base_uri": "https://localhost:8080/"
        },
        "id": "8DiJcfpCzbBA",
        "outputId": "8d605eae-daa4-4fe6-ffcf-fd198ddafec2"
      },
      "outputs": [
        {
          "name": "stdout",
          "output_type": "stream",
          "text": [
            "\"This raise Run time error\n",
            "Run Time Error\n"
          ]
        }
      ],
      "source": [
        "# Question no. 55\n",
        "def run_time_error():\n",
        "  print(\"\"\"\"This raise Run time error\"\"\")\n",
        "  raise RuntimeError(\"This is the Run Time Error\")\n",
        "\n",
        "try:\n",
        "  run_time_error()\n",
        "except Exception as e :\n",
        "  print(\"Run Time Error\")"
      ]
    },
    {
      "cell_type": "code",
      "execution_count": null,
      "metadata": {
        "colab": {
          "base_uri": "https://localhost:8080/"
        },
        "id": "68Rp6XWo8z5L",
        "outputId": "7fcbb47f-df1c-4e7c-d6f0-d7d47d264c24"
      },
      "outputs": [
        {
          "name": "stdout",
          "output_type": "stream",
          "text": [
            "Any number can't be zero.\n"
          ]
        }
      ],
      "source": [
        "# Question no. 56\n",
        "def value():\n",
        "  n = 5/0\n",
        "\n",
        "try:\n",
        "  value()\n",
        "except ZeroDivisionError as e :\n",
        "  print(\"Any number can't be zero.\")"
      ]
    },
    {
      "cell_type": "code",
      "execution_count": null,
      "metadata": {
        "colab": {
          "base_uri": "https://localhost:8080/"
        },
        "id": "a9EyOQKK-Aea",
        "outputId": "60b98c45-530c-470f-d8d2-21179392fa55"
      },
      "outputs": [
        {
          "name": "stdout",
          "output_type": "stream",
          "text": [
            "Invalid Input\n"
          ]
        }
      ],
      "source": [
        "# Question no. 57\n",
        "class Input_Value_Error(Exception):\n",
        "  def __init__(self,message=\"Invalid Input\"):\n",
        "    super().__init__(message)\n",
        "\n",
        "def value_error(ch = \"abc\"):  # here , Our main purpose is to raise the error .\n",
        "    raise Input_Value_Error(\"Enter Correct Input\")\n",
        "\n",
        "try :\n",
        "  value_error()\n",
        "except Input_Value_Error as e:\n",
        "  print(\"Invalid Input\")\n"
      ]
    },
    {
      "cell_type": "code",
      "execution_count": null,
      "metadata": {
        "colab": {
          "base_uri": "https://localhost:8080/"
        },
        "id": "segbUkkZCVl6",
        "outputId": "579d45c8-9f55-4b1e-c618-59de542ce2e5"
      },
      "outputs": [
        {
          "name": "stdout",
          "output_type": "stream",
          "text": [
            "John\n"
          ]
        }
      ],
      "source": [
        "# Question no. 58\n",
        "input_1 = \"John@gmail.com\"\n",
        "value = input_1.split(\"@\")\n",
        "print(value[0])"
      ]
    },
    {
      "cell_type": "code",
      "execution_count": null,
      "metadata": {
        "colab": {
          "base_uri": "https://localhost:8080/"
        },
        "id": "rKaTILy-DOSx",
        "outputId": "9abb2a6f-dba0-4c7c-8340-11489b70b102"
      },
      "outputs": [
        {
          "name": "stdout",
          "output_type": "stream",
          "text": [
            "Enter Your email address... abdullahmalik@gmail.com\n",
            "gmail\n"
          ]
        }
      ],
      "source": [
        "# Question no. 59\n",
        "# Here  , we will print the email address of user .\n",
        "input_1 = input(\"Enter Your email address... \").lower()\n",
        "value = input_1.split(\"@\")\n",
        "print(value[1].split(\".\")[0])"
      ]
    },
    {
      "cell_type": "code",
      "execution_count": null,
      "metadata": {
        "id": "5W-KKEFHEvjN"
      },
      "outputs": [],
      "source": [
        "# Qusetion no. 60\n",
        "value = input(\"Enter a sequence of words that contain number... \")\n",
        "value_1 = value.split(\" \")\n",
        "digit = []\n",
        "for i in range(0,len(value_1)):\n",
        "  if value_1[i].isdigit():\n",
        "    digit.append(value_1[i])\n",
        "print(digit)"
      ]
    },
    {
      "cell_type": "code",
      "execution_count": 2,
      "metadata": {
        "colab": {
          "base_uri": "https://localhost:8080/"
        },
        "id": "mgpi8g2NFwsD",
        "outputId": "9e184865-8c9b-4200-c5cb-26884b3dbf6d"
      },
      "outputs": [
        {
          "name": "stdout",
          "output_type": "stream",
          "text": [
            "Hello World\n"
          ]
        }
      ],
      "source": [
        "# Question no. 61\n",
        "# u is the keyword that tell us it should be treated as Unicode.\n",
        "message = u\"Hello World\"\n",
        "print(message)\n"
      ]
    },
    {
      "cell_type": "code",
      "execution_count": 5,
      "metadata": {
        "colab": {
          "base_uri": "https://localhost:8080/"
        },
        "id": "Vf0ZaGbMHDHf",
        "outputId": "819031f8-5c44-478a-b80b-85c43378aa43"
      },
      "outputs": [
        {
          "name": "stdout",
          "output_type": "stream",
          "text": [
            "b'Hello'\n"
          ]
        }
      ],
      "source": [
        "# Question no. 62\n",
        "# We will convert our code into ASCII.\n",
        "def ascii_to_unicode_utf8(ascii_string):\n",
        "  unicode_string = ascii_string.encode('utf-8')\n",
        "  print(unicode_string)\n",
        "\n",
        "# Example usage\n",
        "ascii_str = \"Hello\"\n",
        "unicode_str = ascii_to_unicode_utf8(ascii_str)\n",
        "print(unicode_str) # Output: b'Hello'"
      ]
    },
    {
      "cell_type": "code",
      "execution_count": 11,
      "metadata": {
        "colab": {
          "base_uri": "https://localhost:8080/"
        },
        "id": "Lz6XgrfJKFTu",
        "outputId": "5503bfd3-dc38-42d3-bba5-8fbb097571d9"
      },
      "outputs": [
        {
          "name": "stdout",
          "output_type": "stream",
          "text": [
            "b\"print('Abdullah')\"\n"
          ]
        }
      ],
      "source": [
        "# Question no. 63\n",
        "with open(\"Abdullah.py\",\"w+\") as file:\n",
        " file.write(\"print('Abdullah')\")\n",
        " file.seek(0)\n",
        " message = file.read()\n",
        "# Here , we will print unicode into ascii\n",
        "message_ascii = message.encode('ascii')\n",
        "print(message_ascii)"
      ]
    },
    {
      "cell_type": "code",
      "execution_count": 13,
      "metadata": {
        "colab": {
          "base_uri": "https://localhost:8080/"
        },
        "id": "gZRULeUJMa3Z",
        "outputId": "576ba150-e3a3-47aa-8b20-9e4228de5dc2"
      },
      "outputs": [
        {
          "name": "stdout",
          "output_type": "stream",
          "text": [
            "Enter a number 5\n",
            "3.5500000000000003\n"
          ]
        }
      ],
      "source": [
        "# Question no. 64\n",
        "# It will give number to find binomial theorem .\n",
        "value = int(input(\"Enter a number \"))\n",
        "ans = 0\n",
        "for i in range(1,value+1):\n",
        "  ans += i/(i+1)\n",
        "print(ans)"
      ]
    },
    {
      "cell_type": "code",
      "execution_count": null,
      "metadata": {
        "id": "dOLSf2rhOYM9"
      },
      "outputs": [],
      "source": [
        "# Question no. 65\n",
        "# We will find f(n)=f(n-1)+100\n",
        "n = int(input(\"Enter a number \"))\n",
        "def f(n):\n",
        "  if n == 0: # Base case: when n is 0, return 0\n",
        "    return 1\n",
        "  else:\n",
        "    return f(n-1)+100 # Recursive step: f(n) = f(n-1) + 100\n",
        "print(f(n))"
      ]
    },
    {
      "cell_type": "code",
      "execution_count": 36,
      "metadata": {
        "colab": {
          "base_uri": "https://localhost:8080/"
        },
        "id": "KW5u8kYASVSY",
        "outputId": "dcc93101-9c40-4836-c14b-af3c999c00ab"
      },
      "outputs": [
        {
          "name": "stdout",
          "output_type": "stream",
          "text": [
            "Enter a number 7\n",
            "13\n"
          ]
        }
      ],
      "source": [
        "# Question no. 66\n",
        "# We will find f(n)=0 if n=0 f(n)=1 if n=1 f(n)=f(n-1)+f(n-2) if n>1\n",
        "n = int(input(\"Enter a number \"))\n",
        "\n",
        "def f1(n):\n",
        "  if n == 0:\n",
        "    return 0\n",
        "  elif n == 1:\n",
        "    return 1\n",
        "  else:\n",
        "    return f1(n-1) + f1(n-2)\n",
        "\n",
        "print(f1(n))\n"
      ]
    },
    {
      "cell_type": "code",
      "execution_count": 41,
      "metadata": {
        "colab": {
          "base_uri": "https://localhost:8080/"
        },
        "id": "f58F-_gZUpjt",
        "outputId": "b1b88783-38a5-4577-c996-59842363e257"
      },
      "outputs": [
        {
          "name": "stdout",
          "output_type": "stream",
          "text": [
            "Enter a number 7\n",
            "0_1_1_2_3_5_8_13\n"
          ]
        }
      ],
      "source": [
        "# Question no. 67\n",
        "n = int(input(\"Enter a number \"))\n",
        "\n",
        "def f1(n):\n",
        "  if n == 0:\n",
        "    return 0\n",
        "  elif n == 1:\n",
        "    return 1\n",
        "  else:\n",
        "    return f1(n-1) + f1(n-2)\n",
        "list1 = [f1(i) for i in range(n+1)]\n",
        "print(\",\".join(map(str,list1)))\n",
        "\n",
        "\n"
      ]
    },
    {
      "cell_type": "code",
      "execution_count": 60,
      "metadata": {
        "colab": {
          "base_uri": "https://localhost:8080/"
        },
        "id": "fu6NbkvnW26-",
        "outputId": "252e1a0d-383b-4ac4-8297-0ae2f61e5276"
      },
      "outputs": [
        {
          "name": "stdout",
          "output_type": "stream",
          "text": [
            "Enter a number to find even number 8\n",
            "[0, 2, 4, 6, 8]\n"
          ]
        }
      ],
      "source": [
        "# Question no. 68\n",
        "n1 = int(input(\"Enter a number to find even number \"))\n",
        "def even(n):\n",
        " while n>=0:\n",
        "  if n % 2 == 0:\n",
        "    yield n\n",
        "  n -= 1\n",
        "\n",
        "nums = even(n1)\n",
        "even_list = []\n",
        "for num in nums:\n",
        "  even_list.append(num)\n",
        "print(sorted(even_list))"
      ]
    },
    {
      "cell_type": "code",
      "execution_count": 1,
      "metadata": {
        "colab": {
          "base_uri": "https://localhost:8080/"
        },
        "id": "RJNIeMDXasC7",
        "outputId": "eea470e9-64ae-4c25-ab39-1a8362ee57fc"
      },
      "outputs": [
        {
          "name": "stdout",
          "output_type": "stream",
          "text": [
            "Enter a number 1000\n",
            "[0, 35, 70, 105, 140, 175, 210, 245, 280, 315, 350, 385, 420, 455, 490, 525, 560, 595, 630, 665, 700, 735, 770, 805, 840, 875, 910, 945, 980]\n"
          ]
        }
      ],
      "source": [
        "# Question no. 69\n",
        "n2 = int(input(\"Enter a number \"))\n",
        "num_div_7_5 =[]\n",
        "while n2 >= 0:\n",
        " if n2 % 5 == 0 and n2 % 7 ==0:\n",
        "  num_div_7_5.append(n2)\n",
        " n2 -= 1\n",
        "print(sorted(num_div_7_5))\n",
        "\n"
      ]
    },
    {
      "cell_type": "code",
      "execution_count": 5,
      "metadata": {
        "id": "Ulfc4pnQedQe"
      },
      "outputs": [],
      "source": [
        "# Question no. 70\n",
        "number = [2,4,6,8]\n",
        "for num in number:\n",
        "  assert num % 2 == 0 , f\"number is not even\""
      ]
    }
  ],
  "metadata": {
    "colab": {
      "include_colab_link": true,
      "provenance": []
    },
    "kernelspec": {
      "display_name": "Python 3",
      "name": "python3"
    },
    "language_info": {
      "name": "python"
    }
  },
  "nbformat": 4,
  "nbformat_minor": 0
}
