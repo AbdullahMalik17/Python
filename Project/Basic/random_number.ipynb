{
  "cells": [
    {
      "cell_type": "markdown",
      "metadata": {
        "id": "view-in-github",
        "colab_type": "text"
      },
      "source": [
        "<a href=\"https://colab.research.google.com/github/AbdullahMalik17/Python/blob/main/random_number.ipynb\" target=\"_parent\"><img src=\"https://colab.research.google.com/assets/colab-badge.svg\" alt=\"Open In Colab\"/></a>"
      ]
    },
    {
      "cell_type": "code",
      "execution_count": 4,
      "metadata": {
        "vscode": {
          "languageId": "plaintext"
        },
        "colab": {
          "base_uri": "https://localhost:8080/"
        },
        "id": "6wjRImtQQzcF",
        "outputId": "4f3e1558-67a3-49bd-dcf4-d0c4c06d0adb"
      },
      "outputs": [
        {
          "output_type": "stream",
          "name": "stdout",
          "text": [
            "3\n",
            "45\n",
            "27\n",
            "96\n",
            "21\n",
            "80\n",
            "32\n",
            "60\n",
            "30\n",
            "7\n"
          ]
        }
      ],
      "source": [
        "import random\n",
        "def random1():\n",
        "  return random.randint(1,100)\n",
        "\n",
        "print(random1())\n",
        "print(random1())\n",
        "print(random1())\n",
        "print(random1())\n",
        "print(random1())\n",
        "print(random1())\n",
        "print(random1())\n",
        "print(random1())\n",
        "print(random1())\n",
        "print(random1())\n",
        ""
      ]
    }
  ],
  "metadata": {
    "language_info": {
      "name": "python"
    },
    "colab": {
      "provenance": [],
      "include_colab_link": true
    },
    "kernelspec": {
      "name": "python3",
      "display_name": "Python 3"
    }
  },
  "nbformat": 4,
  "nbformat_minor": 0
}