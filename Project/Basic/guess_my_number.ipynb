{
  "cells": [
    {
      "cell_type": "markdown",
      "metadata": {
        "id": "view-in-github",
        "colab_type": "text"
      },
      "source": [
        "<a href=\"https://colab.research.google.com/github/AbdullahMalik17/Python/blob/main/guess_my_number.ipynb\" target=\"_parent\"><img src=\"https://colab.research.google.com/assets/colab-badge.svg\" alt=\"Open In Colab\"/></a>"
      ]
    },
    {
      "cell_type": "markdown",
      "metadata": {
        "id": "YeqBz532Nm_6"
      },
      "source": [
        "# Guess my number game"
      ]
    },
    {
      "cell_type": "code",
      "execution_count": 5,
      "metadata": {
        "vscode": {
          "languageId": "plaintext"
        },
        "colab": {
          "base_uri": "https://localhost:8080/"
        },
        "id": "Ye12_IioNnAA",
        "outputId": "652e0663-c37d-44f9-d294-c429ec5a1df8"
      },
      "outputs": [
        {
          "name": "stdout",
          "output_type": "stream",
          "text": [
            "Guess a number between 1-99... 8\n",
            "Too low\n",
            "Guess a number between 1-99... 8\n"
          ]
        }
      ],
      "source": [
        "number  = 49\n",
        "def guess():\n",
        "  return int(input(\"Guess a number between 1-99... \"))\n",
        "guess_1 = guess()\n",
        "if (guess_1 < 49):\n",
        "  print(\"Too low\")\n",
        "  guess_1 = guess()\n",
        "elif (guess_1 == 50):\n",
        "  print(\"Nearly equal to\")\n",
        "  guess_1 = guess()\n",
        "elif (guess_1 == 49):\n",
        "  print(\"You win\")\n",
        "else :\n",
        "  print(\"Too High\")\n",
        "  guess_1 = guess()"
      ]
    },
    {
      "cell_type": "code",
      "execution_count": null,
      "metadata": {
        "vscode": {
          "languageId": "plaintext"
        },
        "id": "doJdqhZ1NnAE"
      },
      "outputs": [],
      "source": []
    }
  ],
  "metadata": {
    "language_info": {
      "name": "python"
    },
    "colab": {
      "provenance": [],
      "include_colab_link": true
    },
    "kernelspec": {
      "name": "python3",
      "display_name": "Python 3"
    }
  },
  "nbformat": 4,
  "nbformat_minor": 0
}