{
  "cells": [
    {
      "cell_type": "markdown",
      "metadata": {
        "id": "view-in-github",
        "colab_type": "text"
      },
      "source": [
        "<a href=\"https://colab.research.google.com/github/AbdullahMalik17/Python/blob/main/high_level.ipynb\" target=\"_parent\"><img src=\"https://colab.research.google.com/assets/colab-badge.svg\" alt=\"Open In Colab\"/></a>"
      ]
    },
    {
      "cell_type": "markdown",
      "metadata": {
        "id": "ONVMVVpsls12"
      },
      "source": [
        "# Handout game\n"
      ]
    },
    {
      "cell_type": "code",
      "execution_count": null,
      "metadata": {
        "colab": {
          "base_uri": "https://localhost:8080/"
        },
        "id": "SD_gGBsHls18",
        "outputId": "809f3b53-9336-4fde-df17-a436c31a267c"
      },
      "outputs": [
        {
          "output_type": "stream",
          "name": "stdout",
          "text": [
            "Welcome to high level game\n",
            "------------------------------\n",
            "round 1\n"
          ]
        }
      ],
      "source": [
        "# Here we will play five rounds .\n",
        "# Your Score will increase when you judge correctly .\n",
        "import random\n",
        "computer_number = 0\n",
        "user_number = 0\n",
        "def message():\n",
        " return input(\"Do you think your number is higher or lower than the computer's? : \")\n",
        "def handout_game():\n",
        " try:\n",
        "    print(\"\"\"Welcome to high level game\"\"\")\n",
        "    print(\"-\"*30)\n",
        "    score = 0\n",
        "    for i in range(1,6):\n",
        "      print(f\"round {i}\")\n",
        "      user_number = int(input(\"Enter your number \"))\n",
        "      print(\"-\"*30)\n",
        "      computer_number = random.randint(1,100)\n",
        "      data = message().lower()\n",
        "      if(data == \"lower\"):\n",
        "        print(user_number<computer_number,f\"Great You judge corectly computer number is  {computer_number}\")\n",
        "        if user_number<computer_number:\n",
        "          score += 1\n",
        "      elif(data == \"higher\"):\n",
        "        print(user_number>computer_number,f\"Great You judge corectly computer number is  {computer_number}\")\n",
        "        if user_number>computer_number:\n",
        "          score += 1\n",
        "      else:\n",
        "        print(f\"You lose computer number is {computer_number}\")\n",
        "    print(f\"Your final score is {score}\")\n",
        "\n",
        " except Exception as e:\n",
        "  print(\"Follow game rules\")\n",
        "  handout_game()\n",
        "handout_game()\n",
        "\n",
        "\n",
        "\n",
        "\n",
        "\n",
        "\n",
        "\n",
        "\n",
        "\n"
      ]
    }
  ],
  "metadata": {
    "colab": {
      "provenance": [],
      "include_colab_link": true
    },
    "kernelspec": {
      "display_name": "Python 3",
      "name": "python3"
    },
    "language_info": {
      "name": "python"
    }
  },
  "nbformat": 4,
  "nbformat_minor": 0
}