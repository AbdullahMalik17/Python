{
  "cells": [
    {
      "cell_type": "markdown",
      "metadata": {
        "colab_type": "text",
        "id": "view-in-github"
      },
      "source": [
        "<a href=\"https://colab.research.google.com/github/AbdullahMalik17/Python/blob/main/app.ipynb\" target=\"_parent\"><img src=\"https://colab.research.google.com/assets/colab-badge.svg\" alt=\"Open In Colab\"/></a>"
      ]
    },
    {
      "cell_type": "markdown",
      "metadata": {
        "id": "F2QcCZ4-jzyb"
      },
      "source": [
        "# logical operator\n",
        "- and\n",
        "- or\n",
        "- not"
      ]
    },
    {
      "cell_type": "code",
      "execution_count": null,
      "metadata": {
        "colab": {
          "base_uri": "https://localhost:8080/"
        },
        "id": "ZozJdcb3kaVY",
        "outputId": "16ec06f8-df0b-4af8-9929-c7161538e0fe"
      },
      "outputs": [
        {
          "name": "stdout",
          "output_type": "stream",
          "text": [
            "Enter weather:raining\n",
            "Enter your age:5\n",
            "You can't go outside .\n"
          ]
        }
      ],
      "source": [
        "weather = input(\"Enter weather:\")\n",
        "age = int(input(\"Enter your age:\"))\n",
        "if weather == \"raining\" and age < 18 :\n",
        "  print(\"You can't go outside .\")\n",
        "else :\n",
        "  print(\"You can go out.\")"
      ]
    },
    {
      "cell_type": "code",
      "execution_count": null,
      "metadata": {
        "colab": {
          "base_uri": "https://localhost:8080/"
        },
        "id": "XSiSgHZblevN",
        "outputId": "4a2c8547-1fe5-48fa-ab4b-78134dd0dd67"
      },
      "outputs": [
        {
          "name": "stdout",
          "output_type": "stream",
          "text": [
            "Enter your age:57\n",
            "Enter your weight:777\n",
            "You are overweight .\n"
          ]
        }
      ],
      "source": [
        "age = int(input(\"Enter your age:\"))\n",
        "weight = int(input('Enter your weight:'))   # Always same type of data type can be compare .\n",
        "if age < 18 and weight < 30:\n",
        "  print(\"You can't sit at a rollercoster \")\n",
        "elif age > 18 and age < 60 and weight < 60 :\n",
        "  print(\"You can ride rollercoster.\")\n",
        "else :\n",
        "  print(\"You are overweight .\")"
      ]
    },
    {
      "cell_type": "markdown",
      "metadata": {
        "id": "uUFA4t51YuJ8"
      },
      "source": [
        "# Assignments of logical operators"
      ]
    },
    {
      "cell_type": "code",
      "execution_count": null,
      "metadata": {
        "colab": {
          "base_uri": "https://localhost:8080/",
          "height": 384
        },
        "id": "bvbOu05PY3E-",
        "outputId": "53a6451a-3994-4487-ae9b-739521f7850b"
      },
      "outputs": [],
      "source": [
        "\n",
        "is_hungry = False\n",
        "burger_lover = False\n",
        "pizza_lover = False\n",
        "if is_hungry :\n",
        "  if burger_lover or pizza_lover :\n",
        "    print(\"Please order the food.\")\n",
        "  else :\n",
        "    print(\"You can sleep without eating .\")\n",
        "else :\n",
        "  print(\"Not hungry \".center(70,\"-\").title())\n",
        "\n",
        "\n"
      ]
    }
  ],
  "metadata": {
    "colab": {
      "include_colab_link": true,
      "provenance": []
    },
    "kernelspec": {
      "display_name": "Python 3",
      "name": "python3"
    },
    "language_info": {
      "name": "python"
    }
  },
  "nbformat": 4,
  "nbformat_minor": 0
}
