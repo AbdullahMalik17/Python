{
  "cells": [
    {
      "cell_type": "markdown",
      "metadata": {
        "id": "F2QcCZ4-jzyb"
      },
      "source": [
        "# logical operator\n",
        "- and\n",
        "- or\n",
        "- not"
      ]
    },
    {
      "cell_type": "code",
      "execution_count": 2,
      "metadata": {
        "colab": {
          "base_uri": "https://localhost:8080/"
        },
        "id": "ZozJdcb3kaVY",
        "outputId": "16ec06f8-df0b-4af8-9929-c7161538e0fe"
      },
      "outputs": [
        {
          "name": "stdout",
          "output_type": "stream",
          "text": [
            "Enter weather:raining\n",
            "Enter your age:5\n",
            "You can't go outside .\n"
          ]
        }
      ],
      "source": [
        "weather = input(\"Enter weather:\")\n",
        "age = int(input(\"Enter your age:\"))\n",
        "if weather == \"raining\" and age < 18 :\n",
        "  print(\"You can't go outside .\")\n",
        "else :\n",
        "  print(\"You can go out.\")"
      ]
    },
    {
      "cell_type": "code",
      "execution_count": 8,
      "metadata": {
        "colab": {
          "base_uri": "https://localhost:8080/"
        },
        "id": "XSiSgHZblevN",
        "outputId": "4a2c8547-1fe5-48fa-ab4b-78134dd0dd67"
      },
      "outputs": [
        {
          "name": "stdout",
          "output_type": "stream",
          "text": [
            "Enter your age:57\n",
            "Enter your weight:777\n",
            "You are overweight .\n"
          ]
        }
      ],
      "source": [
        "age = int(input(\"Enter your age:\"))\n",
        "weight = int(input('Enter your weight:'))   # Always same type of data type can be compare .\n",
        "if age < 18 and weight < 30:\n",
        "  print(\"You can't sit at a rollercoster \")\n",
        "elif age > 18 and age < 60 and weight < 60 :\n",
        "  print(\"You can ride rollercoster.\")\n",
        "else :\n",
        "  print(\"You are overweight .\")"
      ]
    }
  ],
  "metadata": {
    "colab": {
      "include_colab_link": true,
      "provenance": []
    },
    "kernelspec": {
      "display_name": "Python 3",
      "name": "python3"
    },
    "language_info": {
      "name": "python"
    }
  },
  "nbformat": 4,
  "nbformat_minor": 0
}
