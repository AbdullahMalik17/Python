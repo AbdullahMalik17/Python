{
 "cells": [
  {
   "cell_type": "markdown",
   "metadata": {},
   "source": [
    "# Hi , I am writing string .\n"
   ]
  },
  {
   "cell_type": "code",
   "execution_count": 1,
   "metadata": {},
   "outputs": [
    {
     "name": "stdout",
     "output_type": "stream",
     "text": [
      "Muhammad Abdullah Athar\n",
      "Muhammad Athar\n",
      "Sadiq Abbass Post Graduate College\n"
     ]
    }
   ],
   "source": [
    "name : str = \"Muhammad Abdullah Athar\"\n",
    "father_name : str = \"Muhammad Athar\"\n",
    "college :str = \"Sadiq Abbass Post Graduate College\"\n",
    "print(name)\n",
    "print(father_name)\n",
    "print(college)"
   ]
  },
  {
   "cell_type": "code",
   "execution_count": 13,
   "metadata": {},
   "outputs": [
    {
     "name": "stdout",
     "output_type": "stream",
     "text": [
      "<class 'str'>\n",
      "Abdullah \n",
      " Ather\n"
     ]
    }
   ],
   "source": [
    "n = \"Abdullah \\n Ather\"\n",
    "print(type(n))\n",
    "print(n)"
   ]
  },
  {
   "cell_type": "markdown",
   "metadata": {},
   "source": [
    "# Writing a code in a single quote with use a single quote "
   ]
  },
  {
   "cell_type": "code",
   "execution_count": 17,
   "metadata": {},
   "outputs": [
    {
     "name": "stdout",
     "output_type": "stream",
     "text": [
      "Student \" Learning in a college \" \n"
     ]
    }
   ],
   "source": [
    "status : str = \"Student \\\" Learning in a college \\\" \"\n",
    "print(status)"
   ]
  },
  {
   "cell_type": "markdown",
   "metadata": {},
   "source": [
    "# Using str function  "
   ]
  },
  {
   "cell_type": "code",
   "execution_count": 25,
   "metadata": {},
   "outputs": [
    {
     "name": "stdout",
     "output_type": "stream",
     "text": [
      "<class 'int'>\n"
     ]
    },
    {
     "data": {
      "text/plain": [
       "'Abdullah8'"
      ]
     },
     "execution_count": 25,
     "metadata": {},
     "output_type": "execute_result"
    }
   ],
   "source": [
    "n = 8\n",
    "\n",
    "print(type(n))\n",
    "\"Abdullah\" + str(n)   # It is always used in inline code . "
   ]
  },
  {
   "cell_type": "markdown",
   "metadata": {},
   "source": [
    "# \"\\ \" Line continue "
   ]
  },
  {
   "cell_type": "code",
   "execution_count": 26,
   "metadata": {},
   "outputs": [
    {
     "name": "stdout",
     "output_type": "stream",
     "text": [
      "21\n",
      "21\n"
     ]
    }
   ],
   "source": [
    "print(5 + 8 + 8) # \\ tells the line continous . It is used to continue a line . \n",
    "print(5 \\\n",
    "      + 8 \\  \n",
    "      + 8\n",
    "      )"
   ]
  },
  {
   "cell_type": "code",
   "execution_count": 32,
   "metadata": {},
   "outputs": [
    {
     "name": "stdout",
     "output_type": "stream",
     "text": [
      " Student Card \n",
      " Name : Muhammad Abdullah Athar \n",
      " Father Name : Muhammad Athar \n",
      " College Name :Sadiq Abbass Post Graduate College\n"
     ]
    }
   ],
   "source": [
    "name : str = \"Muhammad Abdullah Athar\"\n",
    "father_name : str = \"Muhammad Athar\"\n",
    "college :str = \"Sadiq Abbass Post Graduate College\"\n",
    "print(\" Student Card \\n Name : \"+name \\\n",
    "      +\" \\n Father Name : \"+father_name \\\n",
    "        +\" \\n College Name :\"+college)"
   ]
  },
  {
   "cell_type": "markdown",
   "metadata": {},
   "source": [
    "# Define Multi-lines by using triple single or double quotes .\n"
   ]
  },
  {
   "cell_type": "code",
   "execution_count": 36,
   "metadata": {},
   "outputs": [
    {
     "name": "stdout",
     "output_type": "stream",
     "text": [
      "My name is Abdullah .\n",
      "My father name is Ather .\n",
      "My date of birth is 17 May. \n"
     ]
    }
   ],
   "source": [
    "print(\"\"\"My name is Abdullah . \n",
    "My father name is Ather .\n",
    "My date of birth is 17 May. \"\"\") # Without using \\ , we write a code in multi lines . \n",
    "# It is called dock string ."
   ]
  },
  {
   "cell_type": "markdown",
   "metadata": {},
   "source": [
    "# f-string\n"
   ]
  },
  {
   "cell_type": "code",
   "execution_count": 38,
   "metadata": {},
   "outputs": [
    {
     "name": "stdout",
     "output_type": "stream",
     "text": [
      "Name :Muhammad Abdullah Athar\n",
      "Father Name :Muhammad Athar\n",
      "College Name :Sadiq Abbass Post Graduate College\n"
     ]
    }
   ],
   "source": [
    "name : str = \"Muhammad Abdullah Athar\"\n",
    "father_name : str = \"Muhammad Athar\"\n",
    "college :str = \"Sadiq Abbass Post Graduate College\"\n",
    "student_card : str = f\"\"\"Name :{name}\n",
    "Father Name :{father_name}\n",
    "College Name :{college}\"\"\"\n",
    "print(student_card)"
   ]
  },
  {
   "cell_type": "markdown",
   "metadata": {},
   "source": [
    "# Jinja \n"
   ]
  },
  {
   "cell_type": "code",
   "execution_count": 1,
   "metadata": {},
   "outputs": [
    {
     "name": "stdout",
     "output_type": "stream",
     "text": [
      "Family Background \n",
      "\n",
      "Name :{{name}}\n",
      "\n",
      "Father Name :{{father_name}}\n",
      "\n",
      "Background :{{background}}\n"
     ]
    }
   ],
   "source": [
    "name : str = \"Saif\"\n",
    "father_name : str = \"Abdul Rehman\"\n",
    "background : str = \"IT Sector\"\n",
    "print(\"\"\"Family Background \\n\n",
    "Name :{{name}}\\n\n",
    "Father Name :{{father_name}}\\n\n",
    "Background :{{background}}\"\"\") # it is a jinja style ."
   ]
  }
 ],
 "metadata": {
  "kernelspec": {
   "display_name": "python67",
   "language": "python",
   "name": "python3"
  },
  "language_info": {
   "codemirror_mode": {
    "name": "ipython",
    "version": 3
   },
   "file_extension": ".py",
   "mimetype": "text/x-python",
   "name": "python",
   "nbconvert_exporter": "python",
   "pygments_lexer": "ipython3",
   "version": "3.12.7"
  }
 },
 "nbformat": 4,
 "nbformat_minor": 2
}
