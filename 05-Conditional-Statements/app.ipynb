{
 "cells": [
  {
   "cell_type": "markdown",
   "metadata": {},
   "source": [
    "# if else\n"
   ]
  },
  {
   "cell_type": "code",
   "execution_count": null,
   "metadata": {
    "vscode": {
     "languageId": "plaintext"
    }
   },
   "outputs": [],
   "source": [
    "my_age = 13 \n",
    "if (my_age >= 16):\n",
    "    print(\"\"\"You are allowed . \"\"\")\n",
    "else :\n",
    "  print(\"\"\"You are not allowed . \"\"\")   "
   ]
  },
  {
   "cell_type": "markdown",
   "metadata": {},
   "source": [
    "# if "
   ]
  },
  {
   "cell_type": "code",
   "execution_count": null,
   "metadata": {
    "vscode": {
     "languageId": "plaintext"
    }
   },
   "outputs": [],
   "source": [
    "my_age = 16 \n",
    "if (my_age >= 16):\n",
    "  print(\"\"\"You are Allowed . \"\"\")"
   ]
  },
  {
   "cell_type": "markdown",
   "metadata": {},
   "source": [
    "# Not Neccessing use of prenthesis\n"
   ]
  },
  {
   "cell_type": "code",
   "execution_count": null,
   "metadata": {
    "vscode": {
     "languageId": "plaintext"
    }
   },
   "outputs": [],
   "source": [
    "my_age = 13 \n",
    "if (my_age >= 16):\n",
    "    print(\"\"\"You are allowed . \"\"\")\n",
    "else :\n",
    "  print(\"\"\"You are not allowed . \"\"\")   # Code will run at a time . "
   ]
  },
  {
   "cell_type": "markdown",
   "metadata": {},
   "source": [
    "# Nested if else "
   ]
  },
  {
   "cell_type": "code",
   "execution_count": null,
   "metadata": {
    "vscode": {
     "languageId": "plaintext"
    }
   },
   "outputs": [],
   "source": [
    " marks = int(input(\"Enter your marks in exams:\"))\n",
    "if (marks > 90) :\n",
    "  print(\"You get A grade\")\n",
    "elif marks > 80 :\n",
    "  print(\"You get B grade\") \n",
    "elif marks > 70 :\n",
    "  print(\"You get C grade\")\n",
    "elif marks > 60 :\n",
    "  print(\"You get D grade \")\n",
    "else :\n",
    "  print(\"Failed\")"
   ]
  }
 ],
 "metadata": {
  "language_info": {
   "name": "python"
  }
 },
 "nbformat": 4,
 "nbformat_minor": 2
}
