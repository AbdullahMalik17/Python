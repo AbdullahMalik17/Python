{
  "cells": [
    {
      "cell_type": "markdown",
      "metadata": {
        "id": "view-in-github",
        "colab_type": "text"
      },
      "source": [
        "<a href=\"https://colab.research.google.com/github/AbdullahMalik17/Python/blob/main/four_pillar_opp.ipynb\" target=\"_parent\"><img src=\"https://colab.research.google.com/assets/colab-badge.svg\" alt=\"Open In Colab\"/></a>"
      ]
    },
    {
      "cell_type": "markdown",
      "metadata": {
        "id": "KNAJ7N5MOEQg"
      },
      "source": [
        "# Four pillar of OOP:-\n",
        "- Encapsulation\n",
        "- Polymorphism\n",
        "- Inheritance\n",
        "- Abstraction\n",
        "## Encapsulation(ڈیٹا چھپانا)\n",
        "Data is protected in it . For example , Mobile is encapsulated , we can touch the screen and don't see it's internal parts .\n",
        "## Abstraction(خلاصہ)\n",
        "We hide extra information in it . We remove complexity in the chatbot . Abstract class use as blueprint for other class\n",
        "## Inheritance(وراثت)\n",
        "We provide the properties of one class to another class.\n",
        "## Polymorphism(متعدد شکلیں)\n",
        "We will assign one class to another class ."
      ]
    },
    {
      "cell_type": "code",
      "source": [
        "# inheritance\n",
        "class CAR:\n",
        "  def specification(self,name,model):\n",
        "    raise NotImplementedError\n",
        "\n",
        "class Vehicle(CAR):\n",
        "  def __init__(self,name,model):\n",
        "    self.name = name\n",
        "    self.model = model\n",
        "\n",
        "  def specification(self): # this is called inheritance\n",
        "    print(f\"The name of your car is {self.name} and it's model is {self.model} \")\n",
        "\n",
        "\n",
        "car = Vehicle(\"Mehran\",\"2022\")\n",
        "car.specification()"
      ],
      "metadata": {
        "colab": {
          "base_uri": "https://localhost:8080/"
        },
        "id": "9q6E6HTnT11b",
        "outputId": "dc7ce830-4040-4542-c713-847699c1f1d8"
      },
      "execution_count": 3,
      "outputs": [
        {
          "output_type": "stream",
          "name": "stdout",
          "text": [
            "The name of your car is Mehran and it's model is 2022 \n"
          ]
        }
      ]
    },
    {
      "cell_type": "code",
      "execution_count": 9,
      "metadata": {
        "vscode": {
          "languageId": "plaintext"
        },
        "colab": {
          "base_uri": "https://localhost:8080/"
        },
        "id": "Db29yZTuOEQl",
        "outputId": "8b22ecca-4fd9-4149-81d3-ebc085dfbd65"
      },
      "outputs": [
        {
          "output_type": "stream",
          "name": "stdout",
          "text": [
            "After deposit your total amount is 52290\n",
            "After withdraw your total amount is 45725 \n"
          ]
        }
      ],
      "source": [
        "# Encapsulation\n",
        "class BankSystem:\n",
        "  def __init__(self,account_number,total_amount):\n",
        "    self.__account_number = account_number\n",
        "    self.__total_amount = total_amount\n",
        "  def withdraw(self,amount):\n",
        "    self.__total_amount -= amount\n",
        "    print(f\"After withdraw your total amount is {self.__total_amount} \")\n",
        "  def deposit(self,amount):\n",
        "    self.__total_amount += amount\n",
        "    print(f\"After deposit your total amount is {self.__total_amount}\")\n",
        "\n",
        "ubl = BankSystem(6375343,45500)\n",
        "ubl.deposit(6790)\n",
        "ubl.withdraw(6565)"
      ]
    },
    {
      "cell_type": "code",
      "source": [],
      "metadata": {
        "id": "HFx2s6YUg3nC"
      },
      "execution_count": null,
      "outputs": []
    },
    {
      "cell_type": "code",
      "source": [],
      "metadata": {
        "id": "M_hw3uScgXIF"
      },
      "execution_count": null,
      "outputs": []
    }
  ],
  "metadata": {
    "language_info": {
      "name": "python"
    },
    "colab": {
      "provenance": [],
      "include_colab_link": true
    },
    "kernelspec": {
      "name": "python3",
      "display_name": "Python 3"
    }
  },
  "nbformat": 4,
  "nbformat_minor": 0
}