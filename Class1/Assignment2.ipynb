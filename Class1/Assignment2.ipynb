{
  "nbformat": 4,
  "nbformat_minor": 0,
  "metadata": {
    "colab": {
      "provenance": []
    },
    "kernelspec": {
      "name": "python3",
      "display_name": "Python 3"
    },
    "language_info": {
      "name": "python"
    }
  },
  "cells": [
    {
      "cell_type": "markdown",
      "source": [
        "# Task 1. Assalsam o Alaikum , I am writing a code of print function ."
      ],
      "metadata": {
        "id": "Vl59XePT-gVz"
      }
    },
    {
      "cell_type": "code",
      "source": [
        "print(\"Hi , everyone I a learning Python .\")"
      ],
      "metadata": {
        "colab": {
          "base_uri": "https://localhost:8080/"
        },
        "id": "S1fwyaJ8-1Jz",
        "outputId": "0d187e0e-052b-4b85-d26e-e46f1ea306d2"
      },
      "execution_count": null,
      "outputs": [
        {
          "output_type": "stream",
          "name": "stdout",
          "text": [
            "Hi , everyone I a learning Python .\n"
          ]
        }
      ]
    },
    {
      "cell_type": "markdown",
      "source": [
        "# Task 2 . I write a code to use variable ."
      ],
      "metadata": {
        "id": "HamMiOwnAVsd"
      }
    },
    {
      "cell_type": "code",
      "source": [
        "name = \"Abdullah Athar \"\n",
        "age = 16\n",
        "animal = \"Cat \"\n",
        "print(\"Name :\",name )\n",
        "print(\" Age :\",age,\"years \")\n",
        "print(\"Favourite Animal :\",animal)\n"
      ],
      "metadata": {
        "colab": {
          "base_uri": "https://localhost:8080/"
        },
        "id": "0P_sGhajAh0j",
        "outputId": "a295c129-abfc-47e6-88cc-cc189da75351"
      },
      "execution_count": null,
      "outputs": [
        {
          "output_type": "stream",
          "name": "stdout",
          "text": [
            "Name : Abdullah Athar \n",
            " Age : 16 years \n",
            "Favourite Animal : Cat \n"
          ]
        }
      ]
    },
    {
      "cell_type": "markdown",
      "source": [
        "# Task 3 . Using Variable in print function using text ."
      ],
      "metadata": {
        "id": "W4dA7_AiCHSZ"
      }
    },
    {
      "cell_type": "code",
      "source": [
        "print(\"My name is \"+name+\". I am \"+age+\" years old . My favourite animal is \"+animal)"
      ],
      "metadata": {
        "colab": {
          "base_uri": "https://localhost:8080/"
        },
        "id": "S7NG7zXECU2J",
        "outputId": "3f0aa9bd-906a-40db-e439-676f8b4e9849"
      },
      "execution_count": null,
      "outputs": [
        {
          "output_type": "stream",
          "name": "stdout",
          "text": [
            "My name is Abdullah Athar . I am 16 years  years old . My favourite animal is Cat \n"
          ]
        }
      ]
    },
    {
      "cell_type": "markdown",
      "source": [
        "# Task 4 . Playing with different Data types ."
      ],
      "metadata": {
        "id": "FTpRfQVQDNr7"
      }
    },
    {
      "cell_type": "code",
      "source": [
        "movie = \" 3 Idiots \"\n",
        "birthyear = 2008\n",
        "cheetos=25.5\n",
        "print(\"Favourite movie: \",movie)\n",
        "print(\" Date of birth :\",birthyear)\n",
        "print(\"The price of my favourite snack is: \",cheetos)"
      ],
      "metadata": {
        "colab": {
          "base_uri": "https://localhost:8080/"
        },
        "id": "NeD6pzRPDVn3",
        "outputId": "5a112f53-77e9-49dd-be50-d1a08711b442"
      },
      "execution_count": null,
      "outputs": [
        {
          "output_type": "stream",
          "name": "stdout",
          "text": [
            "Favourite movie:   3 Idiots \n",
            " Date of birth : 2008\n",
            "The price of my favourite snack is:  25.5\n"
          ]
        }
      ]
    },
    {
      "cell_type": "markdown",
      "source": [
        "# Task 5 . Writing hobby ."
      ],
      "metadata": {
        "id": "pUIaGvauFTmb"
      }
    },
    {
      "cell_type": "code",
      "source": [
        "hobby=\"Learning Vocabulary\"\n",
        "print(\"My Favourite hobby is \",hobby)"
      ],
      "metadata": {
        "colab": {
          "base_uri": "https://localhost:8080/"
        },
        "id": "qtHkpQ38FZju",
        "outputId": "1429e64c-6fa1-4c74-c49e-ec21c4c587aa"
      },
      "execution_count": null,
      "outputs": [
        {
          "output_type": "stream",
          "name": "stdout",
          "text": [
            "My Favourite hobby is  Learning Vocabulary\n"
          ]
        }
      ]
    },
    {
      "cell_type": "markdown",
      "source": [
        "# Task 6 . Declaring a number and sum them .  "
      ],
      "metadata": {
        "id": "9Aur0BYBF02V"
      }
    },
    {
      "cell_type": "code",
      "source": [
        "a = 7\n",
        "b = 8\n",
        "c = a + b\n",
        "print(\"a =\",a)\n",
        "print(\"b =\",b)\n",
        "print(\"c =\",c)"
      ],
      "metadata": {
        "colab": {
          "base_uri": "https://localhost:8080/"
        },
        "id": "sZFCw7EmF9dq",
        "outputId": "00d44515-603d-4c2d-c6f4-cf38dfc90627"
      },
      "execution_count": null,
      "outputs": [
        {
          "output_type": "stream",
          "name": "stdout",
          "text": [
            "a = 7\n",
            "b = 8\n",
            "c = 15\n"
          ]
        }
      ]
    }
  ]
}