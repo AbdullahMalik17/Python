{
  "cells": [
    {
      "cell_type": "markdown",
      "metadata": {
        "id": "view-in-github",
        "colab_type": "text"
      },
      "source": [
        "<a href=\"https://colab.research.google.com/github/AbdullahMalik17/Python/blob/main/Assignment.ipynb\" target=\"_parent\"><img src=\"https://colab.research.google.com/assets/colab-badge.svg\" alt=\"Open In Colab\"/></a>"
      ]
    },
    {
      "cell_type": "markdown",
      "source": [
        "# Why do list important ?\n",
        "They are important because we save the data in it without using variable name . We access our data by using indexes ."
      ],
      "metadata": {
        "id": "JIORop2Gq9dQ"
      }
    },
    {
      "cell_type": "code",
      "source": [
        "from typing import List\n",
        "fruits : List[str] = [\"apple\" , \"banana\" , \"strawberry\" , \"watermelon\" ,4]\n",
        "print(fruits)\n"
      ],
      "metadata": {
        "colab": {
          "base_uri": "https://localhost:8080/"
        },
        "id": "j98j_USzrQvd",
        "outputId": "36500970-c773-4142-d148-f589fa7c18f4"
      },
      "execution_count": 3,
      "outputs": [
        {
          "output_type": "stream",
          "name": "stdout",
          "text": [
            "['apple', 'banana', 'strawberry', 'watermelon', 4]\n"
          ]
        }
      ]
    },
    {
      "cell_type": "markdown",
      "source": [
        "# List Length"
      ],
      "metadata": {
        "id": "QrFTYDy2tdye"
      }
    },
    {
      "cell_type": "code",
      "source": [
        "fruits = [\"Banana\" , \"Strawberry\" , \"Apple\" , \"WaterMelon\"]\n",
        "print(len(fruits)) # It gives the answer who not starts with 0 but it also starts from 1 ."
      ],
      "metadata": {
        "id": "UwYndO67tiRs",
        "colab": {
          "base_uri": "https://localhost:8080/"
        },
        "outputId": "25a59532-31b9-4318-a0c6-b2e0c2853248"
      },
      "execution_count": 4,
      "outputs": [
        {
          "output_type": "stream",
          "name": "stdout",
          "text": [
            "4\n"
          ]
        }
      ]
    },
    {
      "cell_type": "markdown",
      "source": [
        "# Another way of accessing indexes"
      ],
      "metadata": {
        "id": "MXLsIncXvDU1"
      }
    },
    {
      "cell_type": "code",
      "source": [
        "print(fruits[0:1],fruits[0:2],fruits[0:3],fruits[0:4])"
      ],
      "metadata": {
        "colab": {
          "base_uri": "https://localhost:8080/"
        },
        "id": "53WMiiwGvIOM",
        "outputId": "da916991-1b60-4c74-9ad0-95e0c56de22c"
      },
      "execution_count": 5,
      "outputs": [
        {
          "output_type": "stream",
          "name": "stdout",
          "text": [
            "['Banana'] ['Banana', 'Strawberry'] ['Banana', 'Strawberry', 'Apple'] ['Banana', 'Strawberry', 'Apple', 'WaterMelon']\n"
          ]
        }
      ]
    },
    {
      "cell_type": "markdown",
      "source": [
        "# Compare indexes data"
      ],
      "metadata": {
        "id": "2m7KIO6yydPc"
      }
    },
    {
      "cell_type": "code",
      "source": [
        "print(\"Banana\" in fruits ,\"banana\" in fruits)"
      ],
      "metadata": {
        "colab": {
          "base_uri": "https://localhost:8080/"
        },
        "id": "w5chCvekykrJ",
        "outputId": "feb59813-aed3-4113-c216-9147a29c7926"
      },
      "execution_count": 6,
      "outputs": [
        {
          "output_type": "stream",
          "name": "stdout",
          "text": [
            "True False\n"
          ]
        }
      ]
    },
    {
      "cell_type": "markdown",
      "source": [
        "# Methods of list:-\n",
        "1. append()\n",
        "2. insert()\n",
        "3. extend()\n",
        "4. remove()\n",
        "5. pop()\n",
        "6. clear()\n",
        "7. index()\n",
        "8. count()\n",
        "9. sort()\n",
        "10. reverse()\n",
        "11. copy()"
      ],
      "metadata": {
        "id": "AtK1WbosEJLs"
      }
    },
    {
      "cell_type": "code",
      "source": [
        "# append()\n",
        "# It is used to add end of the list.\n",
        "name = [\"Abdullah\",\"Athar\",\"Bushra\"]\n",
        "name.append(\"Ayesha\")\n",
        "print(name)"
      ],
      "metadata": {
        "colab": {
          "base_uri": "https://localhost:8080/"
        },
        "id": "cYaFxOPmEs2Y",
        "outputId": "5f225b37-7606-4271-e23d-eb4498e08233"
      },
      "execution_count": 18,
      "outputs": [
        {
          "output_type": "stream",
          "name": "stdout",
          "text": [
            "['Abdullah', 'Athar', 'Bushra', 'Ayesha']\n"
          ]
        }
      ]
    },
    {
      "cell_type": "code",
      "source": [
        "# insert()\n",
        "# It is used to add element in any index .\n",
        "name.insert(0,\"Azhar\")\n",
        "print(name)"
      ],
      "metadata": {
        "colab": {
          "base_uri": "https://localhost:8080/"
        },
        "id": "7ekjVEbyGM89",
        "outputId": "af298662-1167-4b1c-aa4b-cb1e6c3d9195"
      },
      "execution_count": 25,
      "outputs": [
        {
          "output_type": "stream",
          "name": "stdout",
          "text": [
            "['Azhar', 'Abdullah', 'Bushra', 'Ayesha', 'Tahir', 'Mubashir']\n"
          ]
        }
      ]
    },
    {
      "cell_type": "code",
      "source": [
        "# extend()\n",
        "# It is used to add list to another list .\n",
        "another_name = [\"Tahir\",\"Mubashir\"]\n",
        "name.extend(another_name)\n",
        "print(name)"
      ],
      "metadata": {
        "colab": {
          "base_uri": "https://localhost:8080/"
        },
        "id": "x6H-IyINGySq",
        "outputId": "ec11c7f9-af47-479b-ea88-2303d9fbb2ec"
      },
      "execution_count": 26,
      "outputs": [
        {
          "output_type": "stream",
          "name": "stdout",
          "text": [
            "['Azhar', 'Abdullah', 'Bushra', 'Ayesha', 'Tahir', 'Mubashir', 'Tahir', 'Mubashir']\n"
          ]
        }
      ]
    },
    {
      "cell_type": "code",
      "source": [
        "# pop()\n",
        "# It is used to remove element from last .\n",
        "deleted_name = name.pop()\n",
        "print(name)\n",
        "print(deleted_name)"
      ],
      "metadata": {
        "colab": {
          "base_uri": "https://localhost:8080/"
        },
        "id": "GijfXOsgHDyZ",
        "outputId": "5306af1c-7e00-49e6-9ef5-11854cd9766b"
      },
      "execution_count": 12,
      "outputs": [
        {
          "output_type": "stream",
          "name": "stdout",
          "text": [
            "['Azhar', 'Abdullah', 'Athar', 'Bushra', 'Ayesha', 'Tahir']\n",
            "Mubashir\n"
          ]
        }
      ]
    },
    {
      "cell_type": "code",
      "source": [
        "# clear()\n",
        "# It is used to remove all the elements from list and make it empty .\n",
        "deleted_name1 = name.clear()\n",
        "print(name)"
      ],
      "metadata": {
        "colab": {
          "base_uri": "https://localhost:8080/"
        },
        "id": "D_gBs8DvH3Xl",
        "outputId": "c1ef8834-7af8-44a7-b83d-3637d28a698b"
      },
      "execution_count": 13,
      "outputs": [
        {
          "output_type": "stream",
          "name": "stdout",
          "text": [
            "[]\n",
            "None\n"
          ]
        }
      ]
    },
    {
      "cell_type": "code",
      "source": [
        "# remove()\n",
        "# It is used to remove element from value\n",
        "name.remove(\"Bushra\")\n",
        "print(name)"
      ],
      "metadata": {
        "colab": {
          "base_uri": "https://localhost:8080/"
        },
        "id": "sALHDnCfKGfG",
        "outputId": "d31b3eae-5a62-402a-a998-e48ddbb0e737"
      },
      "execution_count": 29,
      "outputs": [
        {
          "output_type": "stream",
          "name": "stdout",
          "text": [
            "['Azhar', 'Abdullah', 'Ayesha', 'Tahir', 'Mubashir', 'Tahir', 'Mubashir']\n"
          ]
        }
      ]
    },
    {
      "cell_type": "code",
      "source": [
        "# index method\n",
        "# it is used to find the find the element at index .\n",
        "name.index(\"Tahir\",0,4)"
      ],
      "metadata": {
        "colab": {
          "base_uri": "https://localhost:8080/"
        },
        "id": "f-HdYiP2L702",
        "outputId": "61dc7fac-4fef-4125-fd4a-19114fc06655"
      },
      "execution_count": 30,
      "outputs": [
        {
          "output_type": "execute_result",
          "data": {
            "text/plain": [
              "3"
            ]
          },
          "metadata": {},
          "execution_count": 30
        }
      ]
    },
    {
      "cell_type": "code",
      "source": [
        "# sort method\n",
        "n = [3,4,1,2,5,8,7,6,9]\n",
        "n.sort()\n",
        "print(n)"
      ],
      "metadata": {
        "colab": {
          "base_uri": "https://localhost:8080/"
        },
        "id": "L3YNNLIIMai0",
        "outputId": "823450dc-a937-45d5-e3a0-c568bb26bc61"
      },
      "execution_count": 32,
      "outputs": [
        {
          "output_type": "stream",
          "name": "stdout",
          "text": [
            "None\n",
            "[1, 2, 3, 4, 5, 6, 7, 8, 9]\n"
          ]
        }
      ]
    }
  ],
  "metadata": {
    "language_info": {
      "name": "python"
    },
    "colab": {
      "provenance": [],
      "include_colab_link": true
    },
    "kernelspec": {
      "name": "python3",
      "display_name": "Python 3"
    }
  },
  "nbformat": 4,
  "nbformat_minor": 0
}