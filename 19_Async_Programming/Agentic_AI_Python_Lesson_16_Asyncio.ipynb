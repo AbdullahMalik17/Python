{
  "cells": [
    {
      "cell_type": "markdown",
      "metadata": {
        "id": "view-in-github",
        "colab_type": "text"
      },
      "source": [
        "<a href=\"https://colab.research.google.com/github/AbdullahMalik17/Agentic_AI/blob/main/Agentic_AI_Python_Lesson_16_Asyncio.ipynb\" target=\"_parent\"><img src=\"https://colab.research.google.com/assets/colab-badge.svg\" alt=\"Open In Colab\"/></a>"
      ]
    },
    {
      "cell_type": "markdown",
      "source": [
        "<font color=\"#a9a56c\" size=2> **@Author: Arif Kasim Rozani - (Team Operation Badar)** </font>\n"
      ],
      "metadata": {
        "id": "38_QpUXJOAII"
      }
    },
    {
      "cell_type": "markdown",
      "source": [
        "**Introduction to Asyncio in Python**\n",
        "=====================================\n",
        "\n",
        "Asyncio is a library in Python that allows you to write single-threaded concurrent code using coroutines, multiplexing I/O access over sockets and other resources, and implementing network clients and servers.\n"
      ],
      "metadata": {
        "id": "FTpZ9mhFhS7J"
      }
    },
    {
      "cell_type": "markdown",
      "source": [
        "**Asyncio in Python: A Simplified Explanation**\n",
        "=====================================================\n",
        "\n",
        "Imagine you're at a coffee shop, and you want to order a coffee and a pastry. There are two ways to do this:\n",
        "\n",
        "1.  **`Synchronous Approach`**: You order the coffee, wait for it to be prepared, and then order the pastry. You can't do anything else until both orders are completed.\n",
        "2.  **`Asynchronous Approach`**: You order the coffee and, while it's being prepared, you order the pastry. You can do other things, like checking your phone or chatting with a friend, until both orders are ready.\n",
        "\n",
        "**Asyncio in Python works similarly to the asynchronous approach**. It allows your program to perform multiple tasks concurrently, improving efficiency and responsiveness."
      ],
      "metadata": {
        "id": "VILWDka8hxPo"
      }
    },
    {
      "cell_type": "markdown",
      "source": [
        "**Key Concepts**\n",
        "----------------\n",
        "\n",
        "*   **`Coroutines`**: A coroutine is a special type of function that can suspend and resume its execution at specific points. Think of it as a task that can be paused and resumed.\n",
        "*   **`Event Loop`**: The event loop is the central component of Asyncio. It manages the execution of coroutines, handling I/O operations and scheduling tasks.\n",
        "*   **`Tasks`**: A task is a coroutine that's scheduled to run concurrently with other tasks.\n",
        "*   **`Futures`**: A future represents the result of a task. You can wait for a future to complete, allowing you to retrieve the result of a task.\n",
        "\n"
      ],
      "metadata": {
        "id": "47_DbueCiNLZ"
      }
    },
    {
      "cell_type": "markdown",
      "source": [
        "<font color=orange> By design asyncio does not allow its event loop to be nested. This presents a practical problem: When in an environment where the event loop is already running it’s impossible to run tasks and wait for the result. Trying to do so will give the error “RuntimeError: This event loop is already running”.\n",
        "\n",
        "<font color=orange>The issue pops up in various environments, such as web servers, GUI applications and in **`Jupyter notebooks`**. </font>\n",
        "\n",
        "This module patches asyncio to allow nested use of asyncio.run and loop.run_until_complete. </font>\n",
        "\n",
        "[nest-asyncio 1.6.0](https://pypi.org/project/nest-asyncio/)"
      ],
      "metadata": {
        "id": "1XD9whUOkb0U"
      }
    },
    {
      "cell_type": "code",
      "source": [
        "import nest_asyncio\n",
        "nest_asyncio.apply()\n",
        "\n",
        "print(\"\\033[94m Successfully enable Colab/Jupyter Notebook to handle nested event loop \\033[0m\")"
      ],
      "metadata": {
        "id": "TpI0BEBakLrc",
        "colab": {
          "base_uri": "https://localhost:8080/",
          "height": 33
        },
        "outputId": "90616d31-1464-4cdf-8d55-75f36e03d2c9"
      },
      "execution_count": 16,
      "outputs": [
        {
          "output_type": "display_data",
          "data": {
            "text/plain": [
              "\u001b\u001b[1m[\u001b[0m94m Successfully enable Colab/Jupyter Notebook to handle nested event loop \u001b\u001b[1m[\u001b[0m0m\n"
            ],
            "text/html": [
              "<pre style=\"white-space:pre;overflow-x:auto;line-height:normal;font-family:Menlo,'DejaVu Sans Mono',consolas,'Courier New',monospace\">\u001b<span style=\"font-weight: bold\">[</span>94m Successfully enable Colab/Jupyter Notebook to handle nested event loop \u001b<span style=\"font-weight: bold\">[</span>0m\n",
              "</pre>\n"
            ]
          },
          "metadata": {}
        }
      ]
    },
    {
      "cell_type": "markdown",
      "source": [
        "**Example: Making Coffee and Pastry**\n",
        "------------------------------------\n",
        "\n",
        "Let's create an example that demonstrates the synchronous and asynchronous approaches:\n",
        "\n",
        "<font color=gold>In this example just focus on out put to get the feel how **`synchronous`** and **`asynchronous`** function work.</font>"
      ],
      "metadata": {
        "id": "51-DXLp5lt6b"
      }
    },
    {
      "cell_type": "markdown",
      "source": [
        "# Thread\n",
        "<b>Thread: A thread is a unit of execution within a process. A single process can have multiple threads. These threads share the process's memory space.</b>"
      ],
      "metadata": {
        "id": "BjPqgqrsyUGE"
      }
    },
    {
      "cell_type": "code",
      "source": [
        "import asyncio\n",
        "import time\n",
        "import threading\n",
        "from rich import print\n",
        "\n",
        "# Synchronous approach\n",
        "def make_coffee_sync():\n",
        "    print(f\"\\tMaking coffee... : Thread Name: {threading.current_thread().name}\")\n",
        "    time.sleep(2)  # Simulate coffee preparation time\n",
        "    print(\"\\tCoffee is ready!\")\n",
        "\n",
        "def make_pastry_sync():\n",
        "    print(f\"\\tMaking pastry... : Thread Name: {threading.current_thread().name}\")\n",
        "    time.sleep(3)  # Simulate pastry preparation time\n",
        "    print(\"\\tPastry is ready!\")\n",
        "\n",
        "def order_sync():\n",
        "    make_coffee_sync()\n",
        "    make_pastry_sync()\n",
        "\n",
        "# Asynchronous approach using Asyncio\n",
        "async def make_coffee_async():\n",
        "    print(f\"\\tMaking coffee... : Thread Name: {threading.current_thread().name}\")\n",
        "    await asyncio.sleep(2)  # Simulate coffee preparation time\n",
        "    print(\"\\tCoffee is ready!\")\n",
        "\n",
        "async def make_pastry_async():\n",
        "    print(f\"\\tMaking pastry... : Thread Name: {threading.current_thread().name}\")\n",
        "    await asyncio.sleep(3)  # Simulate pastry preparation time\n",
        "    print(\"\\tPastry is ready!\")\n",
        "\n",
        "async def order_async():\n",
        "    tasks = [\n",
        "        asyncio.create_task(make_coffee_async()),\n",
        "        asyncio.create_task(make_pastry_async())\n",
        "    ]\n",
        "    await asyncio.gather(*tasks)\n",
        "\n",
        "# Run the synchronous example\n",
        "print(\"[blue]Synchronous approach: [/blue]\")\n",
        "start_time = time.time()\n",
        "\n",
        "print(\"Main thread entring order_sync()\")\n",
        "order_sync()\n",
        "print(\"Main thread exiting order_sync()\")\n",
        "\n",
        "print( f\"[magenta]Total time: {time.time() - start_time} seconds[/magenta]\")\n",
        "\n",
        "# Run the asynchronous example\n",
        "print(\"\\n\\n[red]Asynchronous approach: [/red]\")\n",
        "\n",
        "start_time = time.time()\n",
        "\n",
        "\n",
        "\n",
        "print(\"Main thread entring order_async()\")\n",
        "asyncio.run(order_async())\n",
        "print(\"Main thread exiting order_async()\")\n",
        "\n",
        "print(f\"[magenta]Total time: {time.time() - start_time} seconds[/magenta]\")"
      ],
      "metadata": {
        "colab": {
          "base_uri": "https://localhost:8080/",
          "height": 289
        },
        "id": "9IHym404iPqf",
        "outputId": "0137df09-4188-47bf-eddf-0d6a7cd47b31"
      },
      "execution_count": 5,
      "outputs": [
        {
          "output_type": "display_data",
          "data": {
            "text/plain": [
              "\u001b[34mSynchronous approach: \u001b[0m\n"
            ],
            "text/html": [
              "<pre style=\"white-space:pre;overflow-x:auto;line-height:normal;font-family:Menlo,'DejaVu Sans Mono',consolas,'Courier New',monospace\"><span style=\"color: #000080; text-decoration-color: #000080\">Synchronous approach: </span>\n",
              "</pre>\n"
            ]
          },
          "metadata": {}
        },
        {
          "output_type": "display_data",
          "data": {
            "text/plain": [
              "Main thread entring \u001b[1;35morder_sync\u001b[0m\u001b[1m(\u001b[0m\u001b[1m)\u001b[0m\n"
            ],
            "text/html": [
              "<pre style=\"white-space:pre;overflow-x:auto;line-height:normal;font-family:Menlo,'DejaVu Sans Mono',consolas,'Courier New',monospace\">Main thread entring <span style=\"color: #800080; text-decoration-color: #800080; font-weight: bold\">order_sync</span><span style=\"font-weight: bold\">()</span>\n",
              "</pre>\n"
            ]
          },
          "metadata": {}
        },
        {
          "output_type": "display_data",
          "data": {
            "text/plain": [
              "        Making coffee\u001b[33m...\u001b[0m : Thread Name: MainThread\n"
            ],
            "text/html": [
              "<pre style=\"white-space:pre;overflow-x:auto;line-height:normal;font-family:Menlo,'DejaVu Sans Mono',consolas,'Courier New',monospace\">        Making coffee<span style=\"color: #808000; text-decoration-color: #808000\">...</span> : Thread Name: MainThread\n",
              "</pre>\n"
            ]
          },
          "metadata": {}
        },
        {
          "output_type": "display_data",
          "data": {
            "text/plain": [
              "        Coffee is ready!\n"
            ],
            "text/html": [
              "<pre style=\"white-space:pre;overflow-x:auto;line-height:normal;font-family:Menlo,'DejaVu Sans Mono',consolas,'Courier New',monospace\">        Coffee is ready!\n",
              "</pre>\n"
            ]
          },
          "metadata": {}
        },
        {
          "output_type": "display_data",
          "data": {
            "text/plain": [
              "        Making pastry\u001b[33m...\u001b[0m : Thread Name: MainThread\n"
            ],
            "text/html": [
              "<pre style=\"white-space:pre;overflow-x:auto;line-height:normal;font-family:Menlo,'DejaVu Sans Mono',consolas,'Courier New',monospace\">        Making pastry<span style=\"color: #808000; text-decoration-color: #808000\">...</span> : Thread Name: MainThread\n",
              "</pre>\n"
            ]
          },
          "metadata": {}
        },
        {
          "output_type": "display_data",
          "data": {
            "text/plain": [
              "        Pastry is ready!\n"
            ],
            "text/html": [
              "<pre style=\"white-space:pre;overflow-x:auto;line-height:normal;font-family:Menlo,'DejaVu Sans Mono',consolas,'Courier New',monospace\">        Pastry is ready!\n",
              "</pre>\n"
            ]
          },
          "metadata": {}
        },
        {
          "output_type": "display_data",
          "data": {
            "text/plain": [
              "Main thread exiting \u001b[1;35morder_sync\u001b[0m\u001b[1m(\u001b[0m\u001b[1m)\u001b[0m\n"
            ],
            "text/html": [
              "<pre style=\"white-space:pre;overflow-x:auto;line-height:normal;font-family:Menlo,'DejaVu Sans Mono',consolas,'Courier New',monospace\">Main thread exiting <span style=\"color: #800080; text-decoration-color: #800080; font-weight: bold\">order_sync</span><span style=\"font-weight: bold\">()</span>\n",
              "</pre>\n"
            ]
          },
          "metadata": {}
        },
        {
          "output_type": "display_data",
          "data": {
            "text/plain": [
              "\u001b[35mTotal time: \u001b[0m\u001b[1;35m5.013987302780151\u001b[0m\u001b[35m seconds\u001b[0m\n"
            ],
            "text/html": [
              "<pre style=\"white-space:pre;overflow-x:auto;line-height:normal;font-family:Menlo,'DejaVu Sans Mono',consolas,'Courier New',monospace\"><span style=\"color: #800080; text-decoration-color: #800080\">Total time: </span><span style=\"color: #800080; text-decoration-color: #800080; font-weight: bold\">5.013987302780151</span><span style=\"color: #800080; text-decoration-color: #800080\"> seconds</span>\n",
              "</pre>\n"
            ]
          },
          "metadata": {}
        },
        {
          "output_type": "display_data",
          "data": {
            "text/plain": [
              "\n",
              "\n",
              "\u001b[31mAsynchronous approach: \u001b[0m\n"
            ],
            "text/html": [
              "<pre style=\"white-space:pre;overflow-x:auto;line-height:normal;font-family:Menlo,'DejaVu Sans Mono',consolas,'Courier New',monospace\">\n",
              "\n",
              "<span style=\"color: #800000; text-decoration-color: #800000\">Asynchronous approach: </span>\n",
              "</pre>\n"
            ]
          },
          "metadata": {}
        },
        {
          "output_type": "display_data",
          "data": {
            "text/plain": [
              "Main thread entring \u001b[1;35morder_async\u001b[0m\u001b[1m(\u001b[0m\u001b[1m)\u001b[0m\n"
            ],
            "text/html": [
              "<pre style=\"white-space:pre;overflow-x:auto;line-height:normal;font-family:Menlo,'DejaVu Sans Mono',consolas,'Courier New',monospace\">Main thread entring <span style=\"color: #800080; text-decoration-color: #800080; font-weight: bold\">order_async</span><span style=\"font-weight: bold\">()</span>\n",
              "</pre>\n"
            ]
          },
          "metadata": {}
        },
        {
          "output_type": "display_data",
          "data": {
            "text/plain": [
              "        Making coffee\u001b[33m...\u001b[0m : Thread Name: MainThread\n"
            ],
            "text/html": [
              "<pre style=\"white-space:pre;overflow-x:auto;line-height:normal;font-family:Menlo,'DejaVu Sans Mono',consolas,'Courier New',monospace\">        Making coffee<span style=\"color: #808000; text-decoration-color: #808000\">...</span> : Thread Name: MainThread\n",
              "</pre>\n"
            ]
          },
          "metadata": {}
        },
        {
          "output_type": "display_data",
          "data": {
            "text/plain": [
              "        Making pastry\u001b[33m...\u001b[0m : Thread Name: MainThread\n"
            ],
            "text/html": [
              "<pre style=\"white-space:pre;overflow-x:auto;line-height:normal;font-family:Menlo,'DejaVu Sans Mono',consolas,'Courier New',monospace\">        Making pastry<span style=\"color: #808000; text-decoration-color: #808000\">...</span> : Thread Name: MainThread\n",
              "</pre>\n"
            ]
          },
          "metadata": {}
        },
        {
          "output_type": "display_data",
          "data": {
            "text/plain": [
              "        Coffee is ready!\n"
            ],
            "text/html": [
              "<pre style=\"white-space:pre;overflow-x:auto;line-height:normal;font-family:Menlo,'DejaVu Sans Mono',consolas,'Courier New',monospace\">        Coffee is ready!\n",
              "</pre>\n"
            ]
          },
          "metadata": {}
        },
        {
          "output_type": "display_data",
          "data": {
            "text/plain": [
              "        Pastry is ready!\n"
            ],
            "text/html": [
              "<pre style=\"white-space:pre;overflow-x:auto;line-height:normal;font-family:Menlo,'DejaVu Sans Mono',consolas,'Courier New',monospace\">        Pastry is ready!\n",
              "</pre>\n"
            ]
          },
          "metadata": {}
        },
        {
          "output_type": "display_data",
          "data": {
            "text/plain": [
              "Main thread exiting \u001b[1;35morder_async\u001b[0m\u001b[1m(\u001b[0m\u001b[1m)\u001b[0m\n"
            ],
            "text/html": [
              "<pre style=\"white-space:pre;overflow-x:auto;line-height:normal;font-family:Menlo,'DejaVu Sans Mono',consolas,'Courier New',monospace\">Main thread exiting <span style=\"color: #800080; text-decoration-color: #800080; font-weight: bold\">order_async</span><span style=\"font-weight: bold\">()</span>\n",
              "</pre>\n"
            ]
          },
          "metadata": {}
        },
        {
          "output_type": "display_data",
          "data": {
            "text/plain": [
              "\u001b[35mTotal time: \u001b[0m\u001b[1;35m3.014932632446289\u001b[0m\u001b[35m seconds\u001b[0m\n"
            ],
            "text/html": [
              "<pre style=\"white-space:pre;overflow-x:auto;line-height:normal;font-family:Menlo,'DejaVu Sans Mono',consolas,'Courier New',monospace\"><span style=\"color: #800080; text-decoration-color: #800080\">Total time: </span><span style=\"color: #800080; text-decoration-color: #800080; font-weight: bold\">3.014932632446289</span><span style=\"color: #800080; text-decoration-color: #800080\"> seconds</span>\n",
              "</pre>\n"
            ]
          },
          "metadata": {}
        }
      ]
    },
    {
      "cell_type": "markdown",
      "source": [
        "In the synchronous example, the `make_coffee_sync` and `make_pastry_sync` functions are called sequentially, resulting in a total execution time of `5 seconds`.\n",
        "\n",
        "In the asynchronous example, the `make_coffee_async` and `make_pastry_async` coroutines are run concurrently using `asyncio.create_task` and `asyncio.gather`. This reduces the total execution time to approximately `3 seconds`, as the coffee and pastry are prepared simultaneously.\n",
        "\n",
        "**Best Practices**\n",
        "------------------\n",
        "\n",
        "*   **Use `asyncio.run()`**: Run your asynchronous code using `asyncio.run()` to ensure proper event loop setup and teardown.\n",
        "*   **Await Coroutines**: Use the `await` keyword to wait for the completion of coroutines.\n",
        "*   **Use `asyncio.gather()`**: Run multiple coroutines concurrently using `asyncio.gather()`.\n",
        "\n",
        "**Common Asyncio Functions**\n",
        "---------------------------\n",
        "\n",
        "*   `asyncio.sleep()`: Suspends the execution of the current coroutine for a specified amount of time.\n",
        "*   `asyncio.create_task()`: Creates a new task from a coroutine, allowing it to run concurrently.\n",
        "*   `asyncio.gather()`: Runs multiple coroutines concurrently and returns their results as a list.\n",
        "\n",
        "By following these guidelines and using Asyncio effectively, you can write efficient and responsive asynchronous code in Python."
      ],
      "metadata": {
        "id": "fldY9fqSjEcn"
      }
    },
    {
      "cell_type": "markdown",
      "source": [
        "## **Understanding `asyncio` and `await`**"
      ],
      "metadata": {
        "id": "mWPyjqS72VAH"
      }
    },
    {
      "cell_type": "markdown",
      "source": [
        "`asyncio` provides the event loop and tools to manage async operations, while `await` is the keyword that allows functions to yield control at specific points, enabling non-blocking waits. Using them together allows writing efficient `single-threaded concurrent code`, especially for I/O-bound tasks."
      ],
      "metadata": {
        "id": "qPgmuGXM2avW"
      }
    },
    {
      "cell_type": "markdown",
      "source": [
        "To address the question of understanding `asyncio` and `await` in Python, let's break down the concepts and their usage:\n",
        "\n",
        "### Understanding `asyncio` and `await`\n",
        "\n",
        "1. **`Asyncio`**:\n",
        "\n",
        "   - **`Definition`**: Asyncio is a Python library that facilitates writing single-threaded concurrent code using coroutines, multiplexing I/O access over sockets, and other resources. It's ideal for handling I/O-bound tasks, such as network requests or database queries.\n",
        "\n",
        "   - **`Key Components`**:\n",
        "     - **`Event Loop`**: Manages the scheduling and switching between tasks.\n",
        "\n",
        "     - **`Coroutines`**: Functions defined with `async def` that can suspend and resume execution.\n",
        "     - **`Tasks`**: Used to run coroutines concurrently.\n",
        "     - **`Futures`**: Represent the result of a task that may not have completed yet.(we will discuss `futures` later on)\n",
        "\n",
        "2. **`Await`**:\n",
        "\n",
        "   - **`Definition`**: `await` is a keyword used within async functions to suspend the execution of the coroutine until the awaited task is complete. It allows the event loop to handle other tasks while waiting.\n",
        "\n",
        "   - **`Usage`**: It is used to wait for coroutines, tasks, or futures, enabling non-blocking operations."
      ],
      "metadata": {
        "id": "of8SLcRK2nXQ"
      }
    },
    {
      "cell_type": "markdown",
      "source": [
        "### Difference Between `asyncio` and `await`\n",
        "\n",
        "- **`Asyncio`**: The library provides the framework for asynchronous operations, including the event loop and tools for creating and managing tasks.\n",
        "- **`Await`**: The keyword used within async functions to create points where execution can yield control back to the event loop, allowing other tasks to run.\n",
        "\n",
        "### Using Them Together\n",
        "\n",
        "1. **Basic Structure**:\n",
        "   - Define an async function using `async def`.\n",
        "   - Use `await` within the function to wait for coroutines.\n",
        "   - Run the top-level async function with `asyncio.run()`.\n",
        "   \n",
        "\n",
        "2. **Example**:"
      ],
      "metadata": {
        "id": "d7qKyoaM30iW"
      }
    },
    {
      "cell_type": "code",
      "source": [
        "import asyncio\n",
        "\n",
        "async def my_function():\n",
        "  await asyncio.sleep(1)\n",
        "  print(\"Hello! from my_function1()\")\n",
        "  print(\"My name is [green]Abdullah()\")\n",
        "\n",
        "async def main():\n",
        "  await my_function()\n",
        "\n",
        "asyncio.run(main())"
      ],
      "metadata": {
        "colab": {
          "base_uri": "https://localhost:8080/",
          "height": 49
        },
        "id": "z_MwFMtz4AOM",
        "outputId": "5b3fd02f-42df-4245-de21-d5186fe58c18"
      },
      "execution_count": 17,
      "outputs": [
        {
          "output_type": "display_data",
          "data": {
            "text/plain": [
              "Hello! from \u001b[1;35mmy_function1\u001b[0m\u001b[1m(\u001b[0m\u001b[1m)\u001b[0m\n"
            ],
            "text/html": [
              "<pre style=\"white-space:pre;overflow-x:auto;line-height:normal;font-family:Menlo,'DejaVu Sans Mono',consolas,'Courier New',monospace\">Hello! from <span style=\"color: #800080; text-decoration-color: #800080; font-weight: bold\">my_function1</span><span style=\"font-weight: bold\">()</span>\n",
              "</pre>\n"
            ]
          },
          "metadata": {}
        },
        {
          "output_type": "display_data",
          "data": {
            "text/plain": [
              "My name is \u001b[1;32mAbdullah\u001b[0m\u001b[1;32m(\u001b[0m\u001b[1;32m)\u001b[0m\n"
            ],
            "text/html": [
              "<pre style=\"white-space:pre;overflow-x:auto;line-height:normal;font-family:Menlo,'DejaVu Sans Mono',consolas,'Courier New',monospace\">My name is <span style=\"color: #008000; text-decoration-color: #008000; font-weight: bold\">Abdullah()</span>\n",
              "</pre>\n"
            ]
          },
          "metadata": {}
        }
      ]
    },
    {
      "cell_type": "markdown",
      "source": [
        "\n",
        "## **Awaitable**\n",
        "\n",
        "This function checks if an object is `awaitable`, meaning it supports `await`."
      ],
      "metadata": {
        "id": "zCiLhrUmuTmb"
      }
    },
    {
      "cell_type": "code",
      "source": [
        "import inspect\n",
        "\n",
        "print(\"isawaitable = \", inspect.isawaitable(my_function()))"
      ],
      "metadata": {
        "colab": {
          "base_uri": "https://localhost:8080/",
          "height": 85
        },
        "id": "Vo7YhFc7uEAK",
        "outputId": "59100946-c954-4a8b-8e87-db52e3c676ce"
      },
      "execution_count": null,
      "outputs": [
        {
          "output_type": "stream",
          "name": "stderr",
          "text": [
            "<ipython-input-32-cc8b88d46875>:3: RuntimeWarning: coroutine 'my_function' was never awaited\n",
            "  print(\"isawaitable = \", inspect.isawaitable(my_function()))\n",
            "RuntimeWarning: Enable tracemalloc to get the object allocation traceback\n"
          ]
        },
        {
          "output_type": "display_data",
          "data": {
            "text/plain": [
              "isawaitable =  \u001b[3;92mTrue\u001b[0m\n"
            ],
            "text/html": [
              "<pre style=\"white-space:pre;overflow-x:auto;line-height:normal;font-family:Menlo,'DejaVu Sans Mono',consolas,'Courier New',monospace\">isawaitable =  <span style=\"color: #00ff00; text-decoration-color: #00ff00; font-style: italic\">True</span>\n",
              "</pre>\n"
            ]
          },
          "metadata": {}
        }
      ]
    },
    {
      "cell_type": "markdown",
      "source": [
        "## **Custom Awaitables (Implementing `__await__()`)**\n",
        "\n",
        "-   Any class can be made **awaitable** by defining `__await__()`.\n",
        "    \n",
        "\n",
        "### **Example**"
      ],
      "metadata": {
        "id": "ARoCqJP50Lpz"
      }
    },
    {
      "cell_type": "code",
      "source": [
        "class CustomAwaitable:\n",
        "    def __await__(self):\n",
        "        yield from asyncio.sleep(2).__await__()  # Delegate to asyncio\n",
        "        return \"Custom Awaitable Done\"\n",
        "\n",
        "async def main():\n",
        "    result = await CustomAwaitable()\n",
        "    print(result)\n",
        "\n",
        "asyncio.run(main())"
      ],
      "metadata": {
        "colab": {
          "base_uri": "https://localhost:8080/",
          "height": 33
        },
        "id": "_rEVgFL00PVz",
        "outputId": "a7bb5f9f-e540-4441-fea2-e37d89d679b3"
      },
      "execution_count": 18,
      "outputs": [
        {
          "output_type": "display_data",
          "data": {
            "text/plain": [
              "Custom Awaitable Done\n"
            ],
            "text/html": [
              "<pre style=\"white-space:pre;overflow-x:auto;line-height:normal;font-family:Menlo,'DejaVu Sans Mono',consolas,'Courier New',monospace\">Custom Awaitable Done\n",
              "</pre>\n"
            ]
          },
          "metadata": {}
        }
      ]
    },
    {
      "cell_type": "code",
      "source": [
        "class Welcome:\n",
        "  def __await__(self):\n",
        "    yield from asyncio.sleep(2).__await__()\n",
        "    return \"Welcome to Home ...\"\n",
        "\n",
        "async def welcome():\n",
        "  result1 = await Welcome()\n",
        "  print(result1)\n",
        "asyncio.run(welcome())"
      ],
      "metadata": {
        "colab": {
          "base_uri": "https://localhost:8080/",
          "height": 33
        },
        "id": "k6fG7iDz4Q7P",
        "outputId": "36ee6621-85a9-425e-de1f-3be9ddfeb59e"
      },
      "execution_count": 22,
      "outputs": [
        {
          "output_type": "display_data",
          "data": {
            "text/plain": [
              "Welcome to Home \u001b[33m...\u001b[0m\n"
            ],
            "text/html": [
              "<pre style=\"white-space:pre;overflow-x:auto;line-height:normal;font-family:Menlo,'DejaVu Sans Mono',consolas,'Courier New',monospace\">Welcome to Home <span style=\"color: #808000; text-decoration-color: #808000\">...</span>\n",
              "</pre>\n"
            ]
          },
          "metadata": {}
        }
      ]
    },
    {
      "cell_type": "code",
      "source": [
        "import asyncio\n",
        "\n",
        "async def task1():\n",
        "       await asyncio.sleep(4)\n",
        "       print(\"\\tTask 1 done\")\n",
        "\n",
        "async def task2():\n",
        "       await asyncio.sleep(1)\n",
        "       print(\"\\tTask 2 done\")\n",
        "\n",
        "async def main():\n",
        "       t1 = asyncio.create_task(task1())\n",
        "       t2 = asyncio.create_task(task2())\n",
        "       print(\"Start main()...\")\n",
        "       await asyncio.gather(t1, t2)\n",
        "       print(\"End main()...\")\n",
        "\n",
        "asyncio.run(main())"
      ],
      "metadata": {
        "colab": {
          "base_uri": "https://localhost:8080/",
          "height": 81
        },
        "id": "Ppt91_oD5Tny",
        "outputId": "6c7e63c6-35b0-4e20-e851-d6066d4d24b2"
      },
      "execution_count": 25,
      "outputs": [
        {
          "output_type": "display_data",
          "data": {
            "text/plain": [
              "Start \u001b[1;35mmain\u001b[0m\u001b[1m(\u001b[0m\u001b[1m)\u001b[0m\u001b[33m...\u001b[0m\n"
            ],
            "text/html": [
              "<pre style=\"white-space:pre;overflow-x:auto;line-height:normal;font-family:Menlo,'DejaVu Sans Mono',consolas,'Courier New',monospace\">Start <span style=\"color: #800080; text-decoration-color: #800080; font-weight: bold\">main</span><span style=\"font-weight: bold\">()</span><span style=\"color: #808000; text-decoration-color: #808000\">...</span>\n",
              "</pre>\n"
            ]
          },
          "metadata": {}
        },
        {
          "output_type": "display_data",
          "data": {
            "text/plain": [
              "        Task \u001b[1;36m2\u001b[0m done\n"
            ],
            "text/html": [
              "<pre style=\"white-space:pre;overflow-x:auto;line-height:normal;font-family:Menlo,'DejaVu Sans Mono',consolas,'Courier New',monospace\">        Task <span style=\"color: #008080; text-decoration-color: #008080; font-weight: bold\">2</span> done\n",
              "</pre>\n"
            ]
          },
          "metadata": {}
        },
        {
          "output_type": "display_data",
          "data": {
            "text/plain": [
              "        Task \u001b[1;36m1\u001b[0m done\n"
            ],
            "text/html": [
              "<pre style=\"white-space:pre;overflow-x:auto;line-height:normal;font-family:Menlo,'DejaVu Sans Mono',consolas,'Courier New',monospace\">        Task <span style=\"color: #008080; text-decoration-color: #008080; font-weight: bold\">1</span> done\n",
              "</pre>\n"
            ]
          },
          "metadata": {}
        },
        {
          "output_type": "display_data",
          "data": {
            "text/plain": [
              "End \u001b[1;35mmain\u001b[0m\u001b[1m(\u001b[0m\u001b[1m)\u001b[0m\u001b[33m...\u001b[0m\n"
            ],
            "text/html": [
              "<pre style=\"white-space:pre;overflow-x:auto;line-height:normal;font-family:Menlo,'DejaVu Sans Mono',consolas,'Courier New',monospace\">End <span style=\"color: #800080; text-decoration-color: #800080; font-weight: bold\">main</span><span style=\"font-weight: bold\">()</span><span style=\"color: #808000; text-decoration-color: #808000\">...</span>\n",
              "</pre>\n"
            ]
          },
          "metadata": {}
        }
      ]
    },
    {
      "cell_type": "markdown",
      "source": [
        "### Implications\n",
        "\n",
        "- **`Efficiency`**: Ideal for I/O-bound tasks, allowing efficient handling of multiple operations without blocking.\n",
        "\n",
        "- **`Single-Threaded`**: Not suitable for CPU-bound tasks, which may require multiprocessing.\n",
        "- **`Correct Usage`**: Ensure all coroutines are awaited properly to avoid returning coroutine objects instead of results.\n",
        "\n",
        "### Conclusion\n",
        "\n",
        "`asyncio` and `await` work together to enable asynchronous programming in Python, allowing for efficient handling of concurrent operations, particularly in I/O-bound scenarios. Understanding their roles and correct usage is key to writing effective async code."
      ],
      "metadata": {
        "id": "gvIpYYQf5lKa"
      }
    },
    {
      "cell_type": "markdown",
      "source": [
        "\n",
        "\n",
        "---\n",
        "\n",
        "\n",
        "# **Futures**\n",
        "\n",
        "\n",
        "\n",
        "---\n",
        "\n",
        "\n",
        "\n",
        "In Python's `asyncio` library, **Futures** are a fundamental concept that represents the result of an asynchronous operation that may not have completed yet. Futures are closely related to coroutines and tasks, but they serve a specific purpose in handling asynchronous operations.\n",
        "\n",
        "### **What Are Futures**?\n",
        "\n",
        "A **Future** is an object that represents the result of a task that is not yet complete. It acts as a placeholder for the result, which will be available at some point in the future. Once the task completes, the Future is resolved, and its result (or exception, if the task failed) can be retrieved.\n",
        "\n",
        "### **Key Characteristics of Futures**\n",
        "\n",
        "1. **`Asynchronous Result`**:\n",
        "   - A Future is created when an asynchronous operation is initiated, but the result of that operation is not immediately available.\n",
        "   - The Future keeps track of the result and notifies any waiting code once the result is available.\n",
        "\n",
        "2. **`States of a Future`**:\n",
        "   - **`Pending`**: The initial state where the operation has not yet started or is still in progress.\n",
        "   - **`Done`**: The operation has completed, and the result is available.\n",
        "   - **`Cancelled`**: The operation was cancelled before it could complete.\n",
        "\n",
        "3. **`Awaitable`**:\n",
        "   - Futures are awaitable objects, meaning they can be used with the `await` keyword in async functions.\n",
        "\n",
        "4. **`One-Time Use`**:\n",
        "   - A Future can only be resolved once. Once it is done, it cannot be reset or reused.\n",
        "\n",
        "### **Relationship Between Futures, Coroutines, and Tasks**\n",
        "\n",
        "- **`Coroutines`**: Defined using `async def`, coroutines are functions that can be paused and resumed. They are not directly executable and must be scheduled as tasks.\n",
        "  \n",
        "- **`Tasks`**: A Task wraps a coroutine and is responsible for running it. When you create a Task, it automatically schedules the coroutine to run on the event loop. A Task returns a Future that represents the result of the coroutine.\n",
        "\n",
        "- **`Futures`**: A Future is the result of a Task. When you await a Task, you are effectively awaiting its Future.\n",
        "\n",
        "### **Example of Using Futures**\n",
        "\n",
        "Here’s an example that demonstrates how Futures work:"
      ],
      "metadata": {
        "id": "rJz1gZrI6UKe"
      }
    },
    {
      "cell_type": "code",
      "source": [
        "import asyncio\n",
        "\n",
        "async def my_coroutine():\n",
        "    await asyncio.sleep(1)\n",
        "    print(\"\\tTask done...\")\n",
        "    return \"My Coroutine completed\"\n",
        "\n",
        "async def main():\n",
        "    # Create a Task (which returns a Future)\n",
        "    print(\"Starting Coroutine...\")\n",
        "    future = asyncio.create_task(my_coroutine())\n",
        "\n",
        "    print(\"Going to Maldives on a 2 day vacation\")\n",
        "    await asyncio.sleep(1000)\n",
        "    print(\"Come back from vacation\")\n",
        "\n",
        "\n",
        "    # Await the Future\n",
        "    result = await future\n",
        "    print(\"future = \",result)\n",
        "\n",
        "asyncio.run(main())\n",
        "#await asyncio.create_task(main())"
      ],
      "metadata": {
        "colab": {
          "base_uri": "https://localhost:8080/",
          "height": 387
        },
        "id": "wIKt1fXK8qK8",
        "outputId": "7a3e0f32-c712-45b5-c5a3-bcedf3bde9a0"
      },
      "execution_count": 27,
      "outputs": [
        {
          "output_type": "display_data",
          "data": {
            "text/plain": [
              "Starting Coroutine\u001b[33m...\u001b[0m\n"
            ],
            "text/html": [
              "<pre style=\"white-space:pre;overflow-x:auto;line-height:normal;font-family:Menlo,'DejaVu Sans Mono',consolas,'Courier New',monospace\">Starting Coroutine<span style=\"color: #808000; text-decoration-color: #808000\">...</span>\n",
              "</pre>\n"
            ]
          },
          "metadata": {}
        },
        {
          "output_type": "display_data",
          "data": {
            "text/plain": [
              "Going to Maldives on a \u001b[1;36m2\u001b[0m day vacation\n"
            ],
            "text/html": [
              "<pre style=\"white-space:pre;overflow-x:auto;line-height:normal;font-family:Menlo,'DejaVu Sans Mono',consolas,'Courier New',monospace\">Going to Maldives on a <span style=\"color: #008080; text-decoration-color: #008080; font-weight: bold\">2</span> day vacation\n",
              "</pre>\n"
            ]
          },
          "metadata": {}
        },
        {
          "output_type": "display_data",
          "data": {
            "text/plain": [
              "        Task done\u001b[33m...\u001b[0m\n"
            ],
            "text/html": [
              "<pre style=\"white-space:pre;overflow-x:auto;line-height:normal;font-family:Menlo,'DejaVu Sans Mono',consolas,'Courier New',monospace\">        Task done<span style=\"color: #808000; text-decoration-color: #808000\">...</span>\n",
              "</pre>\n"
            ]
          },
          "metadata": {}
        },
        {
          "output_type": "error",
          "ename": "KeyboardInterrupt",
          "evalue": "",
          "traceback": [
            "\u001b[0;31m---------------------------------------------------------------------------\u001b[0m",
            "\u001b[0;31mKeyboardInterrupt\u001b[0m                         Traceback (most recent call last)",
            "\u001b[0;32m/tmp/ipython-input-27-408955817.py\u001b[0m in \u001b[0;36m<cell line: 0>\u001b[0;34m()\u001b[0m\n\u001b[1;32m     20\u001b[0m     \u001b[0mprint\u001b[0m\u001b[0;34m(\u001b[0m\u001b[0;34m\"future = \"\u001b[0m\u001b[0;34m,\u001b[0m\u001b[0mresult\u001b[0m\u001b[0;34m)\u001b[0m\u001b[0;34m\u001b[0m\u001b[0;34m\u001b[0m\u001b[0m\n\u001b[1;32m     21\u001b[0m \u001b[0;34m\u001b[0m\u001b[0m\n\u001b[0;32m---> 22\u001b[0;31m \u001b[0masyncio\u001b[0m\u001b[0;34m.\u001b[0m\u001b[0mrun\u001b[0m\u001b[0;34m(\u001b[0m\u001b[0mmain\u001b[0m\u001b[0;34m(\u001b[0m\u001b[0;34m)\u001b[0m\u001b[0;34m)\u001b[0m\u001b[0;34m\u001b[0m\u001b[0;34m\u001b[0m\u001b[0m\n\u001b[0m\u001b[1;32m     23\u001b[0m \u001b[0;31m#await asyncio.create_task(main())\u001b[0m\u001b[0;34m\u001b[0m\u001b[0;34m\u001b[0m\u001b[0m\n",
            "\u001b[0;32m/usr/local/lib/python3.11/dist-packages/nest_asyncio.py\u001b[0m in \u001b[0;36mrun\u001b[0;34m(main, debug)\u001b[0m\n\u001b[1;32m     28\u001b[0m         \u001b[0mtask\u001b[0m \u001b[0;34m=\u001b[0m \u001b[0masyncio\u001b[0m\u001b[0;34m.\u001b[0m\u001b[0mensure_future\u001b[0m\u001b[0;34m(\u001b[0m\u001b[0mmain\u001b[0m\u001b[0;34m)\u001b[0m\u001b[0;34m\u001b[0m\u001b[0;34m\u001b[0m\u001b[0m\n\u001b[1;32m     29\u001b[0m         \u001b[0;32mtry\u001b[0m\u001b[0;34m:\u001b[0m\u001b[0;34m\u001b[0m\u001b[0;34m\u001b[0m\u001b[0m\n\u001b[0;32m---> 30\u001b[0;31m             \u001b[0;32mreturn\u001b[0m \u001b[0mloop\u001b[0m\u001b[0;34m.\u001b[0m\u001b[0mrun_until_complete\u001b[0m\u001b[0;34m(\u001b[0m\u001b[0mtask\u001b[0m\u001b[0;34m)\u001b[0m\u001b[0;34m\u001b[0m\u001b[0;34m\u001b[0m\u001b[0m\n\u001b[0m\u001b[1;32m     31\u001b[0m         \u001b[0;32mfinally\u001b[0m\u001b[0;34m:\u001b[0m\u001b[0;34m\u001b[0m\u001b[0;34m\u001b[0m\u001b[0m\n\u001b[1;32m     32\u001b[0m             \u001b[0;32mif\u001b[0m \u001b[0;32mnot\u001b[0m \u001b[0mtask\u001b[0m\u001b[0;34m.\u001b[0m\u001b[0mdone\u001b[0m\u001b[0;34m(\u001b[0m\u001b[0;34m)\u001b[0m\u001b[0;34m:\u001b[0m\u001b[0;34m\u001b[0m\u001b[0;34m\u001b[0m\u001b[0m\n",
            "\u001b[0;32m/usr/local/lib/python3.11/dist-packages/nest_asyncio.py\u001b[0m in \u001b[0;36mrun_until_complete\u001b[0;34m(self, future)\u001b[0m\n\u001b[1;32m     90\u001b[0m                 \u001b[0mf\u001b[0m\u001b[0;34m.\u001b[0m\u001b[0m_log_destroy_pending\u001b[0m \u001b[0;34m=\u001b[0m \u001b[0;32mFalse\u001b[0m\u001b[0;34m\u001b[0m\u001b[0;34m\u001b[0m\u001b[0m\n\u001b[1;32m     91\u001b[0m             \u001b[0;32mwhile\u001b[0m \u001b[0;32mnot\u001b[0m \u001b[0mf\u001b[0m\u001b[0;34m.\u001b[0m\u001b[0mdone\u001b[0m\u001b[0;34m(\u001b[0m\u001b[0;34m)\u001b[0m\u001b[0;34m:\u001b[0m\u001b[0;34m\u001b[0m\u001b[0;34m\u001b[0m\u001b[0m\n\u001b[0;32m---> 92\u001b[0;31m                 \u001b[0mself\u001b[0m\u001b[0;34m.\u001b[0m\u001b[0m_run_once\u001b[0m\u001b[0;34m(\u001b[0m\u001b[0;34m)\u001b[0m\u001b[0;34m\u001b[0m\u001b[0;34m\u001b[0m\u001b[0m\n\u001b[0m\u001b[1;32m     93\u001b[0m                 \u001b[0;32mif\u001b[0m \u001b[0mself\u001b[0m\u001b[0;34m.\u001b[0m\u001b[0m_stopping\u001b[0m\u001b[0;34m:\u001b[0m\u001b[0;34m\u001b[0m\u001b[0;34m\u001b[0m\u001b[0m\n\u001b[1;32m     94\u001b[0m                     \u001b[0;32mbreak\u001b[0m\u001b[0;34m\u001b[0m\u001b[0;34m\u001b[0m\u001b[0m\n",
            "\u001b[0;32m/usr/local/lib/python3.11/dist-packages/nest_asyncio.py\u001b[0m in \u001b[0;36m_run_once\u001b[0;34m(self)\u001b[0m\n\u001b[1;32m    113\u001b[0m                 scheduled[0]._when - self.time(), 0), 86400) if scheduled\n\u001b[1;32m    114\u001b[0m             else None)\n\u001b[0;32m--> 115\u001b[0;31m         \u001b[0mevent_list\u001b[0m \u001b[0;34m=\u001b[0m \u001b[0mself\u001b[0m\u001b[0;34m.\u001b[0m\u001b[0m_selector\u001b[0m\u001b[0;34m.\u001b[0m\u001b[0mselect\u001b[0m\u001b[0;34m(\u001b[0m\u001b[0mtimeout\u001b[0m\u001b[0;34m)\u001b[0m\u001b[0;34m\u001b[0m\u001b[0;34m\u001b[0m\u001b[0m\n\u001b[0m\u001b[1;32m    116\u001b[0m         \u001b[0mself\u001b[0m\u001b[0;34m.\u001b[0m\u001b[0m_process_events\u001b[0m\u001b[0;34m(\u001b[0m\u001b[0mevent_list\u001b[0m\u001b[0;34m)\u001b[0m\u001b[0;34m\u001b[0m\u001b[0;34m\u001b[0m\u001b[0m\n\u001b[1;32m    117\u001b[0m \u001b[0;34m\u001b[0m\u001b[0m\n",
            "\u001b[0;32m/usr/lib/python3.11/selectors.py\u001b[0m in \u001b[0;36mselect\u001b[0;34m(self, timeout)\u001b[0m\n\u001b[1;32m    466\u001b[0m             \u001b[0mready\u001b[0m \u001b[0;34m=\u001b[0m \u001b[0;34m[\u001b[0m\u001b[0;34m]\u001b[0m\u001b[0;34m\u001b[0m\u001b[0;34m\u001b[0m\u001b[0m\n\u001b[1;32m    467\u001b[0m             \u001b[0;32mtry\u001b[0m\u001b[0;34m:\u001b[0m\u001b[0;34m\u001b[0m\u001b[0;34m\u001b[0m\u001b[0m\n\u001b[0;32m--> 468\u001b[0;31m                 \u001b[0mfd_event_list\u001b[0m \u001b[0;34m=\u001b[0m \u001b[0mself\u001b[0m\u001b[0;34m.\u001b[0m\u001b[0m_selector\u001b[0m\u001b[0;34m.\u001b[0m\u001b[0mpoll\u001b[0m\u001b[0;34m(\u001b[0m\u001b[0mtimeout\u001b[0m\u001b[0;34m,\u001b[0m \u001b[0mmax_ev\u001b[0m\u001b[0;34m)\u001b[0m\u001b[0;34m\u001b[0m\u001b[0;34m\u001b[0m\u001b[0m\n\u001b[0m\u001b[1;32m    469\u001b[0m             \u001b[0;32mexcept\u001b[0m \u001b[0mInterruptedError\u001b[0m\u001b[0;34m:\u001b[0m\u001b[0;34m\u001b[0m\u001b[0;34m\u001b[0m\u001b[0m\n\u001b[1;32m    470\u001b[0m                 \u001b[0;32mreturn\u001b[0m \u001b[0mready\u001b[0m\u001b[0;34m\u001b[0m\u001b[0;34m\u001b[0m\u001b[0m\n",
            "\u001b[0;31mKeyboardInterrupt\u001b[0m: "
          ]
        }
      ]
    },
    {
      "cell_type": "markdown",
      "source": [
        "### **States of a `Future` in Python (`asyncio.Future`)**\n",
        "\n",
        "A `Future` represents a **placeholder for a result** that is **not yet available** in asynchronous programming. It can be in the following states:\n",
        "\n",
        "1️⃣ **`Pending`** – The initial state when the operation **has not started** or is **still in progress**.  \n",
        "2️⃣ **`Done`** – The operation has **completed successfully**, and the result is available.  \n",
        "3️⃣ **`Cancelled`** – The operation was **cancelled before completion**.\n",
        "\n",
        "----------\n",
        "\n",
        "### **Example: Understanding Future States in `asyncio`**"
      ],
      "metadata": {
        "id": "qeKaedQZwHfT"
      }
    },
    {
      "cell_type": "code",
      "source": [
        "import asyncio\n",
        "\n",
        "async def example_future():\n",
        "    future = asyncio.Future()  # Create a Future object\n",
        "    print(f\"Initial state: {future.done()}\")  # False (Pending)\n",
        "\n",
        "    # Simulate computation\n",
        "    await asyncio.sleep(2)\n",
        "\n",
        "    future.set_result(\"Task Completed\")  # Mark future as done\n",
        "    print(f\"Final state: {future.done()}\")  # True (Done)\n",
        "    print(f\"Result: {future.result()}\")  # \"Task Completed\"\n",
        "\n",
        "asyncio.run(example_future()) # Error, will see it indepth in next topic\n",
        "\n",
        "#await example_future() # Directly await the coroutine instead of calling asyncio.run"
      ],
      "metadata": {
        "colab": {
          "base_uri": "https://localhost:8080/",
          "height": 65
        },
        "id": "t_cQDUEy3cBo",
        "outputId": "0becf6f2-de85-4764-9389-be922fb72d2b"
      },
      "execution_count": 28,
      "outputs": [
        {
          "output_type": "display_data",
          "data": {
            "text/plain": [
              "Initial state: \u001b[3;91mFalse\u001b[0m\n"
            ],
            "text/html": [
              "<pre style=\"white-space:pre;overflow-x:auto;line-height:normal;font-family:Menlo,'DejaVu Sans Mono',consolas,'Courier New',monospace\">Initial state: <span style=\"color: #ff0000; text-decoration-color: #ff0000; font-style: italic\">False</span>\n",
              "</pre>\n"
            ]
          },
          "metadata": {}
        },
        {
          "output_type": "display_data",
          "data": {
            "text/plain": [
              "Final state: \u001b[3;92mTrue\u001b[0m\n"
            ],
            "text/html": [
              "<pre style=\"white-space:pre;overflow-x:auto;line-height:normal;font-family:Menlo,'DejaVu Sans Mono',consolas,'Courier New',monospace\">Final state: <span style=\"color: #00ff00; text-decoration-color: #00ff00; font-style: italic\">True</span>\n",
              "</pre>\n"
            ]
          },
          "metadata": {}
        },
        {
          "output_type": "display_data",
          "data": {
            "text/plain": [
              "Result: Task Completed\n"
            ],
            "text/html": [
              "<pre style=\"white-space:pre;overflow-x:auto;line-height:normal;font-family:Menlo,'DejaVu Sans Mono',consolas,'Courier New',monospace\">Result: Task Completed\n",
              "</pre>\n"
            ]
          },
          "metadata": {}
        }
      ]
    },
    {
      "cell_type": "markdown",
      "source": [
        "✅ **Initially in `Pending` state**, then **transitions to `Done`** once the result is set."
      ],
      "metadata": {
        "id": "AbRztlv337qd"
      }
    },
    {
      "cell_type": "markdown",
      "source": [
        "### **Cancelling a Future**\n",
        "\n",
        "A `Future` can be **cancelled** before completion"
      ],
      "metadata": {
        "id": "2rwMW_R64CI8"
      }
    },
    {
      "cell_type": "code",
      "source": [
        "import asyncio\n",
        "\n",
        "async def example_cancellation():\n",
        "    future = asyncio.Future()\n",
        "\n",
        "    future.cancel()  # Cancelling the future\n",
        "    print(f\"Cancelled: {future.cancelled()}\")  # True\n",
        "\n",
        "asyncio.run(example_cancellation())\n",
        "#await example_cancellation() # Directly await the coroutine instead of calling asyncio.run\n"
      ],
      "metadata": {
        "colab": {
          "base_uri": "https://localhost:8080/",
          "height": 33
        },
        "id": "mCwZPvC63b--",
        "outputId": "44b65860-b032-4c3d-8703-a56ba8d19cba"
      },
      "execution_count": 29,
      "outputs": [
        {
          "output_type": "display_data",
          "data": {
            "text/plain": [
              "Cancelled: \u001b[3;92mTrue\u001b[0m\n"
            ],
            "text/html": [
              "<pre style=\"white-space:pre;overflow-x:auto;line-height:normal;font-family:Menlo,'DejaVu Sans Mono',consolas,'Courier New',monospace\">Cancelled: <span style=\"color: #00ff00; text-decoration-color: #00ff00; font-style: italic\">True</span>\n",
              "</pre>\n"
            ]
          },
          "metadata": {}
        }
      ]
    },
    {
      "cell_type": "code",
      "source": [
        "# prompt: examples of future methods\n",
        "\n",
        "async def example_future():\n",
        "    future = asyncio.Future()  # Create a Future object\n",
        "    print(f\"Initial state: {future.done()}\")  # False (Pending)\n",
        "\n",
        "    # Simulate computation\n",
        "    await asyncio.sleep(2)\n",
        "\n",
        "    future.set_result(\"Task Completed\")  # Mark future as done\n",
        "    print(f\"Final state: {future.done()}\")  # True (Done)\n",
        "    print(f\"Result: {future.result()}\")  # \"Task Completed\"\n",
        "\n",
        "asyncio.run(example_future()) # Error, will see it indepth in next topic\n",
        "\n",
        "#await example_future() # Directly await the coroutine instead of calling asyncio.run\n"
      ],
      "metadata": {
        "colab": {
          "base_uri": "https://localhost:8080/",
          "height": 65
        },
        "id": "3yiWPJFH3b8V",
        "outputId": "6975d316-def1-47ec-b032-c0a27c2beaa3"
      },
      "execution_count": 30,
      "outputs": [
        {
          "output_type": "display_data",
          "data": {
            "text/plain": [
              "Initial state: \u001b[3;91mFalse\u001b[0m\n"
            ],
            "text/html": [
              "<pre style=\"white-space:pre;overflow-x:auto;line-height:normal;font-family:Menlo,'DejaVu Sans Mono',consolas,'Courier New',monospace\">Initial state: <span style=\"color: #ff0000; text-decoration-color: #ff0000; font-style: italic\">False</span>\n",
              "</pre>\n"
            ]
          },
          "metadata": {}
        },
        {
          "output_type": "display_data",
          "data": {
            "text/plain": [
              "Final state: \u001b[3;92mTrue\u001b[0m\n"
            ],
            "text/html": [
              "<pre style=\"white-space:pre;overflow-x:auto;line-height:normal;font-family:Menlo,'DejaVu Sans Mono',consolas,'Courier New',monospace\">Final state: <span style=\"color: #00ff00; text-decoration-color: #00ff00; font-style: italic\">True</span>\n",
              "</pre>\n"
            ]
          },
          "metadata": {}
        },
        {
          "output_type": "display_data",
          "data": {
            "text/plain": [
              "Result: Task Completed\n"
            ],
            "text/html": [
              "<pre style=\"white-space:pre;overflow-x:auto;line-height:normal;font-family:Menlo,'DejaVu Sans Mono',consolas,'Courier New',monospace\">Result: Task Completed\n",
              "</pre>\n"
            ]
          },
          "metadata": {}
        }
      ]
    },
    {
      "cell_type": "markdown",
      "source": [
        "\n",
        "\n",
        "---\n",
        "\n",
        "\n",
        "# What is an Event Loop?\n",
        "\n",
        "An **event loop** is a core concept in asynchronous programming. It is a programming construct that waits for and dispatches events or messages in a program. The event loop is responsible for managing and executing asynchronous tasks, handling I/O operations, and coordinating the execution of coroutines (asynchronous functions).\n",
        "\n",
        "In simpler terms, the event loop is the \"engine\" that drives asynchronous execution. It continuously checks for tasks that are ready to run, executes them, and waits for new tasks to be added."
      ],
      "metadata": {
        "id": "vzi2KheK1OT_"
      }
    },
    {
      "cell_type": "code",
      "source": [
        "loop = asyncio.get_event_loop()\n",
        "task = loop.create_task(example_future())\n",
        "task"
      ],
      "metadata": {
        "colab": {
          "base_uri": "https://localhost:8080/"
        },
        "id": "Ud_NONXs00To",
        "outputId": "3383d968-29d0-45bc-aa79-740853e65760"
      },
      "execution_count": 31,
      "outputs": [
        {
          "output_type": "execute_result",
          "data": {
            "text/plain": [
              "<Task pending name='Task-34' coro=<example_future() running at /tmp/ipython-input-30-3510340521.py:3>>"
            ]
          },
          "metadata": {},
          "execution_count": 31
        }
      ]
    },
    {
      "cell_type": "code",
      "source": [
        "task"
      ],
      "metadata": {
        "colab": {
          "base_uri": "https://localhost:8080/"
        },
        "id": "8GpxDcFN1CY3",
        "outputId": "3d99d6b8-2a65-4eb0-d94b-46ca623c4530"
      },
      "execution_count": null,
      "outputs": [
        {
          "output_type": "execute_result",
          "data": {
            "text/plain": [
              "<Task finished name='Task-5' coro=<example_future() done, defined at <ipython-input-8-8cc165c26d0d>:3> result=None>"
            ]
          },
          "metadata": {},
          "execution_count": 10
        }
      ]
    },
    {
      "cell_type": "markdown",
      "source": [
        "### How Does an Event Loop Work?\n",
        "\n",
        "1.  **Task Queue**: The event loop maintains a queue of tasks (coroutines, callbacks, etc.) that need to be executed.\n",
        "2.  **Event Handling**: It listens for events (e.g., I/O operations, timers, or external signals) and schedules the corresponding tasks to run.\n",
        "3.  **Execution**: When a task is ready to run (e.g., an I/O operation completes or a timer expires), the event loop executes it.\n",
        "4.  **Non-blocking**: While one task is waiting (e.g., for I/O), the event loop can switch to other tasks, ensuring that the program remains responsive."
      ],
      "metadata": {
        "id": "-kLLtn4H1icu"
      }
    },
    {
      "cell_type": "code",
      "metadata": {
        "colab": {
          "base_uri": "https://localhost:8080/",
          "height": 225
        },
        "id": "005a3db4",
        "outputId": "781f2239-47cb-4cae-a0cf-b8e93ed010f5"
      },
      "source": [
        "import threading\n",
        "import time\n",
        "\n",
        "def print_numbers():\n",
        "  \"\"\"Function to print numbers from 1 to 5 with a delay.\"\"\"\n",
        "  for i in range(1, 6):\n",
        "    time.sleep(1)\n",
        "    print(f\"Thread 1: Number {i}\")\n",
        "\n",
        "def print_letters():\n",
        "  \"\"\"Function to print letters from A to E with a delay.\"\"\"\n",
        "  for letter in ['A', 'B', 'C', 'D', 'E']:\n",
        "    time.sleep(1.5)\n",
        "    print(f\"Thread 2: Letter {letter}\")\n",
        "start_time = time.time()\n",
        "# Create two thread objects\n",
        "thread1 = threading.Thread(target=print_numbers)\n",
        "thread2 = threading.Thread(target=print_letters)\n",
        "\n",
        "# Start the threads\n",
        "print(\"Starting threads...\")\n",
        "thread1.start()\n",
        "thread2.start()\n",
        "\n",
        "# Wait for both threads to complete\n",
        "thread1.join()\n",
        "thread2.join()\n",
        "print(f\"Total time taken: {time.time() - start_time} seconds\")\n",
        "print(\"Threads finished.\")"
      ],
      "execution_count": 34,
      "outputs": [
        {
          "output_type": "display_data",
          "data": {
            "text/plain": [
              "Starting threads\u001b[33m...\u001b[0m\n"
            ],
            "text/html": [
              "<pre style=\"white-space:pre;overflow-x:auto;line-height:normal;font-family:Menlo,'DejaVu Sans Mono',consolas,'Courier New',monospace\">Starting threads<span style=\"color: #808000; text-decoration-color: #808000\">...</span>\n",
              "</pre>\n"
            ]
          },
          "metadata": {}
        },
        {
          "output_type": "display_data",
          "data": {
            "text/plain": [
              "Thread \u001b[1;36m1\u001b[0m: Number \u001b[1;36m1\u001b[0m\n"
            ],
            "text/html": [
              "<pre style=\"white-space:pre;overflow-x:auto;line-height:normal;font-family:Menlo,'DejaVu Sans Mono',consolas,'Courier New',monospace\">Thread <span style=\"color: #008080; text-decoration-color: #008080; font-weight: bold\">1</span>: Number <span style=\"color: #008080; text-decoration-color: #008080; font-weight: bold\">1</span>\n",
              "</pre>\n"
            ]
          },
          "metadata": {}
        },
        {
          "output_type": "display_data",
          "data": {
            "text/plain": [
              "Thread \u001b[1;36m2\u001b[0m: Letter A\n"
            ],
            "text/html": [
              "<pre style=\"white-space:pre;overflow-x:auto;line-height:normal;font-family:Menlo,'DejaVu Sans Mono',consolas,'Courier New',monospace\">Thread <span style=\"color: #008080; text-decoration-color: #008080; font-weight: bold\">2</span>: Letter A\n",
              "</pre>\n"
            ]
          },
          "metadata": {}
        },
        {
          "output_type": "display_data",
          "data": {
            "text/plain": [
              "Thread \u001b[1;36m1\u001b[0m: Number \u001b[1;36m2\u001b[0m\n"
            ],
            "text/html": [
              "<pre style=\"white-space:pre;overflow-x:auto;line-height:normal;font-family:Menlo,'DejaVu Sans Mono',consolas,'Courier New',monospace\">Thread <span style=\"color: #008080; text-decoration-color: #008080; font-weight: bold\">1</span>: Number <span style=\"color: #008080; text-decoration-color: #008080; font-weight: bold\">2</span>\n",
              "</pre>\n"
            ]
          },
          "metadata": {}
        },
        {
          "output_type": "display_data",
          "data": {
            "text/plain": [
              "Thread \u001b[1;36m2\u001b[0m: Letter B\n"
            ],
            "text/html": [
              "<pre style=\"white-space:pre;overflow-x:auto;line-height:normal;font-family:Menlo,'DejaVu Sans Mono',consolas,'Courier New',monospace\">Thread <span style=\"color: #008080; text-decoration-color: #008080; font-weight: bold\">2</span>: Letter B\n",
              "</pre>\n"
            ]
          },
          "metadata": {}
        },
        {
          "output_type": "display_data",
          "data": {
            "text/plain": [
              "Thread \u001b[1;36m1\u001b[0m: Number \u001b[1;36m3\u001b[0m\n"
            ],
            "text/html": [
              "<pre style=\"white-space:pre;overflow-x:auto;line-height:normal;font-family:Menlo,'DejaVu Sans Mono',consolas,'Courier New',monospace\">Thread <span style=\"color: #008080; text-decoration-color: #008080; font-weight: bold\">1</span>: Number <span style=\"color: #008080; text-decoration-color: #008080; font-weight: bold\">3</span>\n",
              "</pre>\n"
            ]
          },
          "metadata": {}
        },
        {
          "output_type": "display_data",
          "data": {
            "text/plain": [
              "Thread \u001b[1;36m1\u001b[0m: Number \u001b[1;36m4\u001b[0m\n"
            ],
            "text/html": [
              "<pre style=\"white-space:pre;overflow-x:auto;line-height:normal;font-family:Menlo,'DejaVu Sans Mono',consolas,'Courier New',monospace\">Thread <span style=\"color: #008080; text-decoration-color: #008080; font-weight: bold\">1</span>: Number <span style=\"color: #008080; text-decoration-color: #008080; font-weight: bold\">4</span>\n",
              "</pre>\n"
            ]
          },
          "metadata": {}
        },
        {
          "output_type": "display_data",
          "data": {
            "text/plain": [
              "Thread \u001b[1;36m2\u001b[0m: Letter C\n"
            ],
            "text/html": [
              "<pre style=\"white-space:pre;overflow-x:auto;line-height:normal;font-family:Menlo,'DejaVu Sans Mono',consolas,'Courier New',monospace\">Thread <span style=\"color: #008080; text-decoration-color: #008080; font-weight: bold\">2</span>: Letter C\n",
              "</pre>\n"
            ]
          },
          "metadata": {}
        },
        {
          "output_type": "display_data",
          "data": {
            "text/plain": [
              "Thread \u001b[1;36m1\u001b[0m: Number \u001b[1;36m5\u001b[0m\n"
            ],
            "text/html": [
              "<pre style=\"white-space:pre;overflow-x:auto;line-height:normal;font-family:Menlo,'DejaVu Sans Mono',consolas,'Courier New',monospace\">Thread <span style=\"color: #008080; text-decoration-color: #008080; font-weight: bold\">1</span>: Number <span style=\"color: #008080; text-decoration-color: #008080; font-weight: bold\">5</span>\n",
              "</pre>\n"
            ]
          },
          "metadata": {}
        },
        {
          "output_type": "display_data",
          "data": {
            "text/plain": [
              "Thread \u001b[1;36m2\u001b[0m: Letter D\n"
            ],
            "text/html": [
              "<pre style=\"white-space:pre;overflow-x:auto;line-height:normal;font-family:Menlo,'DejaVu Sans Mono',consolas,'Courier New',monospace\">Thread <span style=\"color: #008080; text-decoration-color: #008080; font-weight: bold\">2</span>: Letter D\n",
              "</pre>\n"
            ]
          },
          "metadata": {}
        },
        {
          "output_type": "display_data",
          "data": {
            "text/plain": [
              "Thread \u001b[1;36m2\u001b[0m: Letter E\n"
            ],
            "text/html": [
              "<pre style=\"white-space:pre;overflow-x:auto;line-height:normal;font-family:Menlo,'DejaVu Sans Mono',consolas,'Courier New',monospace\">Thread <span style=\"color: #008080; text-decoration-color: #008080; font-weight: bold\">2</span>: Letter E\n",
              "</pre>\n"
            ]
          },
          "metadata": {}
        },
        {
          "output_type": "display_data",
          "data": {
            "text/plain": [
              "Total time taken: \u001b[1;36m7.513594627380371\u001b[0m seconds\n"
            ],
            "text/html": [
              "<pre style=\"white-space:pre;overflow-x:auto;line-height:normal;font-family:Menlo,'DejaVu Sans Mono',consolas,'Courier New',monospace\">Total time taken: <span style=\"color: #008080; text-decoration-color: #008080; font-weight: bold\">7.513594627380371</span> seconds\n",
              "</pre>\n"
            ]
          },
          "metadata": {}
        },
        {
          "output_type": "display_data",
          "data": {
            "text/plain": [
              "Threads finished.\n"
            ],
            "text/html": [
              "<pre style=\"white-space:pre;overflow-x:auto;line-height:normal;font-family:Menlo,'DejaVu Sans Mono',consolas,'Courier New',monospace\">Threads finished.\n",
              "</pre>\n"
            ]
          },
          "metadata": {}
        }
      ]
    }
  ],
  "metadata": {
    "colab": {
      "provenance": [],
      "include_colab_link": true
    },
    "kernelspec": {
      "display_name": "Python 3",
      "name": "python3"
    },
    "language_info": {
      "name": "python"
    }
  },
  "nbformat": 4,
  "nbformat_minor": 0
}