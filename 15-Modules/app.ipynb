{
  "cells": [
    {
      "cell_type": "markdown",
      "metadata": {
        "id": "view-in-github",
        "colab_type": "text"
      },
      "source": [
        "<a href=\"https://colab.research.google.com/github/AbdullahMalik17/Python/blob/main/app.ipynb\" target=\"_parent\"><img src=\"https://colab.research.google.com/assets/colab-badge.svg\" alt=\"Open In Colab\"/></a>"
      ]
    },
    {
      "cell_type": "markdown",
      "source": [
        "# Modules\n",
        "The file which contain import is called module file\n",
        "## Built in modules:-\n",
        "- random\n",
        "- os(operating system)\n",
        "- math\n"
      ],
      "metadata": {
        "id": "kgwSOoAvZoCg"
      }
    },
    {
      "cell_type": "code",
      "source": [
        "import demo\n",
        "print(demo.sum(2,4))\n",
        "print(demo.n) # We also import variables from it ."
      ],
      "metadata": {
        "colab": {
          "base_uri": "https://localhost:8080/"
        },
        "id": "CGNoAuIMZxOL",
        "outputId": "a9f25c35-b023-4e5f-9109-c5fa3c645cb4"
      },
      "execution_count": null,
      "outputs": [
        {
          "output_type": "stream",
          "name": "stdout",
          "text": [
            "6\n",
            "9\n"
          ]
        }
      ]
    },
    {
      "cell_type": "markdown",
      "source": [
        "# math module"
      ],
      "metadata": {
        "id": "76mk5Vve3CH0"
      }
    },
    {
      "cell_type": "code",
      "source": [
        "# here we make the program that give the area of circle\n",
        "import math\n",
        "r_1 = int(input(\"Enter a radius to findd the area of circle ?\"))\n",
        "area = math.pi*(r_1**2)\n",
        "print(f\"The area of circle is {area}\")"
      ],
      "metadata": {
        "colab": {
          "base_uri": "https://localhost:8080/"
        },
        "id": "Xddun7iM2XVf",
        "outputId": "9a289f96-e3f9-4a91-a243-003c6ff4dc9d"
      },
      "execution_count": null,
      "outputs": [
        {
          "output_type": "stream",
          "name": "stdout",
          "text": [
            "Enter a radius to findd the area of circle ?4\n",
            "The area of circle is 50.26548245743669\n"
          ]
        }
      ]
    },
    {
      "cell_type": "markdown",
      "source": [
        "# Importing a variable from module"
      ],
      "metadata": {
        "id": "ofhMxhqMBJZp"
      }
    },
    {
      "cell_type": "code",
      "source": [
        "from demo import sum\n",
        "print(sum(9,7))"
      ],
      "metadata": {
        "colab": {
          "base_uri": "https://localhost:8080/"
        },
        "id": "CMUx1vE_BIXs",
        "outputId": "dc2d745c-e249-49ad-9ff1-b42f977ff00b"
      },
      "execution_count": 12,
      "outputs": [
        {
          "output_type": "stream",
          "name": "stdout",
          "text": [
            "16\n"
          ]
        }
      ]
    }
  ],
  "metadata": {
    "language_info": {
      "name": "python"
    },
    "colab": {
      "provenance": [],
      "include_colab_link": true
    },
    "kernelspec": {
      "name": "python3",
      "display_name": "Python 3"
    }
  },
  "nbformat": 4,
  "nbformat_minor": 0
}