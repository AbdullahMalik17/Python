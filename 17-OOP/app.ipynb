{
  "cells": [
    {
      "cell_type": "markdown",
      "metadata": {
        "id": "view-in-github",
        "colab_type": "text"
      },
      "source": [
        "<a href=\"https://colab.research.google.com/github/AbdullahMalik17/Python/blob/main/app.ipynb\" target=\"_parent\"><img src=\"https://colab.research.google.com/assets/colab-badge.svg\" alt=\"Open In Colab\"/></a>"
      ]
    },
    {
      "cell_type": "markdown",
      "metadata": {
        "id": "jZ-QwN6qzyKd"
      },
      "source": [
        "# Programming Paradigms\n",
        "Programming paradigms are used to write a code in distinct way .\n",
        "There are many p-paradigms as follows:-\n",
        "- OOP\n",
        "- Structural Programming\n",
        "- Functional Progamming\n",
        "- Logic programming"
      ]
    },
    {
      "cell_type": "markdown",
      "metadata": {
        "id": "q9XOI-2KzyKg"
      },
      "source": [
        "# OOP (Object Oriented Programming)\n",
        "- class (Blueprint of object)\n"
      ]
    },
    {
      "cell_type": "code",
      "source": [
        "class Myself:\n",
        "  name:str = \"Abdullah\"\n",
        "  f_name:str = \"Athar\"\n",
        "  education:str = \"Matric pass\"\n",
        "\n",
        "abdullah_self = Myself()\n",
        "print(abdullah_self.name)"
      ],
      "metadata": {
        "colab": {
          "base_uri": "https://localhost:8080/"
        },
        "id": "GS73Rre14ADu",
        "outputId": "6d514242-8a0e-44e3-a0cc-2648ee5bbbcc"
      },
      "execution_count": 5,
      "outputs": [
        {
          "output_type": "stream",
          "name": "stdout",
          "text": [
            "Abdullah\n"
          ]
        }
      ]
    },
    {
      "cell_type": "markdown",
      "source": [
        "# Syntax:-\n",
        "  class name :\n",
        "  def __init__(parameters): \\n\n",
        "    self.parameter\n",
        "\n",
        "  def function      # It is used to create method"
      ],
      "metadata": {
        "id": "goegNUTH1YhU"
      }
    },
    {
      "cell_type": "code",
      "source": [
        "class House : # it is a good practise to write the class's name capital .\n",
        "# init function make the empty property and put the value in it from parameter .\n",
        "\n",
        "  def __init__(self,address,number_of_room,number_of_wr):\n",
        "    self.address = address\n",
        "    self.number_of_room = number_of_room\n",
        "    self.number_of_wr = number_of_wr\n",
        "\n",
        "my_house = House(\"Katara Mohallah\",\"8\",\"3\")\n",
        "print(my_house.address)"
      ],
      "metadata": {
        "colab": {
          "base_uri": "https://localhost:8080/"
        },
        "id": "wdGR7eT9z1W0",
        "outputId": "9cc4bafd-b0d8-46cc-b937-987bdbeac269"
      },
      "execution_count": 6,
      "outputs": [
        {
          "output_type": "stream",
          "name": "stdout",
          "text": [
            "Katara Mohallah\n"
          ]
        }
      ]
    }
  ],
  "metadata": {
    "language_info": {
      "name": "python"
    },
    "colab": {
      "provenance": [],
      "include_colab_link": true
    },
    "kernelspec": {
      "name": "python3",
      "display_name": "Python 3"
    }
  },
  "nbformat": 4,
  "nbformat_minor": 0
}