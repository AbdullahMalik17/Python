{
 "cells": [
  {
   "cell_type": "markdown",
   "metadata": {},
   "source": [
    "# Programming Paradigms \n",
    "Programming paradigms are used to write a code in distinct way . \n",
    "There are many p-paradigms as follows:-\n",
    "- OOP\n",
    "- Structural Programming\n",
    "- Functional Progamming\n",
    "- Logic programming "
   ]
  },
  {
   "cell_type": "markdown",
   "metadata": {},
   "source": [
    "# OOP (Object Oriented Programming)\n"
   ]
  }
 ],
 "metadata": {
  "language_info": {
   "name": "python"
  }
 },
 "nbformat": 4,
 "nbformat_minor": 2
}
