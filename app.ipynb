{
  "cells": [
    {
      "cell_type": "markdown",
      "metadata": {
        "id": "view-in-github",
        "colab_type": "text"
      },
      "source": [
        "<a href=\"https://colab.research.google.com/github/AbdullahMalik17/Python/blob/main/app.ipynb\" target=\"_parent\"><img src=\"https://colab.research.google.com/assets/colab-badge.svg\" alt=\"Open In Colab\"/></a>"
      ]
    },
    {
      "cell_type": "code",
      "execution_count": 5,
      "metadata": {
        "vscode": {
          "languageId": "plaintext"
        },
        "colab": {
          "base_uri": "https://localhost:8080/"
        },
        "id": "C6RVMX5nL4kM",
        "outputId": "4edf47a1-764e-4443-ec1c-6bd9a9baea14"
      },
      "outputs": [
        {
          "output_type": "stream",
          "name": "stdout",
          "text": [
            "1.9\n",
            "2.9\n",
            "3.9\n",
            "4.9\n",
            "5.9\n",
            "6.9\n",
            "7.9\n"
          ]
        }
      ],
      "source": [
        "# We use while loop when we have to first run the code according to the condition\n",
        "n = 1.9\n",
        "while n <=8:\n",
        "  print(n)\n",
        "  n=n+1"
      ]
    },
    {
      "cell_type": "code",
      "source": [
        "# We are going to make a guessing game .\n",
        "guess = 0\n",
        "correct_number = 8\n",
        "while guess != correct_number :\n",
        "  guess = int(input(\"Please Input a number \"))\n",
        "  print(\"Wrong number \" if guess != correct_number else \"You guess correct number\") # This is a good way of coding ."
      ],
      "metadata": {
        "id": "A3Q23FEwO8_-",
        "outputId": "d33b38c9-d50d-4295-fd83-1d5a0e96bc64",
        "colab": {
          "base_uri": "https://localhost:8080/"
        }
      },
      "execution_count": 6,
      "outputs": [
        {
          "output_type": "stream",
          "name": "stdout",
          "text": [
            "Please Input a number 6\n",
            "Wrong number \n",
            "Please Input a number 7\n",
            "Wrong number \n",
            "Please Input a number 8\n",
            "You guess correct number\n"
          ]
        }
      ]
    },
    {
      "cell_type": "code",
      "source": [
        "# Write a code about count down from ten\n",
        "num = 10\n",
        "while num >= 0:\n",
        "  print(num)\n",
        "  num=num-1"
      ],
      "metadata": {
        "id": "cbpMWw-lUsst",
        "outputId": "2786c9e5-68ee-4e7e-8cf8-92af9e266537",
        "colab": {
          "base_uri": "https://localhost:8080/"
        }
      },
      "execution_count": 7,
      "outputs": [
        {
          "output_type": "stream",
          "name": "stdout",
          "text": [
            "10\n",
            "9\n",
            "8\n",
            "7\n",
            "6\n",
            "5\n",
            "4\n",
            "3\n",
            "2\n",
            "1\n",
            "0\n"
          ]
        }
      ]
    }
  ],
  "metadata": {
    "language_info": {
      "name": "python"
    },
    "colab": {
      "provenance": [],
      "include_colab_link": true
    },
    "kernelspec": {
      "name": "python3",
      "display_name": "Python 3"
    }
  },
  "nbformat": 4,
  "nbformat_minor": 0
}