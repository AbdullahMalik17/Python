{
  "cells": [
    {
      "cell_type": "markdown",
      "metadata": {
        "id": "view-in-github",
        "colab_type": "text"
      },
      "source": [
        "<a href=\"https://colab.research.google.com/github/AbdullahMalik17/Python/blob/main/app.ipynb\" target=\"_parent\"><img src=\"https://colab.research.google.com/assets/colab-badge.svg\" alt=\"Open In Colab\"/></a>"
      ]
    },
    {
      "cell_type": "code",
      "execution_count": null,
      "metadata": {
        "vscode": {
          "languageId": "plaintext"
        },
        "colab": {
          "base_uri": "https://localhost:8080/"
        },
        "id": "-Vv9-VXqaLnO",
        "outputId": "057f0b7b-6ad3-4cbb-efbb-6c3590abd71f"
      },
      "outputs": [
        {
          "output_type": "stream",
          "name": "stdout",
          "text": [
            "Think a number between 0 to 10\n",
            "Is your number 3?\n",
            "please enter y for yes , l for lower and h for higherh\n",
            "Is your number 8?\n",
            "please enter y for yes , l for lower and h for higherl\n",
            "Is your number 5?\n",
            "please enter y for yes , l for lower and h for highery\n",
            "I won!\n",
            "Do you want to play again?no\n",
            "Thank you for playing\n"
          ]
        }
      ],
      "source": [
        "\n",
        "# Random Number User\n",
        "# you will build a guessing game where the computer has to guess the correct number.\n",
        "import random\n",
        "def user_input():\n",
        "     user_input1 = input(\"Please enter y for yes , l for lower and h for higher \")\n",
        "     if user_input1 in ['l','h','y']:\n",
        "      return user_input1\n",
        "     else:\n",
        "      print(\"Please enter valid input\")\n",
        "\n",
        "def guess():\n",
        "   print(\"Think a number between 0 to 10\")\n",
        "   low = 0\n",
        "   high = 10\n",
        "   while True:\n",
        "      guess = random.randint(low,high)\n",
        "      print(f\"Is your number {guess}? \")\n",
        "      user_input1 = user_input()\n",
        "      if user_input1 == \"y\":\n",
        "        print(\"I won!\")\n",
        "        opinion = input(\"Do you want to play again? \")\n",
        "        if opinion == \"yes\":\n",
        "          guess()\n",
        "        else:\n",
        "          print(\"Thank you for playing\")\n",
        "          break\n",
        "      elif user_input1 == \"l\":\n",
        "        high = guess - 1\n",
        "      elif user_input1 == \"h\":\n",
        "        low = guess + 1\n",
        "\n",
        "\n",
        "guess()"
      ]
    },
    {
      "cell_type": "code",
      "execution_count": null,
      "metadata": {
        "vscode": {
          "languageId": "plaintext"
        },
        "id": "vNp-ZOilaLnU"
      },
      "outputs": [],
      "source": []
    }
  ],
  "metadata": {
    "language_info": {
      "name": "python"
    },
    "colab": {
      "provenance": [],
      "include_colab_link": true
    },
    "kernelspec": {
      "name": "python3",
      "display_name": "Python 3"
    }
  },
  "nbformat": 4,
  "nbformat_minor": 0
}