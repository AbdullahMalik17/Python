{
  "cells": [
    {
      "cell_type": "markdown",
      "metadata": {
        "id": "view-in-github",
        "colab_type": "text"
      },
      "source": [
        "<a href=\"https://colab.research.google.com/github/AbdullahMalik17/Python/blob/main/app.ipynb\" target=\"_parent\"><img src=\"https://colab.research.google.com/assets/colab-badge.svg\" alt=\"Open In Colab\"/></a>"
      ]
    },
    {
      "cell_type": "code",
      "execution_count": null,
      "metadata": {
        "vscode": {
          "languageId": "plaintext"
        },
        "colab": {
          "base_uri": "https://localhost:8080/"
        },
        "id": "DLT4xL2SQ6Ac",
        "outputId": "f914144a-654d-45ed-a63c-7273cfeb08a1"
      },
      "outputs": [
        {
          "output_type": "stream",
          "name": "stdout",
          "text": [
            "2\n",
            "3\n",
            "4\n",
            "5\n",
            "6\n",
            "7\n",
            "8\n"
          ]
        }
      ],
      "source": [
        "# range function\n",
        "# It help us to make a sequence of number .\n",
        "for n in range(2,9):\n",
        "  print(n)\n"
      ]
    },
    {
      "cell_type": "code",
      "source": [
        "squares = []\n",
        "for value in range(1,11):\n",
        "  square = value**2\n",
        "  squares.append(square)\n",
        "\n",
        "print(squares)"
      ],
      "metadata": {
        "colab": {
          "base_uri": "https://localhost:8080/"
        },
        "id": "UMH-HybpRqbk",
        "outputId": "2da66912-80ad-4b9e-d6e3-64146b90d644"
      },
      "execution_count": null,
      "outputs": [
        {
          "output_type": "stream",
          "name": "stdout",
          "text": [
            "[1, 4, 9, 16, 25, 36, 49, 64, 81, 100]\n"
          ]
        }
      ]
    },
    {
      "cell_type": "code",
      "source": [
        "# Here We arite code about prime number in 100 digits\n",
        "prime = []\n",
        "for i in range(2,100):\n",
        "  for j in range(2,i):\n",
        "    if i%j==0:\n",
        "      break\n",
        "  else:\n",
        "    prime.append(i)\n",
        "print(prime)\n",
        "print(len(prime))\n"
      ],
      "metadata": {
        "colab": {
          "base_uri": "https://localhost:8080/"
        },
        "id": "INCigZKWGlW3",
        "outputId": "4b929f5d-2342-438a-9a5e-3c6698057e49"
      },
      "execution_count": 8,
      "outputs": [
        {
          "output_type": "stream",
          "name": "stdout",
          "text": [
            "[2, 3, 5, 7, 11, 13, 17, 19, 23, 29, 31, 37, 41, 43, 47, 53, 59, 61, 67, 71, 73, 79, 83, 89, 97]\n",
            "25\n"
          ]
        }
      ]
    }
  ],
  "metadata": {
    "language_info": {
      "name": "python"
    },
    "colab": {
      "provenance": [],
      "include_colab_link": true
    },
    "kernelspec": {
      "name": "python3",
      "display_name": "Python 3"
    }
  },
  "nbformat": 4,
  "nbformat_minor": 0
}