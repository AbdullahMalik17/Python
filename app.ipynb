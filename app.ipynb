{
  "cells": [
    {
      "cell_type": "markdown",
      "metadata": {
        "id": "view-in-github",
        "colab_type": "text"
      },
      "source": [
        "<a href=\"https://colab.research.google.com/github/AbdullahMalik17/Python/blob/main/app.ipynb\" target=\"_parent\"><img src=\"https://colab.research.google.com/assets/colab-badge.svg\" alt=\"Open In Colab\"/></a>"
      ]
    },
    {
      "cell_type": "markdown",
      "source": [
        "# File Handling\n",
        "It is a way to manage the file  . This is used for writing , reading , closing and edit the file .\n",
        "## open function\n",
        "### mode\n",
        "It tells the computer to make the file ready for mode . Modes are follows:-\n",
        "- x (create)\n",
        "- w (write)\n",
        "- r (read)\n",
        "- a (apend)"
      ],
      "metadata": {
        "id": "l1Bvzo8sjdwO"
      }
    },
    {
      "cell_type": "code",
      "source": [
        "# here we make a file\n",
        "file = open(\"abdullah.txt\",\"x\") # x is use to make the te new file\n",
        "file.close()"
      ],
      "metadata": {
        "id": "JI-FvJ2qjxYH"
      },
      "execution_count": 7,
      "outputs": []
    },
    {
      "cell_type": "code",
      "source": [
        "# here we write a file with new line.\n",
        "file =  open(\"abdullah.txt\",\"w\")\n",
        "file.write(\"My name is Abdullah .\")\n",
        "file.close() # it is very necessary to use close mathod ."
      ],
      "metadata": {
        "id": "0cDbU3bskdhv"
      },
      "execution_count": 12,
      "outputs": []
    },
    {
      "cell_type": "code",
      "source": [
        "# a mode is used to write a file from existing content .\n",
        "file =  open(\"abdullah.txt\",\"a\")\n",
        "file.write(\"\\nMy name is Abdullah .\")\n",
        "file.close()"
      ],
      "metadata": {
        "id": "KAr_f-n_oQU4"
      },
      "execution_count": 32,
      "outputs": []
    },
    {
      "cell_type": "code",
      "source": [
        "# read mode\n",
        "\n",
        "file =  open(\"abdullah.txt\",\"r\")\n",
        "file.seek(0) # shows the pointer of cursor .\n",
        "lines = file.read()\n",
        "print(lines)\n",
        "file.close()"
      ],
      "metadata": {
        "colab": {
          "base_uri": "https://localhost:8080/"
        },
        "id": "oL9vUBV5qH31",
        "outputId": "a26853eb-f6f8-4013-ebce-333571fe20d1"
      },
      "execution_count": 23,
      "outputs": [
        {
          "output_type": "stream",
          "name": "stdout",
          "text": [
            "My name is Abdullah \n",
            "My name is Abdullah\n",
            "My name is Abdullah\n",
            "My name is Abdullah\n",
            "My name is Abdullah\n",
            "My name is Abdullah .\n",
            "My name is Abdullah .\n",
            "My name is Abdullah .\n",
            "My name is Abdullah .\n"
          ]
        }
      ]
    },
    {
      "cell_type": "code",
      "source": [
        "# read and write mode\n",
        "\n",
        "file =  open(\"abdullah.txt\",\"w+\")\n",
        "file.write(\"\\nMy name is Abdullah .\")\n",
        "file.seek(0)\n",
        "lines = file.read()\n",
        "print(lines)\n",
        "file.close()"
      ],
      "metadata": {
        "colab": {
          "base_uri": "https://localhost:8080/"
        },
        "id": "b0p1Fxc6rDOo",
        "outputId": "1de42742-7c55-498e-8a38-6fec4233dfb7"
      },
      "execution_count": 28,
      "outputs": [
        {
          "output_type": "stream",
          "name": "stdout",
          "text": [
            "\n",
            "My name is Abdullah .\n"
          ]
        }
      ]
    },
    {
      "cell_type": "markdown",
      "source": [
        " # with method"
      ],
      "metadata": {
        "id": "1l3pQxdGtMjO"
      }
    },
    {
      "cell_type": "code",
      "source": [
        "# It is very important to close a file .\n",
        "# we use with method that has builtin close method .\n",
        "\n",
        "with open(\"abdullah.txt\",\"w+\") as newfile :\n",
        "    newfile.write(\"My name is Abdullah .\")\n",
        "    newfile.seek(0)\n",
        "    lines = newfile.read()\n",
        "    print(lines)\n"
      ],
      "metadata": {
        "colab": {
          "base_uri": "https://localhost:8080/"
        },
        "id": "aZWqd-CvtPfV",
        "outputId": "92ca2e4f-6e08-4e23-894c-ba3786affeff"
      },
      "execution_count": 34,
      "outputs": [
        {
          "output_type": "stream",
          "name": "stdout",
          "text": [
            "My name is Abdullah .\n"
          ]
        }
      ]
    },
    {
      "cell_type": "code",
      "source": [
        "with open(\"abdullah.txt\",\"a+\") as file:\n",
        "  file.write(\"My name is Haleema .\")\n",
        "  file.seek(0)\n",
        "  print(file.read())\n"
      ],
      "metadata": {
        "colab": {
          "base_uri": "https://localhost:8080/"
        },
        "id": "td5WepKKuRcE",
        "outputId": "c9571020-9d59-4204-8367-dada1b04e93c"
      },
      "execution_count": 38,
      "outputs": [
        {
          "output_type": "stream",
          "name": "stdout",
          "text": [
            "My name is Abdullah .My name is Haleema .My name is Haleema .\n"
          ]
        }
      ]
    },
    {
      "cell_type": "code",
      "source": [
        "# making a copy file\n",
        "\n",
        "with open(\"\\n abdullah.txt\",\"a+\") as file:\n",
        "  file.write(\"\\n My name is Haleema .\")\n",
        "  file.seek(0)\n",
        "  print(file.read())"
      ],
      "metadata": {
        "colab": {
          "base_uri": "https://localhost:8080/"
        },
        "id": "f0ohTCLNvyiG",
        "outputId": "d4cbeae7-5042-4171-8088-aab55f89e9ae"
      },
      "execution_count": 39,
      "outputs": [
        {
          "output_type": "stream",
          "name": "stdout",
          "text": [
            "\n",
            " My name is Haleema .\n"
          ]
        }
      ]
    }
  ],
  "metadata": {
    "language_info": {
      "name": "python"
    },
    "colab": {
      "provenance": [],
      "include_colab_link": true
    },
    "kernelspec": {
      "name": "python3",
      "display_name": "Python 3"
    }
  },
  "nbformat": 4,
  "nbformat_minor": 0
}