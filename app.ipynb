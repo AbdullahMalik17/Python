{
  "cells": [
    {
      "cell_type": "markdown",
      "metadata": {
        "id": "view-in-github",
        "colab_type": "text"
      },
      "source": [
        "<a href=\"https://colab.research.google.com/github/AbdullahMalik17/Python/blob/main/app.ipynb\" target=\"_parent\"><img src=\"https://colab.research.google.com/assets/colab-badge.svg\" alt=\"Open In Colab\"/></a>"
      ]
    },
    {
      "cell_type": "markdown",
      "metadata": {
        "id": "ZZGxCcFqvxBg"
      },
      "source": [
        "# Methods"
      ]
    },
    {
      "cell_type": "code",
      "execution_count": null,
      "metadata": {
        "id": "8oZuEBbuvxBq",
        "outputId": "43813514-c79f-43ce-dad3-505c4b5329f0"
      },
      "outputs": [
        {
          "data": {
            "text/plain": [
              "['capitalize',\n",
              " 'casefold',\n",
              " 'center',\n",
              " 'count',\n",
              " 'encode',\n",
              " 'endswith',\n",
              " 'expandtabs',\n",
              " 'find',\n",
              " 'format',\n",
              " 'index',\n",
              " 'isalnum',\n",
              " 'isalpha',\n",
              " 'isascii',\n",
              " 'isdecimal',\n",
              " 'isdigit',\n",
              " 'isidentifier',\n",
              " 'islower',\n",
              " 'isnumeric',\n",
              " 'isprintable',\n",
              " 'isspace',\n",
              " 'istitle',\n",
              " 'isupper',\n",
              " 'join',\n",
              " 'ljust',\n",
              " 'lower',\n",
              " 'lstrip',\n",
              " 'maketrans',\n",
              " 'partition',\n",
              " 'removeprefix',\n",
              " 'removesuffix',\n",
              " 'replace',\n",
              " 'rfind',\n",
              " 'rindex',\n",
              " 'rjust',\n",
              " 'rpartition',\n",
              " 'rsplit',\n",
              " 'rstrip',\n",
              " 'split',\n",
              " 'splitlines',\n",
              " 'startswith',\n",
              " 'strip',\n",
              " 'swapcase',\n",
              " 'title',\n",
              " 'translate',\n",
              " 'upper',\n",
              " 'zfill']"
            ]
          },
          "execution_count": 7,
          "metadata": {},
          "output_type": "execute_result"
        }
      ],
      "source": [
        "[i for i in dir(str) if \"_\" not in i]"
      ]
    },
    {
      "cell_type": "markdown",
      "metadata": {
        "id": "YtiPB1y-vxBw"
      },
      "source": [
        "# Capitalization Method\n",
        "It is use to capital a first letter ."
      ]
    },
    {
      "cell_type": "code",
      "execution_count": null,
      "metadata": {
        "id": "ymBp9ZZQvxBy",
        "outputId": "3c273501-06f3-455d-e2ed-248269db87d0"
      },
      "outputs": [
        {
          "name": "stdout",
          "output_type": "stream",
          "text": [
            "Muhammad abdullah\n",
            "MUHAMMAD ABDULLAH\n",
            "muhammad abdullah\n"
          ]
        }
      ],
      "source": [
        "name1 : str =\"MuhaMMad Abdullah\"\n",
        "print(name1.capitalize())\n",
        "print(name1.upper())\n",
        "print(name1.lower())"
      ]
    },
    {
      "cell_type": "markdown",
      "metadata": {
        "id": "UKOBONDpvxB0"
      },
      "source": [
        "# Format Method\n",
        "It is used in place of f-string\n"
      ]
    },
    {
      "cell_type": "code",
      "execution_count": null,
      "metadata": {
        "id": "8UWdEsLwvxB1",
        "outputId": "5031ce3b-deb6-42fc-fda1-47e5714f1a43"
      },
      "outputs": [
        {
          "name": "stdout",
          "output_type": "stream",
          "text": [
            "Name : Haleema Athar and Father Name : Muhammad Athar\n"
          ]
        }
      ],
      "source": [
        "name2 : str = \"Haleema Athar\"\n",
        "father_name : str = \"Muhammad Athar\"\n",
        "print(\"Name : {} and Father Name : {}\".format(name2,father_name)) # {} are called placeholders"
      ]
    },
    {
      "cell_type": "markdown",
      "metadata": {
        "id": "h5BXsMF3vxB3"
      },
      "source": [
        "# casefold method\n",
        "It is a case sensitive lower data it converts our data to lower case.\n",
        "it is better than lower method .\n"
      ]
    },
    {
      "cell_type": "code",
      "execution_count": null,
      "metadata": {
        "colab": {
          "base_uri": "https://localhost:8080/"
        },
        "id": "vza0i7JzvxB6",
        "outputId": "cb1dc11a-5935-40fb-9953-299f3b73488d"
      },
      "outputs": [
        {
          "output_type": "stream",
          "name": "stdout",
          "text": [
            "hello\n",
            "hello\n",
            "True\n"
          ]
        }
      ],
      "source": [
        "greeting1 = \"HEllo\"\n",
        "greeting2 = \"Hello\"\n",
        "print(greeting1.casefold())\n",
        "print(greeting2.casefold())\n",
        "print(greeting1.casefold() == greeting2.casefold())"
      ]
    },
    {
      "cell_type": "markdown",
      "source": [
        "# center method\n",
        "It is used to add padding in the string .\n",
        "It's syntax as follows:-\n",
        "string.center(width,fillchar)"
      ],
      "metadata": {
        "id": "FazC_lJpxpmP"
      }
    },
    {
      "cell_type": "code",
      "source": [
        "name = \"Abdullah Athar\"\n",
        "print(name.center(40,\"_\")) # the value of fillchar is always greater than the length of string ."
      ],
      "metadata": {
        "colab": {
          "base_uri": "https://localhost:8080/"
        },
        "id": "IjsQDgjqyNTi",
        "outputId": "43bf4481-e31b-416c-e974-5d56dfba5e34"
      },
      "execution_count": null,
      "outputs": [
        {
          "output_type": "stream",
          "name": "stdout",
          "text": [
            "_____________Abdullah Athar_____________\n"
          ]
        }
      ]
    },
    {
      "cell_type": "markdown",
      "source": [
        "# count method\n",
        "It us used to find the text in the string ."
      ],
      "metadata": {
        "id": "_pk5BzLBzveL"
      }
    },
    {
      "cell_type": "code",
      "source": [
        "greeting = \"Hello , Abdullah Hello , haleema Hello\"\n",
        "print(greeting.count(\"Hello\")) # It return number"
      ],
      "metadata": {
        "colab": {
          "base_uri": "https://localhost:8080/"
        },
        "id": "qy11Z9P9z9i5",
        "outputId": "0d918b63-3001-4fed-975a-349c1892a167"
      },
      "execution_count": null,
      "outputs": [
        {
          "output_type": "stream",
          "name": "stdout",
          "text": [
            "3\n"
          ]
        }
      ]
    },
    {
      "cell_type": "markdown",
      "source": [
        "# title method\n",
        "It converts the first letter of each word is capital ."
      ],
      "metadata": {
        "id": "NZpcfE_p1izB"
      }
    },
    {
      "cell_type": "code",
      "source": [
        "name = \"muhammad abdullah athar malik\"\n",
        "print(name.title())"
      ],
      "metadata": {
        "colab": {
          "base_uri": "https://localhost:8080/"
        },
        "id": "TVFAL_OG1xSs",
        "outputId": "fe2718a2-7ca3-4dc9-cdd6-e596c8c5e0b7"
      },
      "execution_count": null,
      "outputs": [
        {
          "output_type": "stream",
          "name": "stdout",
          "text": [
            "Muhammad Abdullah Athar Malik\n"
          ]
        }
      ]
    },
    {
      "cell_type": "markdown",
      "source": [
        "# swapcase method\n",
        "It is used to conver the lower case letter to uppercase letter and lowercase letter to uppercase letter .  "
      ],
      "metadata": {
        "id": "GVY9hoJc2O6G"
      }
    },
    {
      "cell_type": "code",
      "source": [
        "name2 = \"muHammAD Abdullah MaLIk\"\n",
        "print(name2.swapcase())"
      ],
      "metadata": {
        "colab": {
          "base_uri": "https://localhost:8080/"
        },
        "id": "yCtOK1KV2SUy",
        "outputId": "0b17e560-6c9a-43b4-9894-32808445965c"
      },
      "execution_count": null,
      "outputs": [
        {
          "output_type": "stream",
          "name": "stdout",
          "text": [
            "MUhAMMad aBDULLAH mAliK\n"
          ]
        }
      ]
    },
    {
      "cell_type": "markdown",
      "source": [
        "# strip method\n",
        "It is used to remove extra tabs or misleadings in string ."
      ],
      "metadata": {
        "id": "8PIbKhZb3Lh-"
      }
    },
    {
      "cell_type": "code",
      "source": [
        "name3 = \"****Abdullah Athar malik****\" # It removes misleading from start and end .\n",
        "strip_name = name3.strip(\"*\")\n",
        "print(strip_name)"
      ],
      "metadata": {
        "colab": {
          "base_uri": "https://localhost:8080/"
        },
        "id": "LSUUfWDx3XTB",
        "outputId": "1316bfc5-8b76-47e3-9f71-873c9ed60d3e"
      },
      "execution_count": null,
      "outputs": [
        {
          "output_type": "stream",
          "name": "stdout",
          "text": [
            "Abdullah Athar malik\n"
          ]
        }
      ]
    },
    {
      "cell_type": "markdown",
      "source": [
        "# replace method\n",
        "It is used to replace a new word to old word"
      ],
      "metadata": {
        "id": "_UBRaGFJ52Ug"
      }
    },
    {
      "cell_type": "code",
      "source": [
        "# It's syntax as follows:-\n",
        "# _________string.replace(\"old word\",\"new word\" , number)\n",
        "greeting4 = \"Hello Abdullah Hello\"\n",
        "print(greeting4.replace(\"Hello\",\"Hi!\"))\n",
        "print(greeting4.replace(\"Hello\",\"Hi!\",1))\n"
      ],
      "metadata": {
        "colab": {
          "base_uri": "https://localhost:8080/"
        },
        "id": "Wm0nqC5H6DyQ",
        "outputId": "abd81779-e5c0-442c-ba90-cdc5e8a57169"
      },
      "execution_count": null,
      "outputs": [
        {
          "output_type": "stream",
          "name": "stdout",
          "text": [
            "Hi! Abdullah Hi!\n",
            "Hi! Abdullah Hello\n"
          ]
        }
      ]
    },
    {
      "cell_type": "markdown",
      "source": [
        "# join method\n",
        "It is used to add the elements of tuples or array  "
      ],
      "metadata": {
        "id": "Vi-NPJVn7IKw"
      }
    },
    {
      "cell_type": "code",
      "source": [
        "name = (\"Abdullah\",\"Athar\",\"Malik\")\n",
        "print(\"-\".join(name))\n",
        "n = [\"OFF\",\"ON\"]\n",
        "print(\" - \".join(n))"
      ],
      "metadata": {
        "colab": {
          "base_uri": "https://localhost:8080/"
        },
        "id": "nwXn5h7s713A",
        "outputId": "ab59579b-0d84-4fdb-9e0f-3f9224644f37"
      },
      "execution_count": null,
      "outputs": [
        {
          "output_type": "stream",
          "name": "stdout",
          "text": [
            "Abdullah-Athar-Malik\n",
            "OFF - ON\n"
          ]
        }
      ]
    },
    {
      "cell_type": "markdown",
      "source": [
        "# remove prefix"
      ],
      "metadata": {
        "id": "bHSoHbfk-Yfu"
      }
    },
    {
      "cell_type": "code",
      "source": [
        "# It is uased to remove prefixes . Prefixes are always used in first\n",
        "URL = \"https://Abddullah.com\"\n",
        "print(URL.removeprefix(\"https://\"))\n"
      ],
      "metadata": {
        "colab": {
          "base_uri": "https://localhost:8080/"
        },
        "id": "5ZiUvZRI-c9j",
        "outputId": "d57247d1-fae6-4a54-f8a3-f7f3559d13f4"
      },
      "execution_count": 4,
      "outputs": [
        {
          "output_type": "stream",
          "name": "stdout",
          "text": [
            "Abddullah.com\n"
          ]
        }
      ]
    },
    {
      "cell_type": "markdown",
      "source": [
        "# remove suffix"
      ],
      "metadata": {
        "id": "SRa4pxOiADgA"
      }
    },
    {
      "cell_type": "code",
      "source": [
        "# It is used to remove suffix .\n",
        "file_1 = \"App.txt\"\n",
        "print(file_1.removesuffix(\".txt\"))"
      ],
      "metadata": {
        "id": "1Kpti0mCAGkI"
      },
      "execution_count": null,
      "outputs": []
    },
    {
      "cell_type": "code",
      "source": [
        "import this"
      ],
      "metadata": {
        "id": "Q8XHhG5rBSR6"
      },
      "execution_count": null,
      "outputs": []
    }
  ],
  "metadata": {
    "kernelspec": {
      "display_name": "python67",
      "language": "python",
      "name": "python3"
    },
    "language_info": {
      "codemirror_mode": {
        "name": "ipython",
        "version": 3
      },
      "file_extension": ".py",
      "mimetype": "text/x-python",
      "name": "python",
      "nbconvert_exporter": "python",
      "pygments_lexer": "ipython3",
      "version": "3.12.7"
    },
    "colab": {
      "provenance": [],
      "include_colab_link": true
    }
  },
  "nbformat": 4,
  "nbformat_minor": 0
}