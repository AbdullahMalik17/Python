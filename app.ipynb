{
  "cells": [
    {
      "cell_type": "markdown",
      "metadata": {
        "id": "view-in-github",
        "colab_type": "text"
      },
      "source": [
        "<a href=\"https://colab.research.google.com/github/AbdullahMalik17/Python/blob/main/app.ipynb\" target=\"_parent\"><img src=\"https://colab.research.google.com/assets/colab-badge.svg\" alt=\"Open In Colab\"/></a>"
      ]
    },
    {
      "cell_type": "code",
      "execution_count": 1,
      "metadata": {
        "vscode": {
          "languageId": "plaintext"
        },
        "colab": {
          "base_uri": "https://localhost:8080/"
        },
        "id": "HspdfL50il0c",
        "outputId": "3c36a767-b95a-4579-840b-0dc7ddab80bd"
      },
      "outputs": [
        {
          "output_type": "stream",
          "name": "stdout",
          "text": [
            "Guess a number between 1 and 10 4\n",
            "Sorry , Your guess is low\n",
            "Guess a number between 1 and 10 5\n",
            "Sorry , Your guess is low\n",
            "Guess a number between 1 and 10 6\n",
            "Sorry , Your guess is low\n",
            "Guess a number between 1 and 10 7\n",
            "Sorry , Your guess is low\n",
            "Guess a number between 1 and 10 8\n",
            "Contratualtional , You guess correct number 8\n"
          ]
        }
      ],
      "source": [
        "# We are going to make the random number game for computer\n",
        "# We have to judge the computer number\n",
        "import random\n",
        "def guess(x):\n",
        "  computer_number  = random.randint(1,x)\n",
        "  guess = 0\n",
        "  while guess != computer_number:\n",
        "    guess = int(input(f\"Guess a number between 1 and {x} \"))\n",
        "    if computer_number > guess:\n",
        "      print(\"Sorry , Your guess is low\")\n",
        "    elif computer_number < guess:\n",
        "      print(\"Sorry , Your guess is high\")\n",
        "\n",
        "  print(f\"Contratualtional , You guess correct number {computer_number}\")\n",
        "guess(10)"
      ]
    }
  ],
  "metadata": {
    "language_info": {
      "name": "python"
    },
    "colab": {
      "provenance": [],
      "include_colab_link": true
    },
    "kernelspec": {
      "name": "python3",
      "display_name": "Python 3"
    }
  },
  "nbformat": 4,
  "nbformat_minor": 0
}