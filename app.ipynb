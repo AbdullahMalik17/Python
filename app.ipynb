{
  "cells": [
    {
      "cell_type": "markdown",
      "metadata": {
        "id": "view-in-github",
        "colab_type": "text"
      },
      "source": [
        "<a href=\"https://colab.research.google.com/github/AbdullahMalik17/Python/blob/main/app.ipynb\" target=\"_parent\"><img src=\"https://colab.research.google.com/assets/colab-badge.svg\" alt=\"Open In Colab\"/></a>"
      ]
    },
    {
      "cell_type": "markdown",
      "metadata": {
        "id": "UUxLGDuea0hZ"
      },
      "source": [
        "# Function\n"
      ]
    },
    {
      "cell_type": "code",
      "execution_count": null,
      "metadata": {
        "vscode": {
          "languageId": "plaintext"
        },
        "colab": {
          "base_uri": "https://localhost:8080/",
          "height": 35
        },
        "id": "-Xv55rXWa0hf",
        "outputId": "149d50de-77a0-4fdd-c8da-a01c3a75af71"
      },
      "outputs": [
        {
          "output_type": "execute_result",
          "data": {
            "text/plain": [
              "'Assalam o Alaikum! Abdullah'"
            ],
            "application/vnd.google.colaboratory.intrinsic+json": {
              "type": "string"
            }
          },
          "metadata": {},
          "execution_count": 5
        }
      ],
      "source": [
        "def greeting(greeting):\n",
        "  return f\"Assalam o Alaikum! {greeting}\"    # return is also used to print the string . And we do more work with it .\n",
        "\n",
        "greeting(\"Abdullah\")\n"
      ]
    },
    {
      "cell_type": "markdown",
      "source": [
        "# default parameter\n"
      ],
      "metadata": {
        "id": "RzDAgw0ifyom"
      }
    },
    {
      "cell_type": "code",
      "source": [
        "# greeting() # it will give an error\n",
        "def greet_with_default(name = \"Person\"):\n",
        "  return f\"\"\"Assalam o Alaikum ! {name}\"\"\"\n",
        "\n",
        "print(greet_with_default())\n",
        "greet_with_default(\"Abdullah\")"
      ],
      "metadata": {
        "colab": {
          "base_uri": "https://localhost:8080/",
          "height": 52
        },
        "id": "2L_Wa7D6fxfM",
        "outputId": "2badc179-e119-4c09-c6dc-76cec3b2569f"
      },
      "execution_count": null,
      "outputs": [
        {
          "output_type": "stream",
          "name": "stdout",
          "text": [
            "Assalam o Alaikum ! Person\n"
          ]
        },
        {
          "output_type": "execute_result",
          "data": {
            "text/plain": [
              "'Assalam o Alaikum ! Abdullah'"
            ],
            "application/vnd.google.colaboratory.intrinsic+json": {
              "type": "string"
            }
          },
          "metadata": {},
          "execution_count": 23
        }
      ]
    },
    {
      "cell_type": "code",
      "source": [
        "# Ending of Function\n",
        "def make_tea():\n",
        "  print(\"1. Take Kettle. \\n2. Put Milk .\\n3. Put Patti \\n4. Boil for a minute\")\n",
        "  return f\"Your Tea is ready.\"\n",
        "  print(\"x. You should wash your pots .\") # It don't run because program is end after return .\n",
        "tea1 = make_tea()\n",
        "print(tea1)"
      ],
      "metadata": {
        "colab": {
          "base_uri": "https://localhost:8080/"
        },
        "id": "3n-4iUoTvmaX",
        "outputId": "c670cb88-d5a3-4efe-dbf3-5624e5b006b3"
      },
      "execution_count": null,
      "outputs": [
        {
          "output_type": "stream",
          "name": "stdout",
          "text": [
            "1. Take Kettle. \n",
            "2. Put Milk .\n",
            "3. Put Patti \n",
            "4. Boil for a minute\n",
            "Your Tea is ready.\n"
          ]
        }
      ]
    },
    {
      "cell_type": "markdown",
      "source": [
        "# keyword argument"
      ],
      "metadata": {
        "id": "C4hja_PL4PBy"
      }
    },
    {
      "cell_type": "code",
      "source": [
        "def greet_with_default(name = \"Person\"):\n",
        "  return f\"\"\"Assalam o Alaikum ! {name}\"\"\"\n",
        "greet_with_default(name=\"Abdullah\")  # It is also called keyword argument ."
      ],
      "metadata": {
        "colab": {
          "base_uri": "https://localhost:8080/",
          "height": 35
        },
        "id": "sTLRzKC-4cf4",
        "outputId": "23108756-8713-454d-bf38-dd5538c45ccd"
      },
      "execution_count": null,
      "outputs": [
        {
          "output_type": "execute_result",
          "data": {
            "text/plain": [
              "'Assalam o Alaikum ! Abdullah'"
            ],
            "application/vnd.google.colaboratory.intrinsic+json": {
              "type": "string"
            }
          },
          "metadata": {},
          "execution_count": 12
        }
      ]
    },
    {
      "cell_type": "markdown",
      "source": [
        "# Assignment"
      ],
      "metadata": {
        "id": "hhdW8cet6s8W"
      }
    },
    {
      "cell_type": "code",
      "source": [
        "import random\n",
        "def roll_dice(limit : int = 6):\n",
        "  return random.randint(1,limit)\n",
        "\n",
        "print(roll_dice(7))\n",
        "print(roll_dice())\n",
        "\n"
      ],
      "metadata": {
        "colab": {
          "base_uri": "https://localhost:8080/"
        },
        "id": "IXKvvHBz6vhi",
        "outputId": "a1285a7f-3c4f-4cfc-8d20-4165c6284bc4"
      },
      "execution_count": null,
      "outputs": [
        {
          "output_type": "stream",
          "name": "stdout",
          "text": [
            "6\n",
            "1\n"
          ]
        }
      ]
    }
  ],
  "metadata": {
    "language_info": {
      "name": "python"
    },
    "colab": {
      "provenance": [],
      "include_colab_link": true
    },
    "kernelspec": {
      "name": "python3",
      "display_name": "Python 3"
    }
  },
  "nbformat": 4,
  "nbformat_minor": 0
}