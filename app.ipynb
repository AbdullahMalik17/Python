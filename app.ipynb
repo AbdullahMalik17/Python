{
  "cells": [
    {
      "cell_type": "markdown",
      "metadata": {
        "id": "view-in-github",
        "colab_type": "text"
      },
      "source": [
        "<a href=\"https://colab.research.google.com/github/AbdullahMalik17/Python/blob/main/app.ipynb\" target=\"_parent\"><img src=\"https://colab.research.google.com/assets/colab-badge.svg\" alt=\"Open In Colab\"/></a>"
      ]
    },
    {
      "cell_type": "code",
      "execution_count": null,
      "metadata": {
        "vscode": {
          "languageId": "plaintext"
        },
        "colab": {
          "base_uri": "https://localhost:8080/"
        },
        "id": "bzpoG_kf4lC_",
        "outputId": "1d8de2e9-39d7-460b-cb39-40ddf7b151ba"
      },
      "outputs": [
        {
          "output_type": "stream",
          "name": "stdout",
          "text": [
            "ABd1234@1\n"
          ]
        }
      ],
      "source": [
        "# Question no . 18\n",
        "# We have to test the criteria of password .\n",
        "# The criteria of password is as follows:-\n",
        "# At least 1 letter between [a-z]\n",
        "# At least 1 number between [0-9]\n",
        "# At least 1 letter between [A-Z]\n",
        "# At least 1 character from [$#@]\n",
        "# Minimum length of transaction password: 6\n",
        "# Maximum length of transaction password: 12\n",
        "# re is the module that is used for data search in match\n",
        "import re\n",
        "\n",
        "passwords = [\"ABd1234@1\", \"a F1#\", \"2w3E*\", \"2We3345\"]\n",
        "\n",
        "for password in passwords:\n",
        "    if (\n",
        "        6 <= len(password) <= 12\n",
        "        and re.search(\"[a-z]\", password)\n",
        "        and re.search(\"[A-Z]\", password)\n",
        "        and re.search(\"[0-9]\", password)\n",
        "        and re.search(\"[$#@]\", password)\n",
        "    ):\n",
        "        print(password)"
      ]
    },
    {
      "cell_type": "code",
      "source": [
        "# Question no. 19\n",
        "# We have to sort the data in it .\n",
        "# Data will contain name , age and score .\n",
        "from operator import itemgetter\n",
        "entries = [\"Tom\",19,80,\"John\",20,90,\"Jony\",17,91,\"Jony\",17,93,\"Json\",21,85]\n",
        "tuple_list = list(zip(entries[::3], entries[1::3], entries[2::3]))\n",
        "sorted_list = sorted(tuple_list,key = itemgetter(0))\n",
        "print(sorted_list)\n"
      ],
      "metadata": {
        "colab": {
          "base_uri": "https://localhost:8080/"
        },
        "id": "sryWsNkD_q6I",
        "outputId": "be0bccbd-9b48-4efe-f7c4-f7a7b60d6844"
      },
      "execution_count": null,
      "outputs": [
        {
          "output_type": "stream",
          "name": "stdout",
          "text": [
            "[('Tom', 19, 80), ('John', 20, 90), ('Jony', 17, 91), ('Jony', 17, 93), ('Json', 21, 85)]\n",
            "[('John', 20, 90), ('Jony', 17, 91), ('Jony', 17, 93), ('Json', 21, 85), ('Tom', 19, 80)]\n"
          ]
        }
      ]
    },
    {
      "cell_type": "code",
      "source": [
        "# Question no. 20\n",
        "# We will make a class that print number which are divisible by 7 \\\n",
        "class Divisible_seven :\n",
        "  def __init__(self,n):\n",
        "    self.n=n\n",
        "\n",
        "  def generate_number(self):\n",
        "    for i in range(self.n+1):\n",
        "      if i % 7 == 0:\n",
        "        yield i     # yield collects the vlues of i and store it .\n",
        "\n",
        "num = Divisible_seven(10000)\n",
        "print(list(num.generate_number()))"
      ],
      "metadata": {
        "id": "eB7L6LxcE0Dl",
        "colab": {
          "base_uri": "https://localhost:8080/"
        },
        "outputId": "b6cd2900-1827-470d-908e-ee1fd85169e5"
      },
      "execution_count": 11,
      "outputs": [
        {
          "output_type": "stream",
          "name": "stdout",
          "text": [
            "[0, 7, 14, 21, 28, 35, 42, 49, 56, 63, 70, 77, 84, 91, 98, 105, 112, 119, 126, 133, 140, 147, 154, 161, 168, 175, 182, 189, 196, 203, 210, 217, 224, 231, 238, 245, 252, 259, 266, 273, 280, 287, 294, 301, 308, 315, 322, 329, 336, 343, 350, 357, 364, 371, 378, 385, 392, 399, 406, 413, 420, 427, 434, 441, 448, 455, 462, 469, 476, 483, 490, 497, 504, 511, 518, 525, 532, 539, 546, 553, 560, 567, 574, 581, 588, 595, 602, 609, 616, 623, 630, 637, 644, 651, 658, 665, 672, 679, 686, 693, 700, 707, 714, 721, 728, 735, 742, 749, 756, 763, 770, 777, 784, 791, 798, 805, 812, 819, 826, 833, 840, 847, 854, 861, 868, 875, 882, 889, 896, 903, 910, 917, 924, 931, 938, 945, 952, 959, 966, 973, 980, 987, 994, 1001, 1008, 1015, 1022, 1029, 1036, 1043, 1050, 1057, 1064, 1071, 1078, 1085, 1092, 1099, 1106, 1113, 1120, 1127, 1134, 1141, 1148, 1155, 1162, 1169, 1176, 1183, 1190, 1197, 1204, 1211, 1218, 1225, 1232, 1239, 1246, 1253, 1260, 1267, 1274, 1281, 1288, 1295, 1302, 1309, 1316, 1323, 1330, 1337, 1344, 1351, 1358, 1365, 1372, 1379, 1386, 1393, 1400, 1407, 1414, 1421, 1428, 1435, 1442, 1449, 1456, 1463, 1470, 1477, 1484, 1491, 1498, 1505, 1512, 1519, 1526, 1533, 1540, 1547, 1554, 1561, 1568, 1575, 1582, 1589, 1596, 1603, 1610, 1617, 1624, 1631, 1638, 1645, 1652, 1659, 1666, 1673, 1680, 1687, 1694, 1701, 1708, 1715, 1722, 1729, 1736, 1743, 1750, 1757, 1764, 1771, 1778, 1785, 1792, 1799, 1806, 1813, 1820, 1827, 1834, 1841, 1848, 1855, 1862, 1869, 1876, 1883, 1890, 1897, 1904, 1911, 1918, 1925, 1932, 1939, 1946, 1953, 1960, 1967, 1974, 1981, 1988, 1995, 2002, 2009, 2016, 2023, 2030, 2037, 2044, 2051, 2058, 2065, 2072, 2079, 2086, 2093, 2100, 2107, 2114, 2121, 2128, 2135, 2142, 2149, 2156, 2163, 2170, 2177, 2184, 2191, 2198, 2205, 2212, 2219, 2226, 2233, 2240, 2247, 2254, 2261, 2268, 2275, 2282, 2289, 2296, 2303, 2310, 2317, 2324, 2331, 2338, 2345, 2352, 2359, 2366, 2373, 2380, 2387, 2394, 2401, 2408, 2415, 2422, 2429, 2436, 2443, 2450, 2457, 2464, 2471, 2478, 2485, 2492, 2499, 2506, 2513, 2520, 2527, 2534, 2541, 2548, 2555, 2562, 2569, 2576, 2583, 2590, 2597, 2604, 2611, 2618, 2625, 2632, 2639, 2646, 2653, 2660, 2667, 2674, 2681, 2688, 2695, 2702, 2709, 2716, 2723, 2730, 2737, 2744, 2751, 2758, 2765, 2772, 2779, 2786, 2793, 2800, 2807, 2814, 2821, 2828, 2835, 2842, 2849, 2856, 2863, 2870, 2877, 2884, 2891, 2898, 2905, 2912, 2919, 2926, 2933, 2940, 2947, 2954, 2961, 2968, 2975, 2982, 2989, 2996, 3003, 3010, 3017, 3024, 3031, 3038, 3045, 3052, 3059, 3066, 3073, 3080, 3087, 3094, 3101, 3108, 3115, 3122, 3129, 3136, 3143, 3150, 3157, 3164, 3171, 3178, 3185, 3192, 3199, 3206, 3213, 3220, 3227, 3234, 3241, 3248, 3255, 3262, 3269, 3276, 3283, 3290, 3297, 3304, 3311, 3318, 3325, 3332, 3339, 3346, 3353, 3360, 3367, 3374, 3381, 3388, 3395, 3402, 3409, 3416, 3423, 3430, 3437, 3444, 3451, 3458, 3465, 3472, 3479, 3486, 3493, 3500, 3507, 3514, 3521, 3528, 3535, 3542, 3549, 3556, 3563, 3570, 3577, 3584, 3591, 3598, 3605, 3612, 3619, 3626, 3633, 3640, 3647, 3654, 3661, 3668, 3675, 3682, 3689, 3696, 3703, 3710, 3717, 3724, 3731, 3738, 3745, 3752, 3759, 3766, 3773, 3780, 3787, 3794, 3801, 3808, 3815, 3822, 3829, 3836, 3843, 3850, 3857, 3864, 3871, 3878, 3885, 3892, 3899, 3906, 3913, 3920, 3927, 3934, 3941, 3948, 3955, 3962, 3969, 3976, 3983, 3990, 3997, 4004, 4011, 4018, 4025, 4032, 4039, 4046, 4053, 4060, 4067, 4074, 4081, 4088, 4095, 4102, 4109, 4116, 4123, 4130, 4137, 4144, 4151, 4158, 4165, 4172, 4179, 4186, 4193, 4200, 4207, 4214, 4221, 4228, 4235, 4242, 4249, 4256, 4263, 4270, 4277, 4284, 4291, 4298, 4305, 4312, 4319, 4326, 4333, 4340, 4347, 4354, 4361, 4368, 4375, 4382, 4389, 4396, 4403, 4410, 4417, 4424, 4431, 4438, 4445, 4452, 4459, 4466, 4473, 4480, 4487, 4494, 4501, 4508, 4515, 4522, 4529, 4536, 4543, 4550, 4557, 4564, 4571, 4578, 4585, 4592, 4599, 4606, 4613, 4620, 4627, 4634, 4641, 4648, 4655, 4662, 4669, 4676, 4683, 4690, 4697, 4704, 4711, 4718, 4725, 4732, 4739, 4746, 4753, 4760, 4767, 4774, 4781, 4788, 4795, 4802, 4809, 4816, 4823, 4830, 4837, 4844, 4851, 4858, 4865, 4872, 4879, 4886, 4893, 4900, 4907, 4914, 4921, 4928, 4935, 4942, 4949, 4956, 4963, 4970, 4977, 4984, 4991, 4998, 5005, 5012, 5019, 5026, 5033, 5040, 5047, 5054, 5061, 5068, 5075, 5082, 5089, 5096, 5103, 5110, 5117, 5124, 5131, 5138, 5145, 5152, 5159, 5166, 5173, 5180, 5187, 5194, 5201, 5208, 5215, 5222, 5229, 5236, 5243, 5250, 5257, 5264, 5271, 5278, 5285, 5292, 5299, 5306, 5313, 5320, 5327, 5334, 5341, 5348, 5355, 5362, 5369, 5376, 5383, 5390, 5397, 5404, 5411, 5418, 5425, 5432, 5439, 5446, 5453, 5460, 5467, 5474, 5481, 5488, 5495, 5502, 5509, 5516, 5523, 5530, 5537, 5544, 5551, 5558, 5565, 5572, 5579, 5586, 5593, 5600, 5607, 5614, 5621, 5628, 5635, 5642, 5649, 5656, 5663, 5670, 5677, 5684, 5691, 5698, 5705, 5712, 5719, 5726, 5733, 5740, 5747, 5754, 5761, 5768, 5775, 5782, 5789, 5796, 5803, 5810, 5817, 5824, 5831, 5838, 5845, 5852, 5859, 5866, 5873, 5880, 5887, 5894, 5901, 5908, 5915, 5922, 5929, 5936, 5943, 5950, 5957, 5964, 5971, 5978, 5985, 5992, 5999, 6006, 6013, 6020, 6027, 6034, 6041, 6048, 6055, 6062, 6069, 6076, 6083, 6090, 6097, 6104, 6111, 6118, 6125, 6132, 6139, 6146, 6153, 6160, 6167, 6174, 6181, 6188, 6195, 6202, 6209, 6216, 6223, 6230, 6237, 6244, 6251, 6258, 6265, 6272, 6279, 6286, 6293, 6300, 6307, 6314, 6321, 6328, 6335, 6342, 6349, 6356, 6363, 6370, 6377, 6384, 6391, 6398, 6405, 6412, 6419, 6426, 6433, 6440, 6447, 6454, 6461, 6468, 6475, 6482, 6489, 6496, 6503, 6510, 6517, 6524, 6531, 6538, 6545, 6552, 6559, 6566, 6573, 6580, 6587, 6594, 6601, 6608, 6615, 6622, 6629, 6636, 6643, 6650, 6657, 6664, 6671, 6678, 6685, 6692, 6699, 6706, 6713, 6720, 6727, 6734, 6741, 6748, 6755, 6762, 6769, 6776, 6783, 6790, 6797, 6804, 6811, 6818, 6825, 6832, 6839, 6846, 6853, 6860, 6867, 6874, 6881, 6888, 6895, 6902, 6909, 6916, 6923, 6930, 6937, 6944, 6951, 6958, 6965, 6972, 6979, 6986, 6993, 7000, 7007, 7014, 7021, 7028, 7035, 7042, 7049, 7056, 7063, 7070, 7077, 7084, 7091, 7098, 7105, 7112, 7119, 7126, 7133, 7140, 7147, 7154, 7161, 7168, 7175, 7182, 7189, 7196, 7203, 7210, 7217, 7224, 7231, 7238, 7245, 7252, 7259, 7266, 7273, 7280, 7287, 7294, 7301, 7308, 7315, 7322, 7329, 7336, 7343, 7350, 7357, 7364, 7371, 7378, 7385, 7392, 7399, 7406, 7413, 7420, 7427, 7434, 7441, 7448, 7455, 7462, 7469, 7476, 7483, 7490, 7497, 7504, 7511, 7518, 7525, 7532, 7539, 7546, 7553, 7560, 7567, 7574, 7581, 7588, 7595, 7602, 7609, 7616, 7623, 7630, 7637, 7644, 7651, 7658, 7665, 7672, 7679, 7686, 7693, 7700, 7707, 7714, 7721, 7728, 7735, 7742, 7749, 7756, 7763, 7770, 7777, 7784, 7791, 7798, 7805, 7812, 7819, 7826, 7833, 7840, 7847, 7854, 7861, 7868, 7875, 7882, 7889, 7896, 7903, 7910, 7917, 7924, 7931, 7938, 7945, 7952, 7959, 7966, 7973, 7980, 7987, 7994, 8001, 8008, 8015, 8022, 8029, 8036, 8043, 8050, 8057, 8064, 8071, 8078, 8085, 8092, 8099, 8106, 8113, 8120, 8127, 8134, 8141, 8148, 8155, 8162, 8169, 8176, 8183, 8190, 8197, 8204, 8211, 8218, 8225, 8232, 8239, 8246, 8253, 8260, 8267, 8274, 8281, 8288, 8295, 8302, 8309, 8316, 8323, 8330, 8337, 8344, 8351, 8358, 8365, 8372, 8379, 8386, 8393, 8400, 8407, 8414, 8421, 8428, 8435, 8442, 8449, 8456, 8463, 8470, 8477, 8484, 8491, 8498, 8505, 8512, 8519, 8526, 8533, 8540, 8547, 8554, 8561, 8568, 8575, 8582, 8589, 8596, 8603, 8610, 8617, 8624, 8631, 8638, 8645, 8652, 8659, 8666, 8673, 8680, 8687, 8694, 8701, 8708, 8715, 8722, 8729, 8736, 8743, 8750, 8757, 8764, 8771, 8778, 8785, 8792, 8799, 8806, 8813, 8820, 8827, 8834, 8841, 8848, 8855, 8862, 8869, 8876, 8883, 8890, 8897, 8904, 8911, 8918, 8925, 8932, 8939, 8946, 8953, 8960, 8967, 8974, 8981, 8988, 8995, 9002, 9009, 9016, 9023, 9030, 9037, 9044, 9051, 9058, 9065, 9072, 9079, 9086, 9093, 9100, 9107, 9114, 9121, 9128, 9135, 9142, 9149, 9156, 9163, 9170, 9177, 9184, 9191, 9198, 9205, 9212, 9219, 9226, 9233, 9240, 9247, 9254, 9261, 9268, 9275, 9282, 9289, 9296, 9303, 9310, 9317, 9324, 9331, 9338, 9345, 9352, 9359, 9366, 9373, 9380, 9387, 9394, 9401, 9408, 9415, 9422, 9429, 9436, 9443, 9450, 9457, 9464, 9471, 9478, 9485, 9492, 9499, 9506, 9513, 9520, 9527, 9534, 9541, 9548, 9555, 9562, 9569, 9576, 9583, 9590, 9597, 9604, 9611, 9618, 9625, 9632, 9639, 9646, 9653, 9660, 9667, 9674, 9681, 9688, 9695, 9702, 9709, 9716, 9723, 9730, 9737, 9744, 9751, 9758, 9765, 9772, 9779, 9786, 9793, 9800, 9807, 9814, 9821, 9828, 9835, 9842, 9849, 9856, 9863, 9870, 9877, 9884, 9891, 9898, 9905, 9912, 9919, 9926, 9933, 9940, 9947, 9954, 9961, 9968, 9975, 9982, 9989, 9996]\n"
          ]
        }
      ]
    },
    {
      "cell_type": "code",
      "source": [
        "# Question no. 21\n",
        "# We will find the distance through pythagorus formula .\n",
        "import math\n",
        "values = input(\"Enter direction of robots... \").upper().split()\n",
        "def distance_formula():\n",
        "  try:\n",
        "   position = [0,0]\n",
        "   for i in range(0,len(values),2):\n",
        "    if values[i] == \"UP\":\n",
        "      position[1] += int(values[i+1])\n",
        "    elif  values[i] == \"DOWN\":\n",
        "      position[1] -= int(values[i+1])\n",
        "    elif values[i] == \"RIGHT\":\n",
        "      position[0] += int(values[i+1])\n",
        "    elif  values[i] == \"LEFT\":\n",
        "      position[0] -= int(values[i+1])\n",
        "    else:\n",
        "      print()\n",
        "  except ValueError():\n",
        "    print(\"Please Give Correct Values\")\n",
        "  distance = math.sqrt(position[0]**2+position[1]**2)\n",
        "  print(round(distance))\n",
        "\n",
        "distance_formula()\n",
        ""
      ],
      "metadata": {
        "colab": {
          "base_uri": "https://localhost:8080/"
        },
        "id": "s_EggkwZexFy",
        "outputId": "5db38858-b2c8-4b72-8fd5-be86345c65ca"
      },
      "execution_count": 10,
      "outputs": [
        {
          "output_type": "stream",
          "name": "stdout",
          "text": [
            "Enter direction of robots... UP 5 DOWN 3 LEFT 3 RIGHT 2\n",
            "2\n"
          ]
        }
      ]
    },
    {
      "cell_type": "code",
      "source": [
        "# Question no. 22"
      ],
      "metadata": {
        "id": "0tJOXv7ym9GR"
      },
      "execution_count": null,
      "outputs": []
    },
    {
      "cell_type": "code",
      "source": [
        "# Question no. 23\n",
        "# We will make the class that returns square of paramater .\n",
        "class Square:\n",
        "  def __init__(self,n):\n",
        "    self.n = n\n",
        "  def square(self):\n",
        "    return self.n**2\n",
        "num = Square(8)\n",
        "print(num.square())"
      ],
      "metadata": {
        "colab": {
          "base_uri": "https://localhost:8080/"
        },
        "id": "upSyzQ8Bni_a",
        "outputId": "838d5dd9-b1eb-4c15-a92f-fb1af006a388"
      },
      "execution_count": 13,
      "outputs": [
        {
          "output_type": "stream",
          "name": "stdout",
          "text": [
            "64\n"
          ]
        }
      ]
    },
    {
      "cell_type": "code",
      "source": [
        "# Question no. 24\n",
        "# Print documentation for built-in functions\n",
        "print(input.__doc__)\n",
        "print(abs.__doc__)\n",
        "print(float.__doc__)\n",
        "print(int.__doc__)\n",
        "def square(n):\n",
        "  return n**2\n",
        "\n",
        "print(square.__doc__)"
      ],
      "metadata": {
        "colab": {
          "base_uri": "https://localhost:8080/"
        },
        "id": "asxO5L5xonSM",
        "outputId": "37bae54b-8306-45d2-f264-14e841be7741"
      },
      "execution_count": 23,
      "outputs": [
        {
          "output_type": "stream",
          "name": "stdout",
          "text": [
            "Forward raw_input to frontends\n",
            "\n",
            "        Raises\n",
            "        ------\n",
            "        StdinNotImplementedError if active frontend doesn't support stdin.\n",
            "        \n",
            "Return the absolute value of the argument.\n",
            "Convert a string or number to a floating point number, if possible.\n",
            "int([x]) -> integer\n",
            "int(x, base=10) -> integer\n",
            "\n",
            "Convert a number or string to an integer, or return 0 if no arguments\n",
            "are given.  If x is a number, return x.__int__().  For floating point\n",
            "numbers, this truncates towards zero.\n",
            "\n",
            "If x is not a number or if base is given, then x must be a string,\n",
            "bytes, or bytearray instance representing an integer literal in the\n",
            "given base.  The literal can be preceded by '+' or '-' and be surrounded\n",
            "by whitespace.  The base defaults to 10.  Valid bases are 0 and 2-36.\n",
            "Base 0 means to interpret the base from the string as an integer literal.\n",
            ">>> int('0b100', base=0)\n",
            "4\n",
            "None\n"
          ]
        }
      ]
    },
    {
      "cell_type": "code",
      "source": [
        "# Question no. 25\n",
        "# Write a code of class\n",
        "class Dog:\n",
        "  def __init__(self,name,breed):\n",
        "    self.name = name\n",
        "    self.breed = breed\n",
        "\n",
        "dog1 = Dog(\"Fluffi\",\"Germensheferd\")"
      ],
      "metadata": {
        "id": "ac6NifWZrCAh"
      },
      "execution_count": null,
      "outputs": []
    },
    {
      "cell_type": "code",
      "source": [
        "# Question no. 26\n",
        "# We will make a function that returns the sum of two numbers .\n",
        "def sum(a,b):\n",
        "  print(a+b)\n",
        "sum(5,6)\n",
        "sum(4,3)\n",
        "sum(12,7)"
      ],
      "metadata": {
        "colab": {
          "base_uri": "https://localhost:8080/"
        },
        "id": "G-BnAZPHsavJ",
        "outputId": "8e123edd-a112-42a5-a16f-132fdce3a161"
      },
      "execution_count": 24,
      "outputs": [
        {
          "output_type": "stream",
          "name": "stdout",
          "text": [
            "11\n",
            "7\n",
            "19\n"
          ]
        }
      ]
    },
    {
      "cell_type": "code",
      "source": [
        "# Question no. 27\n",
        "# We will convert int into str and print a console .\n",
        "def printValue(n):\n",
        "  print(str(n))\n",
        "printValue(3)"
      ],
      "metadata": {
        "colab": {
          "base_uri": "https://localhost:8080/"
        },
        "id": "e7KhbNxKtJYS",
        "outputId": "f2096d51-249f-493d-fbbb-f40592dd9474"
      },
      "execution_count": 25,
      "outputs": [
        {
          "output_type": "stream",
          "name": "stdout",
          "text": [
            "3\n"
          ]
        }
      ]
    },
    {
      "cell_type": "code",
      "source": [
        "# Question no. 28\n",
        "# We will get two string number and print their sum .\n",
        "def printValue(s1,s2):\n",
        "  print(int(s1)+int(s2))\n",
        "printValue(\"3\",\"4\")\n",
        "printValue(\"6\",\"7\")"
      ],
      "metadata": {
        "colab": {
          "base_uri": "https://localhost:8080/"
        },
        "id": "OgL5-ef0tnzG",
        "outputId": "d4f93ed2-5db3-4d76-f8b7-b59fd420e715"
      },
      "execution_count": 27,
      "outputs": [
        {
          "output_type": "stream",
          "name": "stdout",
          "text": [
            "7\n",
            "13\n"
          ]
        }
      ]
    },
    {
      "cell_type": "code",
      "source": [
        "# Question no. 30\n",
        "# We will print the concatenation of two string\n",
        "def concate(para1:str,para2:str):\n",
        "  print(para1+para2)\n",
        "concate(\"My name is Abdullah \",'My father name is Athar')"
      ],
      "metadata": {
        "colab": {
          "base_uri": "https://localhost:8080/"
        },
        "id": "6Ebn6AVWumTX",
        "outputId": "d1c10f9b-6d09-4a03-b927-ac962ae9bc34"
      },
      "execution_count": 29,
      "outputs": [
        {
          "output_type": "stream",
          "name": "stdout",
          "text": [
            "My name is Abdullah My father name is Athar\n"
          ]
        }
      ]
    },
    {
      "cell_type": "code",
      "source": [],
      "metadata": {
        "id": "AgWJOKdVvPZh"
      },
      "execution_count": null,
      "outputs": []
    }
  ],
  "metadata": {
    "language_info": {
      "name": "python"
    },
    "colab": {
      "provenance": [],
      "include_colab_link": true
    },
    "kernelspec": {
      "name": "python3",
      "display_name": "Python 3"
    }
  },
  "nbformat": 4,
  "nbformat_minor": 0
}