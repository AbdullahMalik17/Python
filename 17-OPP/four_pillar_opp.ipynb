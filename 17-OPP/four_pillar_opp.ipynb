{
  "cells": [
    {
      "cell_type": "markdown",
      "metadata": {
        "id": "view-in-github",
        "colab_type": "text"
      },
      "source": [
        "<a href=\"https://colab.research.google.com/github/AbdullahMalik17/Python/blob/main/17-OPP/four_pillar_opp.ipynb\" target=\"_parent\"><img src=\"https://colab.research.google.com/assets/colab-badge.svg\" alt=\"Open In Colab\"/></a>"
      ]
    },
    {
      "cell_type": "markdown",
      "metadata": {
        "id": "KNAJ7N5MOEQg"
      },
      "source": [
        "# Four pillar of OOP:-\n",
        "- Encapsulation\n",
        "- Polymorphism\n",
        "- Inheritance\n",
        "- Abstraction\n",
        "## Encapsulation(ڈیٹا چھپانا)\n",
        "Data is protected in it . For example , Mobile is encapsulated , we can touch the screen and don't see it's internal parts .\n",
        "## Abstraction(خلاصہ)\n",
        "We hide extra information in it . We remove complexity in the chatbot . Abstract class use as blueprint for other class\n",
        "## Inheritance(وراثت)\n",
        "We provide the properties of one class to another class.\n",
        "## Polymorphism(متعدد شکلیں)\n",
        "We will assign one class to another class ."
      ]
    },
    {
      "cell_type": "markdown",
      "source": [
        "# **Encapsulation**\n",
        "\n",
        "**Encapsulation** is one of the **core principles of Object-Oriented Programming (OOP)**. It refers to the bundling of data (attributes) and methods (functions) that operate on the data into a single unit (a class). Encapsulation also involves restricting direct access to some of an object’s components, which is a way of preventing unintended interference and misuse of data."
      ],
      "metadata": {
        "id": "O_sZ8rbDDf7P"
      }
    },
    {
      "cell_type": "markdown",
      "source": [
        "## **Access Modifiers: Public, Private, and Protected**\n",
        "\n",
        "In Python, access control is implemented using naming conventions rather than strict access modifiers like in other languages (e.g., Java or C++). Here’s how it works:\n",
        "\n",
        "1.  **Public**:\n",
        "  * Attributes and methods are accessible from anywhere.\n",
        "  * No special syntax is used.\n",
        "Example: name\n",
        "\n",
        "2.  **Protected**:\n",
        "  - Attributes and methods are intended for internal use within the class and its **subclasses**.\n",
        "  - A single underscore _ is used as a prefix.\n",
        "Example: _age\n",
        "\n",
        "3.  **Private**:\n",
        "  - Attributes and methods are accessible only within the class itself.\n",
        "  - A double underscore __ is used as a prefix.\n",
        "Example: __salary"
      ],
      "metadata": {
        "id": "paT4R2LmEA2I"
      }
    },
    {
      "cell_type": "markdown",
      "source": [
        "# Getter and setter method"
      ],
      "metadata": {
        "id": "YXMntWbrD0sw"
      }
    },
    {
      "cell_type": "code",
      "source": [
        "class Bank_Account:\n",
        "  def __init__(self,name,balance):\n",
        "    self.name :str = name  # Public\n",
        "    self._balance : int = balance  # Protected\n",
        "    self.__pin : int = 1234   # Private\n",
        "\n",
        "  def get_amount(self):\n",
        "    print(f\"Your amount is : {self._balance}\")\n",
        "  def set_amount(self ,amount):\n",
        "    if amount > 0:\n",
        "      self._balance += amount\n",
        "    else:\n",
        "      print(\"Negative Amount is Invalid\")\n",
        "  def display_amount(self):\n",
        "    print(f\"Your amount is {self._balance}\")\n",
        "\n",
        "  def display_pin(self):\n",
        "    return self.__pin\n",
        "\n",
        "account = Bank_Account(\"Abdullah\",0)\n",
        "account.set_amount(1500)\n",
        "account.get_amount()\n",
        "account.set_amount(-1200)\n",
        "\n",
        "\n"
      ],
      "metadata": {
        "colab": {
          "base_uri": "https://localhost:8080/"
        },
        "id": "mIpsigwWDudU",
        "outputId": "4e5c9e33-2397-4263-cc8d-1142529304fc"
      },
      "execution_count": 2,
      "outputs": [
        {
          "output_type": "stream",
          "name": "stdout",
          "text": [
            "Your amount is : 1500\n",
            "Negative Amount is Invalid\n"
          ]
        }
      ]
    },
    {
      "cell_type": "code",
      "execution_count": null,
      "metadata": {
        "vscode": {
          "languageId": "plaintext"
        },
        "colab": {
          "base_uri": "https://localhost:8080/"
        },
        "id": "Db29yZTuOEQl",
        "outputId": "8b22ecca-4fd9-4149-81d3-ebc085dfbd65"
      },
      "outputs": [
        {
          "output_type": "stream",
          "name": "stdout",
          "text": [
            "After deposit your total amount is 52290\n",
            "After withdraw your total amount is 45725 \n"
          ]
        }
      ],
      "source": [
        "# Encapsulation\n",
        "class BankSystem:\n",
        "  def __init__(self,account_number,total_amount):\n",
        "    self.__account_number = account_number\n",
        "    self.__total_amount = total_amount\n",
        "  def withdraw(self,amount):\n",
        "    self.__total_amount -= amount\n",
        "    print(f\"After withdraw your total amount is {self.__total_amount} \")\n",
        "  def deposit(self,amount):\n",
        "    self.__total_amount += amount\n",
        "    print(f\"After deposit your total amount is {self.__total_amount}\")\n",
        "\n",
        "ubl = BankSystem(6375343,45500)\n",
        "ubl.deposit(6790)\n",
        "ubl.withdraw(6565)"
      ]
    },
    {
      "cell_type": "markdown",
      "source": [
        "# Types of Inheritance :\n",
        "- Single subclass\n",
        "- Multiple Subclasses"
      ],
      "metadata": {
        "id": "tUwlNm5nMQ91"
      }
    },
    {
      "cell_type": "code",
      "source": [
        "# Child Class\n",
        "class Fish:\n",
        "   def swim(self):\n",
        "    print(\"Deep Swimming\")\n",
        "class Bird:\n",
        "  def fly(self):\n",
        "    print(\"Flying High\")\n",
        "\n",
        "class Flying_fish(Bird,Fish):\n",
        "  pass\n",
        "\n",
        "fish = Flying_fish()\n",
        "fish.fly()\n",
        "fish.swim()\n",
        "\n",
        "\n"
      ],
      "metadata": {
        "colab": {
          "base_uri": "https://localhost:8080/"
        },
        "id": "n8eOdOyzMP2-",
        "outputId": "f50007aa-7e93-4898-eb67-304c76b628aa"
      },
      "execution_count": 5,
      "outputs": [
        {
          "output_type": "stream",
          "name": "stdout",
          "text": [
            "Flying High\n",
            "Deep Swimming\n"
          ]
        }
      ]
    },
    {
      "cell_type": "code",
      "source": [],
      "metadata": {
        "id": "HFx2s6YUg3nC"
      },
      "execution_count": null,
      "outputs": []
    },
    {
      "cell_type": "code",
      "source": [
        "# inheritance\n",
        "class CAR:\n",
        "  def specification(self,name,model):\n",
        "    raise NotImplementedError\n",
        "\n",
        "class Vehicle(CAR):\n",
        "  def __init__(self,name,model):\n",
        "    self.name = name\n",
        "    self.model = model\n",
        "\n",
        "  def specification(self): # this is called inheritance\n",
        "    print(f\"The name of your car is {self.name} and it's model is {self.model} \")\n",
        "\n",
        "\n",
        "car = Vehicle(\"Mehran\",\"2022\")\n",
        "car.specification()"
      ],
      "metadata": {
        "colab": {
          "base_uri": "https://localhost:8080/"
        },
        "id": "9q6E6HTnT11b",
        "outputId": "dc7ce830-4040-4542-c713-847699c1f1d8"
      },
      "execution_count": null,
      "outputs": [
        {
          "output_type": "stream",
          "name": "stdout",
          "text": [
            "The name of your car is Mehran and it's model is 2022 \n"
          ]
        }
      ]
    },
    {
      "cell_type": "code",
      "source": [],
      "metadata": {
        "id": "M_hw3uScgXIF"
      },
      "execution_count": null,
      "outputs": []
    }
  ],
  "metadata": {
    "language_info": {
      "name": "python"
    },
    "colab": {
      "provenance": [],
      "include_colab_link": true
    },
    "kernelspec": {
      "name": "python3",
      "display_name": "Python 3"
    }
  },
  "nbformat": 4,
  "nbformat_minor": 0
}