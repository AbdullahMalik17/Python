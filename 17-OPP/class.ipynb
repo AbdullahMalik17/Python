{
  "cells": [
    {
      "cell_type": "markdown",
      "metadata": {
        "colab_type": "text",
        "id": "view-in-github"
      },
      "source": [
        "<a href=\"https://colab.research.google.com/github/AbdullahMalik17/Python/blob/main/17-OPP%5Capp.ipynb\" target=\"_parent\"><img src=\"https://colab.research.google.com/assets/colab-badge.svg\" alt=\"Open In Colab\"/></a>"
      ]
    },
    {
      "cell_type": "markdown",
      "metadata": {
        "id": "jZ-QwN6qzyKd"
      },
      "source": [
        "# Programming Paradigms\n",
        "Programming paradigms are used to write a code in distinct way .\n",
        "There are many p-paradigms as follows:-\n",
        "- OOP\n",
        "- Structural Programming\n",
        "- Functional Progamming\n",
        "- Logic programming"
      ]
    },
    {
      "cell_type": "markdown",
      "metadata": {
        "id": "q9XOI-2KzyKg"
      },
      "source": [
        "# OOP (Object Oriented Programming)\n",
        "- class (Blueprint of object)\n"
      ]
    },
    {
      "cell_type": "code",
      "execution_count": null,
      "metadata": {
        "colab": {
          "base_uri": "https://localhost:8080/"
        },
        "id": "GS73Rre14ADu",
        "outputId": "6d514242-8a0e-44e3-a0cc-2648ee5bbbcc"
      },
      "outputs": [
        {
          "name": "stdout",
          "output_type": "stream",
          "text": [
            "Abdullah\n"
          ]
        }
      ],
      "source": [
        "# If we don't write constructor function then python will make it own .\n",
        "\n",
        "class Myself:\n",
        "  name:str = \"Abdullah\"\n",
        "  f_name:str = \"Athar\"\n",
        "  education:str = \"Matric pass\"\n",
        "\n",
        "abdullah_self = Myself()\n",
        "print(abdullah_self.name)"
      ]
    },
    {
      "cell_type": "markdown",
      "metadata": {
        "id": "goegNUTH1YhU"
      },
      "source": [
        "# Syntax:-\n",
        "  class name :\n",
        "  def __init__(parameters): \\n\n",
        "    self.parameter\n",
        "\n",
        "  def function      # It is used to create method"
      ]
    },
    {
      "cell_type": "code",
      "execution_count": null,
      "metadata": {
        "colab": {
          "base_uri": "https://localhost:8080/"
        },
        "id": "wdGR7eT9z1W0",
        "outputId": "54f87e66-cabe-4f78-a342-95de98cc8e3b"
      },
      "outputs": [
        {
          "name": "stdout",
          "output_type": "stream",
          "text": [
            "This is the blueprint of my house .\n",
            "This is the blueprint of my house .\n",
            "Katara Mohallah\n",
            "House no. 124,2\n"
          ]
        }
      ],
      "source": [
        "class House : # it is a good practise to write the class's name capital .\n",
        "# init function make the empty property and put the value in it from parameter .\n",
        "# every function in constructor will execute each time when the class is being called .\n",
        "  def __init__(self,address,number_of_room,number_of_wr):\n",
        "    self.address :str = address\n",
        "    self.number_of_room :str = number_of_room\n",
        "    self.number_of_wr :str= number_of_wr\n",
        "    print(f\"This is the blueprint of my house .\")\n",
        "\n",
        "my_house = House(\"Katara Mohallah\",\"8\",\"3\")\n",
        "haleema_house = House(\"House no. 124\",\"5\",2)\n",
        "print(my_house.address)\n",
        "print(f\"{haleema_house.address},{haleema_house.number_of_wr}\")"
      ]
    },
    {
      "cell_type": "code",
      "execution_count": null,
      "metadata": {
        "colab": {
          "base_uri": "https://localhost:8080/",
          "height": 193
        },
        "id": "kTUE18k14pkm",
        "outputId": "ce69a991-3f84-4a7d-c7b1-782c976448b9"
      },
      "outputs": [
        {
          "ename": "TypeError",
          "evalue": "Student_card.__init__() missing 3 required positional arguments: 'name', 'father_name', and 'section'",
          "output_type": "error",
          "traceback": [
            "\u001b[0;31m---------------------------------------------------------------------------\u001b[0m",
            "\u001b[0;31mTypeError\u001b[0m                                 Traceback (most recent call last)",
            "\u001b[0;32m<ipython-input-7-20adeed149a2>\u001b[0m in \u001b[0;36m<cell line: 0>\u001b[0;34m()\u001b[0m\n\u001b[1;32m      7\u001b[0m     \u001b[0mself\u001b[0m\u001b[0;34m.\u001b[0m\u001b[0mname\u001b[0m \u001b[0;34m=\u001b[0m \u001b[0mname\u001b[0m\u001b[0;34m\u001b[0m\u001b[0;34m\u001b[0m\u001b[0m\n\u001b[1;32m      8\u001b[0m \u001b[0;34m\u001b[0m\u001b[0m\n\u001b[0;32m----> 9\u001b[0;31m \u001b[0mabdullah\u001b[0m \u001b[0;34m=\u001b[0m \u001b[0mStudent_card\u001b[0m\u001b[0;34m(\u001b[0m\u001b[0;34m)\u001b[0m\u001b[0;34m\u001b[0m\u001b[0;34m\u001b[0m\u001b[0m\n\u001b[0m",
            "\u001b[0;31mTypeError\u001b[0m: Student_card.__init__() missing 3 required positional arguments: 'name', 'father_name', and 'section'"
          ]
        }
      ],
      "source": [
        "# Compulsory use of parameter in python\n",
        "class Student_card :\n",
        "  name :str\n",
        "  father_name : str\n",
        "  section :str\n",
        "  def __init__(self,name,father_name,section):\n",
        "    self.name = name\n",
        "\n",
        "abdullah = Student_card()    # It gives error because we can't give parameter .\n"
      ]
    },
    {
      "cell_type": "markdown",
      "metadata": {
        "id": "rcKhXZ9bPeZ2"
      },
      "source": [
        " # Methods"
      ]
    },
    {
      "cell_type": "code",
      "execution_count": 13,
      "metadata": {
        "colab": {
          "base_uri": "https://localhost:8080/"
        },
        "id": "u1JP9_miPdvo",
        "outputId": "f934c08f-2608-4121-d445-0f3119c86b0f"
      },
      "outputs": [
        {
          "name": "stdout",
          "output_type": "stream",
          "text": [
            "Enter floor between  1-10 5\n",
            "5\n"
          ]
        }
      ],
      "source": [
        "\n",
        "class Building:\n",
        "  def __init__(self,rooms,floors):\n",
        "    self.rooms : int = rooms\n",
        "    self.floors : int = floors\n",
        "\n",
        "  def lift(self):\n",
        "    return input(\"Enter floor between  1-10... \")\n",
        "\n",
        "\n",
        "building = Building(3,5)\n",
        "print(building.lift())"
      ]
    }
  ],
  "metadata": {
    "colab": {
      "include_colab_link": true,
      "provenance": []
    },
    "kernelspec": {
      "display_name": "Python 3",
      "name": "python3"
    },
    "language_info": {
      "name": "python"
    }
  },
  "nbformat": 4,
  "nbformat_minor": 0
}
