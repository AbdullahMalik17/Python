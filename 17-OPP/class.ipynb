{
  "cells": [
    {
      "cell_type": "markdown",
      "metadata": {
        "id": "view-in-github",
        "colab_type": "text"
      },
      "source": [
        "<a href=\"https://colab.research.google.com/github/AbdullahMalik17/Python/blob/main/class.ipynb\" target=\"_parent\"><img src=\"https://colab.research.google.com/assets/colab-badge.svg\" alt=\"Open In Colab\"/></a>"
      ]
    },
    {
      "cell_type": "markdown",
      "metadata": {
        "id": "jZ-QwN6qzyKd"
      },
      "source": [
        "# Programming Paradigms\n",
        "Programming paradigms are used to write a code in distinct way .\n",
        "There are many p-paradigms as follows:-\n",
        "- OOP\n",
        "- Structural Programming\n",
        "- Functional Progamming\n",
        "- Logic programming"
      ]
    },
    {
      "cell_type": "markdown",
      "source": [
        "# What is a Constructor?\n",
        "A constructor is a special method that is automatically called when an object of a class is created. It’s used to initialize the object’s attributes or perform any setup required for the object.\n",
        "\n",
        "In Python, the constructor method is named **init**"
      ],
      "metadata": {
        "id": "1X2zE-cr8qWz"
      }
    },
    {
      "cell_type": "code",
      "source": [],
      "metadata": {
        "id": "vDmFvNVm8yoJ"
      },
      "execution_count": null,
      "outputs": []
    },
    {
      "cell_type": "markdown",
      "metadata": {
        "id": "q9XOI-2KzyKg"
      },
      "source": [
        "# OOP (Object Oriented Programming)\n",
        "- class (Blueprint of object)\n"
      ]
    },
    {
      "cell_type": "code",
      "execution_count": 6,
      "metadata": {
        "colab": {
          "base_uri": "https://localhost:8080/"
        },
        "id": "GS73Rre14ADu",
        "outputId": "2e496804-635b-4652-bd1b-292e1903ab5c"
      },
      "outputs": [
        {
          "output_type": "stream",
          "name": "stdout",
          "text": [
            "Abdullah\n"
          ]
        }
      ],
      "source": [
        "# If we don't write constructor function then python will make it own .\n",
        "\n",
        "class Myself:\n",
        "  name:str = \"Abdullah\"\n",
        "  f_name:str = \"Athar\"\n",
        "  education:str = \"Matric pass\"\n",
        "\n",
        "abdullah_self = Myself()\n",
        "print(abdullah_self.name)\n"
      ]
    },
    {
      "cell_type": "markdown",
      "metadata": {
        "id": "goegNUTH1YhU"
      },
      "source": [
        "# Syntax:-\n",
        "  class name :\n",
        "  def __init__(parameters): \\n\n",
        "    self.parameter\n",
        "\n",
        "  def function      # It is used to create method"
      ]
    },
    {
      "cell_type": "markdown",
      "source": [
        "# The self Keyword\n",
        "The self keyword refers to the current instance of the class. It’s used to access attributes and methods of the object within the class. It’s always the first parameter of any method in a class."
      ],
      "metadata": {
        "id": "XsX0Fzku8CRf"
      }
    },
    {
      "cell_type": "code",
      "execution_count": null,
      "metadata": {
        "colab": {
          "base_uri": "https://localhost:8080/"
        },
        "id": "wdGR7eT9z1W0",
        "outputId": "504bae8a-18b5-48e7-b54e-ae0634baa791"
      },
      "outputs": [
        {
          "output_type": "stream",
          "name": "stdout",
          "text": [
            "This is the blueprint of my house .\n",
            "This is the blueprint of my house .\n",
            "Katara Mohallah\n",
            "House no. 124,2\n"
          ]
        }
      ],
      "source": [
        "class House : # it is a good practise to write the class's name capital .\n",
        "# init function make the empty property and put the value in it from parameter .\n",
        "# every function in constructor will execute each time when the class is being called .\n",
        "  def __init__(self,address,number_of_room,number_of_wr):\n",
        "    self.address :str = address\n",
        "    self.number_of_room :str = number_of_room\n",
        "    self.number_of_wr :str= number_of_wr\n",
        "    print(f\"This is the blueprint of my house .\")\n",
        "\n",
        "my_house = House(\"Katara Mohallah\",\"8\",\"3\")\n",
        "haleema_house = House(\"House no. 124\",\"5\",2)\n",
        "print(my_house.address)\n",
        "print(f\"{haleema_house.address},{haleema_house.number_of_wr}\")"
      ]
    },
    {
      "cell_type": "code",
      "execution_count": 3,
      "metadata": {
        "id": "kTUE18k14pkm"
      },
      "outputs": [],
      "source": [
        "# Compulsory use of parameter in python\n",
        "class Student_card :\n",
        "  name :str\n",
        "  father_name : str\n",
        "  section :str\n",
        "  def __init__(self,name,father_name,section):\n",
        "    self.name = name\n",
        "\n",
        "abdullah = Student_card()    # It gives error because we can't give parameter .\n"
      ]
    },
    {
      "cell_type": "markdown",
      "metadata": {
        "id": "rcKhXZ9bPeZ2"
      },
      "source": [
        " # Methods"
      ]
    },
    {
      "cell_type": "code",
      "execution_count": null,
      "metadata": {
        "colab": {
          "base_uri": "https://localhost:8080/"
        },
        "id": "u1JP9_miPdvo",
        "outputId": "f934c08f-2608-4121-d445-0f3119c86b0f"
      },
      "outputs": [
        {
          "name": "stdout",
          "output_type": "stream",
          "text": [
            "Enter floor between  1-10 5\n",
            "5\n"
          ]
        }
      ],
      "source": [
        "\n",
        "class Building:\n",
        "  def __init__(self,rooms,floors):\n",
        "    self.rooms : int = rooms\n",
        "    self.floors : int = floors\n",
        "\n",
        "  def lift(self):\n",
        "    return input(\"Enter floor between  1-10... \")\n",
        "\n",
        "\n",
        "building = Building(3,5)\n",
        "print(building.lift())"
      ]
    },
    {
      "cell_type": "markdown",
      "source": [
        "# Class Attributes and Instance Attributes\n"
      ],
      "metadata": {
        "id": "3sZutZEh-DK1"
      }
    },
    {
      "cell_type": "code",
      "source": [
        "# Here are to work with class attributes and instance attributes\n",
        "class Dog:\n",
        "  speceies = \"German Sheferd\" # Class Attribute\n",
        "  def __init__(self,name,age):\n",
        "    self.name : str = name # Instance Attributes\n",
        "    self.age : int = age\n",
        "  def attribute(self):\n",
        "    print(f\"\\033[1m{self.name}\\033[0m is so kind . It is a faithful dog . It's age is \\033[1m{self.age}\\033[0m and its species \\033[1m{self.speceies}\\033[0m\")\n",
        "dog1 = Dog(\"Tommy\",13)\n",
        "dog1.attribute()"
      ],
      "metadata": {
        "colab": {
          "base_uri": "https://localhost:8080/"
        },
        "id": "QgsVF9Kx-IbP",
        "outputId": "0750a03e-b39d-49b9-d947-1ad1dde407ff"
      },
      "execution_count": 13,
      "outputs": [
        {
          "output_type": "stream",
          "name": "stdout",
          "text": [
            "\u001b[1mTommy\u001b[0m is so kind . It is a faithful dog . It's age is \u001b[1m13\u001b[0m and its species \u001b[1mGerman Sheferd\u001b[0m\n"
          ]
        }
      ]
    },
    {
      "cell_type": "markdown",
      "source": [
        "1. #  Instance Methods\n",
        "- Definition: Instance methods are the most common type of methods.   \n",
        "- They operate on an instance of the class and can access and modify instance attributes.\n",
        "\n",
        "- ## First Parameter:\n",
        " The first parameter is always self, which refers to the instance of the class.\n",
        "\n",
        "Usage: Used for methods that need to access or modify instance-specific data.\n",
        "\n",
        "2. # Class Methods (@classmethod)\n",
        "- Definition: Class methods operate on the class itself rather than on instances. They can access and modify class attributes.\n",
        "\n",
        "- First Parameter: The first parameter is always cls, which refers to the class.\n",
        "\n",
        "- Decorator: Defined using the @classmethod decorator.\n",
        "\n",
        "Usage: Used for methods that need to work with class-level data or perform operations related to the class."
      ],
      "metadata": {
        "id": "jU9eeyMkAqiX"
      }
    },
    {
      "cell_type": "code",
      "source": [
        "class Person:\n",
        "  species = \"Homo Specience\"\n",
        "  def __init__(self,name,age):\n",
        "    self.name:str= name\n",
        "    self.age:int=age\n",
        "\n",
        "  def display(self):\n",
        "    print(f\"The Name of person is {self.name} and its age is {self.age} and its species is {self.species}\")\n",
        "\n",
        "  @classmethod\n",
        "  def update_species(cls,new_specie):\n",
        "    cls.species = new_specie\n",
        "\n",
        "  @staticmethod\n",
        "  def is_adult(age):\n",
        "    return age>=18\n",
        "\n",
        "# Create an instance of the Person class\n",
        "person1 = Person(\"Alice\", 25)\n",
        "\n",
        "# Call instance method\n",
        "person1.display()  # Output: Alice is 25 years old and is a Homo sapiens.\n",
        "\n",
        "# Call class method to update species\n",
        "Person.update_species(\"Homo sapiens sapiens\")  # Output: Species updated to Homo sapiens sapiens.\n",
        "person1.display()  # Output: Alice is 25 years old and is a Homo sapiens sapiens.\n",
        "\n",
        "# Call static method to check if the person is an adult\n",
        "print(f\"Is Alice an adult? {Person.is_adult(person1.age)}\")  # Output: Is Alice an adult? True\n",
        "\n"
      ],
      "metadata": {
        "colab": {
          "base_uri": "https://localhost:8080/"
        },
        "id": "_fzh4CmYBFtd",
        "outputId": "71df58ca-698d-46a5-d333-4ac73b7507ec"
      },
      "execution_count": 15,
      "outputs": [
        {
          "output_type": "stream",
          "name": "stdout",
          "text": [
            "The Name of person is Alice and its age is 25 and its species is Homo Specience\n",
            "The Name of person is Alice and its age is 25 and its species is Homo sapiens sapiens\n",
            "Is Alice an adult? True\n"
          ]
        }
      ]
    }
  ],
  "metadata": {
    "colab": {
      "provenance": [],
      "include_colab_link": true
    },
    "kernelspec": {
      "display_name": "Python 3",
      "name": "python3"
    },
    "language_info": {
      "name": "python"
    }
  },
  "nbformat": 4,
  "nbformat_minor": 0
}