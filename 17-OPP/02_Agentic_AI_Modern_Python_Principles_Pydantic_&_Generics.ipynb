{
  "nbformat": 4,
  "nbformat_minor": 0,
  "metadata": {
    "colab": {
      "provenance": []
    },
    "kernelspec": {
      "name": "python3",
      "display_name": "Python 3"
    },
    "language_info": {
      "name": "python"
    }
  },
  "cells": [
    {
      "cell_type": "markdown",
      "source": [
        "<font color=\"#a9a56c\" size=2> **@Author: Arif Kasim Rozani - (Team Operation Badar)** </font>\n",
        "\n"
      ],
      "metadata": {
        "id": "S0O5vhYruLYZ"
      }
    },
    {
      "cell_type": "markdown",
      "source": [
        "# **Best Practices in OOP**\n",
        "\n",
        "Writing clean and maintainable Object-Oriented Programming (OOP) code is essential for building scalable and robust applications. Following best practices like the **SOLID** **principles** can help you achieve this. Let’s explore these principles and how to apply them in Python."
      ],
      "metadata": {
        "id": "rm8-uuNagImP"
      }
    },
    {
      "cell_type": "markdown",
      "source": [
        "## **SOLID Principles in Python**\n",
        "\n",
        "The **SOLID principles** are a set of five design principles that help developers write maintainable and scalable code. They are:\n",
        "\n",
        "1.  **Single Responsibility Principle (SRP):**\n",
        "\n",
        "    A class should have only one reason to change, meaning it should have only one responsibility.\n",
        "\n",
        "2.  **Open/Closed Principle (OCP):**\n",
        "\n",
        "    A class should be open for extension but closed for modification. You should be able to add new functionality without changing existing code.\n",
        "\n",
        "3.  **Liskov Substitution Principle (LSP):**\n",
        "\n",
        "    Objects of a superclass should be replaceable with objects of a subclass without affecting the correctness of the program.\n",
        "\n",
        "4.  **Interface Segregation Principle (ISP):**\n",
        "\n",
        "    Clients should not be forced to depend on interfaces they do not use. Instead of one large interface, create smaller, specific ones.\n",
        "\n",
        "5.  **Dependency Inversion Principle (DIP):**\n",
        "\n",
        "    High-level modules should not depend on low-level modules. Both should depend on abstractions. Abstractions should not depend on details. Details should depend on abstractions."
      ],
      "metadata": {
        "id": "OdIW-cD-gUWr"
      }
    },
    {
      "cell_type": "markdown",
      "source": [
        "## **Example: Applying SOLID Principles**\n",
        "\n",
        "Let’s create a Python example to demonstrate how to apply these principles."
      ],
      "metadata": {
        "id": "6tziMMOvgZCN"
      }
    },
    {
      "cell_type": "markdown",
      "source": [
        "## **Single Responsibility Principle (SRP)**"
      ],
      "metadata": {
        "id": "Wrqs7tRvgb2i"
      }
    },
    {
      "cell_type": "code",
      "source": [
        "# Bad: One class with multiple responsibilities\n",
        "class Report:\n",
        "    def generate_report(self, data):\n",
        "        # Generate report\n",
        "        pass\n",
        "\n",
        "    def save_report(self, file_path):\n",
        "        # Save report to file\n",
        "        pass\n",
        "\n",
        "# Good: Separate responsibilities into different classes\n",
        "class ReportGenerator:\n",
        "    def generate_report(self, data):\n",
        "        # Generate report\n",
        "        pass\n",
        "\n",
        "class ReportSaver:\n",
        "    def save_report(self, report, file_path):\n",
        "        # Save report to file\n",
        "        pass"
      ],
      "metadata": {
        "id": "f58Q16w_gerp"
      },
      "execution_count": 2,
      "outputs": []
    },
    {
      "cell_type": "markdown",
      "source": [
        "## **Open/Closed Principle (OCP)**"
      ],
      "metadata": {
        "id": "NSuC1GgRghxU"
      }
    },
    {
      "cell_type": "code",
      "source": [
        "# Bad: Modify existing code to add new functionality\n",
        "class AreaCalculator:\n",
        "    def calculate_area(self, shape):\n",
        "        if shape.type == \"circle\":\n",
        "            return 3.14 * shape.radius ** 2\n",
        "        elif shape.type == \"rectangle\":\n",
        "            return shape.length * shape.width\n",
        "\n",
        "# Good: Extend functionality without modifying existing code\n",
        "from abc import ABC, abstractmethod\n",
        "\n",
        "class Shape(ABC):\n",
        "    @abstractmethod\n",
        "    def area(self):\n",
        "        pass\n",
        "\n",
        "class Circle(Shape):\n",
        "    def __init__(self, radius):\n",
        "        self.radius = radius\n",
        "\n",
        "    def area(self):\n",
        "        return 3.14 * self.radius ** 2\n",
        "\n",
        "class Rectangle(Shape):\n",
        "    def __init__(self, length, width):\n",
        "        self.length = length\n",
        "        self.width = width\n",
        "\n",
        "    def area(self):\n",
        "        return self.length * self.width\n",
        "\n",
        "class AreaCalculator:\n",
        "    def calculate_area(self, shape):\n",
        "        return shape.area()"
      ],
      "metadata": {
        "id": "iwxtIxRQgkEQ"
      },
      "execution_count": 3,
      "outputs": []
    },
    {
      "cell_type": "markdown",
      "source": [
        "## **Liskov Substitution Principle (LSP)**"
      ],
      "metadata": {
        "id": "6V3UBvRrgm3z"
      }
    },
    {
      "cell_type": "code",
      "source": [
        "# Bad: Subclass changes the behavior of the parent class\n",
        "class Bird:\n",
        "    def fly(self):\n",
        "        pass\n",
        "\n",
        "class Ostrich(Bird):\n",
        "    def fly(self):\n",
        "        raise NotImplementedError(\"Ostriches can't fly\")\n",
        "\n",
        "# Good: Subclass adheres to the behavior of the parent class\n",
        "class Bird:\n",
        "    def move(self):\n",
        "        pass\n",
        "\n",
        "class Sparrow(Bird):\n",
        "    def move(self):\n",
        "        print(\"Flying\")\n",
        "\n",
        "class Ostrich(Bird):\n",
        "    def move(self):\n",
        "        print(\"Running\")"
      ],
      "metadata": {
        "id": "bZfasvoPgp-X"
      },
      "execution_count": 4,
      "outputs": []
    },
    {
      "cell_type": "markdown",
      "source": [
        "## **Interface Segregation Principle (ISP)**"
      ],
      "metadata": {
        "id": "41DG7OkEgtQY"
      }
    },
    {
      "cell_type": "code",
      "source": [
        "# Bad: One large interface\n",
        "class Printer:\n",
        "    def print_document(self):\n",
        "        pass\n",
        "\n",
        "    def scan_document(self):\n",
        "        pass\n",
        "\n",
        "    def fax_document(self):\n",
        "        pass\n",
        "\n",
        "# Good: Smaller, specific interfaces\n",
        "class Printer:\n",
        "    def print_document(self):\n",
        "        pass\n",
        "\n",
        "class Scanner:\n",
        "    def scan_document(self):\n",
        "        pass\n",
        "\n",
        "class FaxMachine:\n",
        "    def fax_document(self):\n",
        "        pass"
      ],
      "metadata": {
        "id": "P94V0iOVgwHA"
      },
      "execution_count": 5,
      "outputs": []
    },
    {
      "cell_type": "markdown",
      "source": [
        "## **Dependency Inversion Principle (DIP)**"
      ],
      "metadata": {
        "id": "3Z9r6J-dgybN"
      }
    },
    {
      "cell_type": "code",
      "source": [
        "\n",
        "# Bad: High-level module depends on low-level module\n",
        "class LightBulb:\n",
        "    def turn_on(self):\n",
        "        pass\n",
        "\n",
        "    def turn_off(self):\n",
        "        pass\n",
        "\n",
        "class Switch:\n",
        "    def __init__(self):\n",
        "        self.bulb = LightBulb()\n",
        "\n",
        "    def operate(self):\n",
        "        if condition:\n",
        "            self.bulb.turn_on()\n",
        "        else:\n",
        "            self.bulb.turn_off()\n",
        "\n",
        "# Good: Both depend on abstractions\n",
        "from abc import ABC, abstractmethod\n",
        "\n",
        "class Switchable(ABC):\n",
        "    @abstractmethod\n",
        "    def turn_on(self):\n",
        "        pass\n",
        "\n",
        "    @abstractmethod\n",
        "    def turn_off(self):\n",
        "        pass\n",
        "\n",
        "class LightBulb(Switchable):\n",
        "    def turn_on(self):\n",
        "        pass\n",
        "\n",
        "    def turn_off(self):\n",
        "        pass\n",
        "\n",
        "class Switch:\n",
        "    def __init__(self, device: Switchable):\n",
        "        self.device = device\n",
        "\n",
        "    def operate(self):\n",
        "        if condition:\n",
        "            self.device.turn_on()\n",
        "        else:\n",
        "            self.device.turn_off()"
      ],
      "metadata": {
        "id": "MxpPgsY2g5J1"
      },
      "execution_count": 6,
      "outputs": []
    },
    {
      "cell_type": "markdown",
      "source": [
        "## **Key Takeaways**\n",
        "\n",
        "  * **Single Responsibility Principle (SRP):** Each class should have only one responsibility.\n",
        "\n",
        "  * **Open/Closed Principle (OCP):** Classes should be open for extension but closed for modification.\n",
        "\n",
        "  * **Liskov Substitution Principle (LSP):** Subclasses should be substitutable for their superclasses.\n",
        "\n",
        "  * **Interface Segregation Principle (ISP):** Use smaller, specific interfaces instead of one large interface.\n",
        "  * **Dependency Inversion Principle (DIP):** High-level and low-level modules should depend on abstractions.\n",
        "\n",
        "\n",
        "By applying these **SOLID principles**, you can write clean, maintainable, and scalable OOP code in Python. 🚀\n",
        "\n",
        "**Further resources:**\n",
        "\n",
        "[SOLID principles: realpython.com](https://realpython.com/solid-principles-python/)\n",
        "\n",
        "[SOLID principles: github.io](https://yakhyo.github.io/solid-python/)"
      ],
      "metadata": {
        "id": "szCg5TNBg9td"
      }
    },
    {
      "cell_type": "markdown",
      "source": [
        "# **Iterable**\n",
        "\n",
        "In Python, Iterable is not a parent class but rather an abstract base class (ABC) defined in the collections.abc module. It serves as a protocol or interface that other classes can implement to indicate that they are iterable (i.e., they can be looped over using a for loop or other iteration constructs).\n",
        "\n",
        "## **What is an Iterable?**\n",
        "\n",
        "An iterable is any object that can return an iterator when the iter() function is called on it. The iterator is used to traverse through the elements of the iterable.\n",
        "\n",
        "## **Parent Class Relationship**\n",
        "\n",
        "The Iterable abstract base class is not a parent class in the traditional sense (like inheritance in object-oriented programming). Instead, it is used to define a protocol that other classes can adhere to by implementing the __iter__() method.\n"
      ],
      "metadata": {
        "id": "rfnwK1oWhPxi"
      }
    },
    {
      "cell_type": "markdown",
      "source": [
        "## **Example of Iterable Classes**\n",
        "\n",
        "Many built-in Python classes are iterable because they implement the __iter__() method. These include:\n",
        "\n",
        "1.  **Lists**: list\n",
        "2.  **Tuples**: tuple\n",
        "3.  **Strings**: str\n",
        "4.  **Dictionaries**: dict\n",
        "5.  **Sets**: set\n",
        "6.  **Ranges**: range\n",
        "7.  **Generators**: generator\n",
        "\n",
        "<br>\n",
        "\n",
        "## **How to Check if a Class is Iterable**\n",
        "\n",
        "You can use the isinstance() function with collections.abc.Iterable to check if an object is iterable:"
      ],
      "metadata": {
        "id": "hLIwWLYghktZ"
      }
    },
    {
      "cell_type": "code",
      "source": [
        "from collections.abc import Iterable\n",
        "\n",
        "# Check if built-in types are iterable\n",
        "print(\"isinstance([1, 2, 3], Iterable) = \",isinstance([1, 2, 3], Iterable))  # True (list is iterable)\n",
        "print('isinstance(\"hello\", Iterable)   = ', isinstance(\"hello\", Iterable))    # True (string is iterable)\n",
        "print(\"isinstance(123, Iterable)       = \", isinstance(123, Iterable))        # False (integer is not iterable)"
      ],
      "metadata": {
        "id": "DL2TywSrhu4y",
        "outputId": "12af98bb-2fd9-4f93-f21d-7310b7ea1748",
        "colab": {
          "base_uri": "https://localhost:8080/"
        }
      },
      "execution_count": 7,
      "outputs": [
        {
          "output_type": "stream",
          "name": "stdout",
          "text": [
            "isinstance([1, 2, 3], Iterable) =  True\n",
            "isinstance(\"hello\", Iterable)   =  True\n",
            "isinstance(123, Iterable)       =  False\n"
          ]
        }
      ]
    },
    {
      "cell_type": "markdown",
      "source": [
        "## **How to Make a Custom Class Iterable**\n",
        "\n",
        "To make a custom class iterable, you need to implement the __iter__() method, which should return an iterator object. The iterator object must implement the __next__() method.\n",
        "\n",
        "## **Example:**"
      ],
      "metadata": {
        "id": "XlnJoC7YhyEG"
      }
    },
    {
      "cell_type": "code",
      "source": [
        "from collections.abc import Iterable, Iterator\n",
        "\n",
        "class MyIterable(Iterable):\n",
        "    def __init__(self, data):\n",
        "        self.data = data\n",
        "\n",
        "    def __iter__(self):\n",
        "        return MyIterator(self.data)\n",
        "\n",
        "class MyIterator(Iterator):\n",
        "    def __init__(self, data):\n",
        "        self.data = data\n",
        "        self.index = 0\n",
        "\n",
        "    def __next__(self):\n",
        "        if self.index >= len(self.data):\n",
        "            raise StopIteration\n",
        "        value = self.data[self.index]\n",
        "        self.index += 1\n",
        "        print(\"Called: MyIterator.__next__\")\n",
        "        return value\n",
        "\n",
        "# Usage\n",
        "my_iterable = MyIterable([1, 2, 3])\n",
        "for item in my_iterable:\n",
        "    print(\"item : \",item)  # Output: 1, 2, 3"
      ],
      "metadata": {
        "id": "tvOsmaB2h0tn",
        "outputId": "0464286f-503b-484a-d2af-663e32a3fdab",
        "colab": {
          "base_uri": "https://localhost:8080/"
        }
      },
      "execution_count": 8,
      "outputs": [
        {
          "output_type": "stream",
          "name": "stdout",
          "text": [
            "Called: MyIterator.__next__\n",
            "item :  1\n",
            "Called: MyIterator.__next__\n",
            "item :  2\n",
            "Called: MyIterator.__next__\n",
            "item :  3\n"
          ]
        }
      ]
    },
    {
      "cell_type": "markdown",
      "source": [
        "## **Key Points**\n",
        "\n",
        "* Iterable is an abstract base class (ABC) from the collections.abc module.\n",
        "\n",
        "* It defines a protocol for iterable objects by requiring the implementation of the __iter__() method.\n",
        "* Many built-in Python classes (e.g., list, tuple, str, dict) are iterable because they implement this protocol.\n",
        "* Custom classes can be made iterable by implementing the __iter__() method."
      ],
      "metadata": {
        "id": "YCOgBmB-jGfY"
      }
    },
    {
      "cell_type": "markdown",
      "source": [
        "# **Object-Based Language vs. Object-Oriented Language**"
      ],
      "metadata": {
        "id": "6St19IsBjKfW"
      }
    },
    {
      "cell_type": "markdown",
      "source": [
        "## **Object-Based Language**\n",
        "\n",
        "  * **Definition**: A language that supports objects (data structures with attributes and methods) and encapsulation (data hiding), but lacks key OOP features like inheritance and polymorphism.\n",
        "  * **Features**:\n",
        "    * Objects as instances with properties and methods.\n",
        "    * Encapsulation (e.g., public/private access modifiers).\n",
        "    * May include basic polymorphism (e.g., operator overloading).\n",
        "  * Examples: JavaScript (prototype-based, but lacks classical inheritance), classic Visual Basic, Ada."
      ],
      "metadata": {
        "id": "mcCy6T_hjNZL"
      }
    },
    {
      "cell_type": "markdown",
      "source": [
        "## **Object-Oriented Language**\n",
        "\n",
        "  * **Definition**: A language that implements the four pillars of OOP:\n",
        "    1.  **Encapsulation**: Hiding internal state and requiring interaction via methods.\n",
        "    2.  **Inheritance**: Creating hierarchical relationships between classes (e.g., subclasses reusing parent class code).\n",
        "    3.  **Polymorphism**: Allowing objects of different classes to respond to the same method (via inheritance or interfaces).\n",
        "    4.  **Abstraction**: Simplifying complexity through abstract classes/interfaces.\n",
        "\n",
        "  * Examples: Python, Java, C++, C#."
      ],
      "metadata": {
        "id": "5bHVRTbhjYbF"
      }
    },
    {
      "cell_type": "markdown",
      "source": [
        "# **The Python's Object-Centric Nature**"
      ],
      "metadata": {
        "id": "lTKO_5PvjcIu"
      }
    },
    {
      "cell_type": "markdown",
      "source": [
        "# **Is Everything in Python an Object? YES!**\n",
        "\n",
        "**Yes, in Python, absolutely everything is an object. This is a fundamental characteristic of the language and a core design principle.**\n",
        "\n",
        "  * **Numbers**: Integers, floats, complex numbers are objects.\n",
        "  * **Strings**: Textual data is represented as string objects.\n",
        "  * **Lists**, Tuples, Dictionaries, Sets: These are built-in container types and are all objects.\n",
        "  * **Functions**: Functions are first-class objects in Python. You can assign them to variables, pass them as arguments to other functions, and even return them from functions.\n",
        "  * **Classes and Modules**: Classes themselves are objects (instances of metaclasses), and modules are also objects.\n",
        "  * **Even None**: None, which represents the absence of a value, is an object of the NoneType class.\n",
        "  * **Types/Classes**: In Python, types (like int, str, list) are also objects (they are instances of the metaclass type).\n",
        "\n",
        "\n",
        "## **How to Verify:**\n",
        "\n",
        "You can use the type() function in Python to check the type of any entity. It will always return a class (which is itself an object)."
      ],
      "metadata": {
        "id": "gb3gTA3vjeji"
      }
    },
    {
      "cell_type": "markdown",
      "source": [
        "``` python\n",
        ">>> type(5)\n",
        "<class 'int'>\n",
        ">>> type(\"hello\")\n",
        "<class 'str'>\n",
        ">>> type([1, 2, 3])\n",
        "<class 'list'>\n",
        ">>> def my_function():\n",
        "...     pass\n",
        ">>> type(my_function)\n",
        "<class 'function'>\n",
        ">>> class MyClass:\n",
        "...     pass\n",
        ">>> obj = MyClass()\n",
        ">>> type(MyClass)\n",
        "<class 'type'>  # Classes are instances of 'type' (metaclass)\n",
        ">>> type(obj)\n",
        "<class '__main__.MyClass'>\n",
        "\n",
        "```"
      ],
      "metadata": {
        "id": "STKKdg9wjlNR"
      }
    },
    {
      "cell_type": "markdown",
      "source": [
        "## **Why is this important in Python?**\n",
        "\n",
        "  * **Consistency**: It creates a consistent and unified way to work with data and code. Everything behaves like an object, leading to a more predictable programming model.\n",
        "  \n",
        "  * **Flexibility**: Because functions and classes are objects, Python is highly dynamic and allows for powerful meta-programming techniques. You can inspect, modify, and create objects dynamically at runtime.\n",
        "  * **Object-Oriented Programming**: This \"everything is an object\" nature is foundational to Python's object-oriented features. It makes it natural to work with classes, inheritance, and polymorphism, as all entities are treated as objects."
      ],
      "metadata": {
        "id": "NRrwtfWxjo6z"
      }
    },
    {
      "cell_type": "markdown",
      "source": [
        "## **In summary:**\n",
        "\n",
        "  * Object-based languages provide objects and some basic object-related features but lack the full suite of OOP principles.\n",
        "\n",
        "  * Object-oriented languages fully embrace OOP by incorporating classes, encapsulation, abstraction, inheritance, and polymorphism, leading to better software design and organization.\n",
        "  * **Python is a fully object-oriented language where everything is an object**, contributing to its flexibility, consistency, and power."
      ],
      "metadata": {
        "id": "7seya2ppj1Rc"
      }
    },
    {
      "cell_type": "markdown",
      "source": [
        "\n",
        "# **Pydantic Tutorial for Beginners: A Complete Guide**\n",
        "\n",
        "Pydantic is a **Python library** for **data validation and settings management** using Python type hints. It ensures your data is always in the correct format, making it perfect for:  \n",
        "✅ **API request/response validation**  \n",
        "✅ **Config management**  \n",
        "✅ **Data parsing & serialization**\n",
        "\n",
        "----------\n",
        "\n",
        "## **📌 Table of Contents**\n",
        "\n",
        "1.  Installation\n",
        "2.  Basic Model\n",
        "3.  Field Validation\n",
        "4.  Nested Models\n",
        "5.  JSON Serialization\n",
        "6.  Settings Management\n",
        "7.  Real-World Example\n",
        "\n",
        "----------\n",
        "\n",
        "## **1️⃣ Installation** <a name=\"installation\"></a>"
      ],
      "metadata": {
        "id": "4UiK683nKU0D"
      }
    },
    {
      "cell_type": "code",
      "source": [
        "%pip -q install pydantic pydantic_settings pydantic[email]"
      ],
      "metadata": {
        "colab": {
          "base_uri": "https://localhost:8080/"
        },
        "id": "vTpGpolxKasI",
        "outputId": "a0c31085-4193-442f-8511-3b82ac38f2e3"
      },
      "execution_count": 9,
      "outputs": [
        {
          "output_type": "stream",
          "name": "stdout",
          "text": [
            "\u001b[?25l   \u001b[90m━━━━━━━━━━━━━━━━━━━━━━━━━━━━━━━━━━━━━━━━\u001b[0m \u001b[32m0.0/331.1 kB\u001b[0m \u001b[31m?\u001b[0m eta \u001b[36m-:--:--\u001b[0m\r\u001b[2K   \u001b[90m━━━━━━━━━━━━━━━━━━━━━━━━━━━━━━━━━━━━━━━━\u001b[0m \u001b[32m331.1/331.1 kB\u001b[0m \u001b[31m18.1 MB/s\u001b[0m eta \u001b[36m0:00:00\u001b[0m\n",
            "\u001b[?25h"
          ]
        }
      ]
    },
    {
      "cell_type": "markdown",
      "source": [
        "\n",
        "----------\n",
        "\n",
        "## **2️⃣ Basic Model** <a name=\"basic-model\"></a>\n",
        "\n",
        "### **Create a Simple Model**"
      ],
      "metadata": {
        "id": "QrDTqLIjKh2x"
      }
    },
    {
      "cell_type": "code",
      "source": [
        "from pydantic import BaseModel\n",
        "\n",
        "class User(BaseModel):\n",
        "    name: str\n",
        "    age: int\n",
        "    is_active: bool = True  # Default value"
      ],
      "metadata": {
        "id": "452z6GI9KpYI"
      },
      "execution_count": 10,
      "outputs": []
    },
    {
      "cell_type": "markdown",
      "source": [
        "### **Usage**"
      ],
      "metadata": {
        "id": "NP-rYBxWK6rC"
      }
    },
    {
      "cell_type": "code",
      "source": [
        "user = User(name=\"Alice\", age=25)\n",
        "print(user.name)  # Output: \"Alice\"\n",
        "print(user.age)   # Output: 25\n",
        "print(user.is_active)  # Output: True (default)"
      ],
      "metadata": {
        "colab": {
          "base_uri": "https://localhost:8080/"
        },
        "id": "ZKjmx8-RKuzV",
        "outputId": "953786e3-f3bf-4c71-8076-e7f931a450cd"
      },
      "execution_count": 11,
      "outputs": [
        {
          "output_type": "stream",
          "name": "stdout",
          "text": [
            "Alice\n",
            "25\n",
            "True\n"
          ]
        }
      ]
    },
    {
      "cell_type": "markdown",
      "source": [
        "### **Automatic Validation**"
      ],
      "metadata": {
        "id": "R6u3T2ovK_lp"
      }
    },
    {
      "cell_type": "code",
      "source": [
        "# ❌ Error (age must be an int)\n",
        "user = User(name=\"Bob\", age=\"twenty\")  # Raises ValidationError"
      ],
      "metadata": {
        "colab": {
          "base_uri": "https://localhost:8080/",
          "height": 332
        },
        "id": "vl-PuA9jLB6Y",
        "outputId": "954ee00c-eded-4def-923d-1bc12564a419"
      },
      "execution_count": 12,
      "outputs": [
        {
          "output_type": "error",
          "ename": "ValidationError",
          "evalue": "1 validation error for User\nage\n  Input should be a valid integer, unable to parse string as an integer [type=int_parsing, input_value='twenty', input_type=str]\n    For further information visit https://errors.pydantic.dev/2.11/v/int_parsing",
          "traceback": [
            "\u001b[0;31m---------------------------------------------------------------------------\u001b[0m",
            "\u001b[0;31mValidationError\u001b[0m                           Traceback (most recent call last)",
            "\u001b[0;32m/tmp/ipython-input-53072929.py\u001b[0m in \u001b[0;36m<cell line: 0>\u001b[0;34m()\u001b[0m\n\u001b[1;32m      1\u001b[0m \u001b[0;31m# ❌ Error (age must be an int)\u001b[0m\u001b[0;34m\u001b[0m\u001b[0;34m\u001b[0m\u001b[0m\n\u001b[0;32m----> 2\u001b[0;31m \u001b[0muser\u001b[0m \u001b[0;34m=\u001b[0m \u001b[0mUser\u001b[0m\u001b[0;34m(\u001b[0m\u001b[0mname\u001b[0m\u001b[0;34m=\u001b[0m\u001b[0;34m\"Bob\"\u001b[0m\u001b[0;34m,\u001b[0m \u001b[0mage\u001b[0m\u001b[0;34m=\u001b[0m\u001b[0;34m\"twenty\"\u001b[0m\u001b[0;34m)\u001b[0m  \u001b[0;31m# Raises ValidationError\u001b[0m\u001b[0;34m\u001b[0m\u001b[0;34m\u001b[0m\u001b[0m\n\u001b[0m",
            "\u001b[0;32m/usr/local/lib/python3.12/dist-packages/pydantic/main.py\u001b[0m in \u001b[0;36m__init__\u001b[0;34m(self, **data)\u001b[0m\n\u001b[1;32m    251\u001b[0m         \u001b[0;31m# `__tracebackhide__` tells pytest and some other tools to omit this function from tracebacks\u001b[0m\u001b[0;34m\u001b[0m\u001b[0;34m\u001b[0m\u001b[0m\n\u001b[1;32m    252\u001b[0m         \u001b[0m__tracebackhide__\u001b[0m \u001b[0;34m=\u001b[0m \u001b[0;32mTrue\u001b[0m\u001b[0;34m\u001b[0m\u001b[0;34m\u001b[0m\u001b[0m\n\u001b[0;32m--> 253\u001b[0;31m         \u001b[0mvalidated_self\u001b[0m \u001b[0;34m=\u001b[0m \u001b[0mself\u001b[0m\u001b[0;34m.\u001b[0m\u001b[0m__pydantic_validator__\u001b[0m\u001b[0;34m.\u001b[0m\u001b[0mvalidate_python\u001b[0m\u001b[0;34m(\u001b[0m\u001b[0mdata\u001b[0m\u001b[0;34m,\u001b[0m \u001b[0mself_instance\u001b[0m\u001b[0;34m=\u001b[0m\u001b[0mself\u001b[0m\u001b[0;34m)\u001b[0m\u001b[0;34m\u001b[0m\u001b[0;34m\u001b[0m\u001b[0m\n\u001b[0m\u001b[1;32m    254\u001b[0m         \u001b[0;32mif\u001b[0m \u001b[0mself\u001b[0m \u001b[0;32mis\u001b[0m \u001b[0;32mnot\u001b[0m \u001b[0mvalidated_self\u001b[0m\u001b[0;34m:\u001b[0m\u001b[0;34m\u001b[0m\u001b[0;34m\u001b[0m\u001b[0m\n\u001b[1;32m    255\u001b[0m             warnings.warn(\n",
            "\u001b[0;31mValidationError\u001b[0m: 1 validation error for User\nage\n  Input should be a valid integer, unable to parse string as an integer [type=int_parsing, input_value='twenty', input_type=str]\n    For further information visit https://errors.pydantic.dev/2.11/v/int_parsing"
          ]
        }
      ]
    },
    {
      "cell_type": "markdown",
      "source": [
        "\n",
        "----------\n",
        "\n",
        "## **3️⃣ Field Validation** <a name=\"validation\"></a>\n",
        "\n",
        "### **Using `Field` for Extra Rules**"
      ],
      "metadata": {
        "id": "wYoctPKZLI-F"
      }
    },
    {
      "cell_type": "code",
      "source": [
        "from pydantic import BaseModel, Field\n",
        "\n",
        "class Product(BaseModel):\n",
        "    name: str\n",
        "    price: float = Field(..., gt=0)  # Must be > 0\n",
        "    category: str = Field(min_length=3, max_length=50)"
      ],
      "metadata": {
        "id": "Vig4VDh0LPM4"
      },
      "execution_count": 13,
      "outputs": []
    },
    {
      "cell_type": "markdown",
      "source": [
        "### **Example**"
      ],
      "metadata": {
        "id": "oZClTdSsLWD_"
      }
    },
    {
      "cell_type": "code",
      "source": [
        "# ✅ Valid\n",
        "product = Product(name=\"Laptop\", price=999.99, category=\"Electronics\")\n",
        "print(product.model_dump_json)"
      ],
      "metadata": {
        "colab": {
          "base_uri": "https://localhost:8080/"
        },
        "id": "cAW73mVwMiHP",
        "outputId": "d2d0a095-c637-463f-d0ae-b7532ea21f0c"
      },
      "execution_count": 14,
      "outputs": [
        {
          "output_type": "stream",
          "name": "stdout",
          "text": [
            "<bound method BaseModel.model_dump_json of Product(name='Laptop', price=999.99, category='Electronics')>\n"
          ]
        }
      ]
    },
    {
      "cell_type": "code",
      "source": [
        "# ❌ Invalid (price <= 0)\n",
        "product = Product(name=\"Phone\", price=0, category=\"Gadgets\")  # Raises error"
      ],
      "metadata": {
        "colab": {
          "base_uri": "https://localhost:8080/",
          "height": 332
        },
        "id": "DyNqM98HMyG-",
        "outputId": "34b4ab04-f1f5-4b09-ecdf-0e85c1f6214a"
      },
      "execution_count": 15,
      "outputs": [
        {
          "output_type": "error",
          "ename": "ValidationError",
          "evalue": "1 validation error for Product\nprice\n  Input should be greater than 0 [type=greater_than, input_value=0, input_type=int]\n    For further information visit https://errors.pydantic.dev/2.11/v/greater_than",
          "traceback": [
            "\u001b[0;31m---------------------------------------------------------------------------\u001b[0m",
            "\u001b[0;31mValidationError\u001b[0m                           Traceback (most recent call last)",
            "\u001b[0;32m/tmp/ipython-input-1037734080.py\u001b[0m in \u001b[0;36m<cell line: 0>\u001b[0;34m()\u001b[0m\n\u001b[1;32m      1\u001b[0m \u001b[0;31m# ❌ Invalid (price <= 0)\u001b[0m\u001b[0;34m\u001b[0m\u001b[0;34m\u001b[0m\u001b[0m\n\u001b[0;32m----> 2\u001b[0;31m \u001b[0mproduct\u001b[0m \u001b[0;34m=\u001b[0m \u001b[0mProduct\u001b[0m\u001b[0;34m(\u001b[0m\u001b[0mname\u001b[0m\u001b[0;34m=\u001b[0m\u001b[0;34m\"Phone\"\u001b[0m\u001b[0;34m,\u001b[0m \u001b[0mprice\u001b[0m\u001b[0;34m=\u001b[0m\u001b[0;36m0\u001b[0m\u001b[0;34m,\u001b[0m \u001b[0mcategory\u001b[0m\u001b[0;34m=\u001b[0m\u001b[0;34m\"Gadgets\"\u001b[0m\u001b[0;34m)\u001b[0m  \u001b[0;31m# Raises error\u001b[0m\u001b[0;34m\u001b[0m\u001b[0;34m\u001b[0m\u001b[0m\n\u001b[0m",
            "\u001b[0;32m/usr/local/lib/python3.12/dist-packages/pydantic/main.py\u001b[0m in \u001b[0;36m__init__\u001b[0;34m(self, **data)\u001b[0m\n\u001b[1;32m    251\u001b[0m         \u001b[0;31m# `__tracebackhide__` tells pytest and some other tools to omit this function from tracebacks\u001b[0m\u001b[0;34m\u001b[0m\u001b[0;34m\u001b[0m\u001b[0m\n\u001b[1;32m    252\u001b[0m         \u001b[0m__tracebackhide__\u001b[0m \u001b[0;34m=\u001b[0m \u001b[0;32mTrue\u001b[0m\u001b[0;34m\u001b[0m\u001b[0;34m\u001b[0m\u001b[0m\n\u001b[0;32m--> 253\u001b[0;31m         \u001b[0mvalidated_self\u001b[0m \u001b[0;34m=\u001b[0m \u001b[0mself\u001b[0m\u001b[0;34m.\u001b[0m\u001b[0m__pydantic_validator__\u001b[0m\u001b[0;34m.\u001b[0m\u001b[0mvalidate_python\u001b[0m\u001b[0;34m(\u001b[0m\u001b[0mdata\u001b[0m\u001b[0;34m,\u001b[0m \u001b[0mself_instance\u001b[0m\u001b[0;34m=\u001b[0m\u001b[0mself\u001b[0m\u001b[0;34m)\u001b[0m\u001b[0;34m\u001b[0m\u001b[0;34m\u001b[0m\u001b[0m\n\u001b[0m\u001b[1;32m    254\u001b[0m         \u001b[0;32mif\u001b[0m \u001b[0mself\u001b[0m \u001b[0;32mis\u001b[0m \u001b[0;32mnot\u001b[0m \u001b[0mvalidated_self\u001b[0m\u001b[0;34m:\u001b[0m\u001b[0;34m\u001b[0m\u001b[0;34m\u001b[0m\u001b[0m\n\u001b[1;32m    255\u001b[0m             warnings.warn(\n",
            "\u001b[0;31mValidationError\u001b[0m: 1 validation error for Product\nprice\n  Input should be greater than 0 [type=greater_than, input_value=0, input_type=int]\n    For further information visit https://errors.pydantic.dev/2.11/v/greater_than"
          ]
        }
      ]
    },
    {
      "cell_type": "markdown",
      "source": [
        "\n",
        "----------\n",
        "\n",
        "## **4️⃣ Nested Models** <a name=\"nested-models\"></a>"
      ],
      "metadata": {
        "id": "Y3CiDYfoM6k-"
      }
    },
    {
      "cell_type": "code",
      "source": [
        "class Address(BaseModel):\n",
        "    city: str\n",
        "    country: str\n",
        "\n",
        "class UserProfile(BaseModel):\n",
        "    name: str\n",
        "    address: Address  # Nested model"
      ],
      "metadata": {
        "id": "EG0dQd04M9Nu"
      },
      "execution_count": null,
      "outputs": []
    },
    {
      "cell_type": "markdown",
      "source": [
        "### **Usage**"
      ],
      "metadata": {
        "id": "Oraawxz2NCOF"
      }
    },
    {
      "cell_type": "code",
      "source": [
        "profile = UserProfile(\n",
        "    name=\"Alice\",\n",
        "    address={\"city\": \"New York\", \"country\": \"USA\"}  # Auto-converted to Address\n",
        ")\n",
        "print(profile.address.city)  # Output: \"New York\""
      ],
      "metadata": {
        "id": "Zl07SFc4NEN-"
      },
      "execution_count": null,
      "outputs": []
    },
    {
      "cell_type": "markdown",
      "source": [
        "\n",
        "----------\n",
        "\n",
        "## **5️⃣ JSON Serialization** <a name=\"json\"></a>\n",
        "\n",
        "### **Convert Model ↔ JSON**"
      ],
      "metadata": {
        "id": "QlPQG7yLNJw6"
      }
    },
    {
      "cell_type": "code",
      "source": [
        "user = User(name=\"Bob\", age=30)\n",
        "\n",
        "# Model → JSON\n",
        "user_json = user.model_dump_json()\n",
        "user_dict = user.model_dump()\n",
        "print(user_json)\n",
        "print(user_dict)\n",
        "# Output: '{\"name\":\"Bob\",\"age\":30,\"is_active\":true}'\n",
        "\n",
        "# JSON → Model\n",
        "new_user = User.model_validate_json('{\"name\":\"Charlie\",\"age\":40}')\n",
        "print(new_user.name)  # Output: \"Charlie\"\n",
        "print(type(new_user))  # Output: <class 'int'>"
      ],
      "metadata": {
        "colab": {
          "base_uri": "https://localhost:8080/"
        },
        "id": "AZiEuh9ONP0R",
        "outputId": "bb5557d1-3875-4460-8c94-6a9b90da5f30"
      },
      "execution_count": 17,
      "outputs": [
        {
          "output_type": "stream",
          "name": "stdout",
          "text": [
            "{\"name\":\"Bob\",\"age\":30,\"is_active\":true}\n",
            "{'name': 'Bob', 'age': 30, 'is_active': True}\n",
            "Charlie\n",
            "<class '__main__.User'>\n"
          ]
        }
      ]
    },
    {
      "cell_type": "markdown",
      "source": [
        "\n",
        "----------\n",
        "\n",
        "## **6️⃣ Settings Management** <a name=\"settings\"></a>\n",
        "\n",
        "Pydantic is great for **config files** (e.g., `.env` files). `Use VSCode`\n",
        "\n",
        "### **Example: Environment Variables**"
      ],
      "metadata": {
        "id": "fV8-jCnQNck-"
      }
    },
    {
      "cell_type": "code",
      "source": [
        "from pydantic_settings import BaseSettings\n",
        "\n",
        "class Settings(BaseSettings):\n",
        "    api_key: str = \"123123\" # run in VSCode without default value\n",
        "    debug: bool = False\n",
        "\n",
        "    class Config:\n",
        "        env_file = \".env\"  # Load from .env file"
      ],
      "metadata": {
        "id": "T9THqqLLNe7x"
      },
      "execution_count": 18,
      "outputs": []
    },
    {
      "cell_type": "markdown",
      "source": [
        "### **.env File**"
      ],
      "metadata": {
        "id": "J2mN-WPZQUIE"
      }
    },
    {
      "cell_type": "markdown",
      "source": [
        "```bash\n",
        "API_KEY=my-secret-key\n",
        "DEBUG=True\n",
        "```"
      ],
      "metadata": {
        "id": "fVMWH0QoQYLM"
      }
    },
    {
      "cell_type": "markdown",
      "source": [
        "### **Usage**"
      ],
      "metadata": {
        "id": "eu9TDaItN6Mi"
      }
    },
    {
      "cell_type": "code",
      "source": [
        "settings = Settings()\n",
        "print(settings)  # Output: \"my-secret-key\""
      ],
      "metadata": {
        "colab": {
          "base_uri": "https://localhost:8080/"
        },
        "id": "ujgGRBVKN8Fe",
        "outputId": "5e459427-39ce-4a9b-c07c-fc847c89d3f1"
      },
      "execution_count": 19,
      "outputs": [
        {
          "output_type": "stream",
          "name": "stdout",
          "text": [
            "api_key='123123' debug=False\n"
          ]
        }
      ]
    },
    {
      "cell_type": "markdown",
      "source": [
        "\n",
        "----------\n",
        "\n",
        "## **7️⃣ Using Validators for Custom Rules**\n",
        "\n",
        "You can define **custom validation logic** using `@validator`.\n",
        "\n",
        "### **🔹 Example: Validate Email Format**"
      ],
      "metadata": {
        "id": "MCu36O1gSRaa"
      }
    },
    {
      "cell_type": "code",
      "source": [
        "from pydantic import BaseModel, EmailStr, field_validator\n",
        "\n",
        "class User(BaseModel):\n",
        "    name: str\n",
        "    email: EmailStr\n",
        "\n",
        "    @field_validator(\"name\")\n",
        "    def name_must_not_be_empty(cls, value):\n",
        "        if not value.strip():\n",
        "            raise ValueError(\"Name cannot be empty!\")\n",
        "        return value\n",
        "\n",
        "# Valid user\n",
        "user = User(name=\"David\", email=\"david@example.com\")\n",
        "print(user)"
      ],
      "metadata": {
        "id": "Q8IKXgCUSYBy"
      },
      "execution_count": null,
      "outputs": []
    },
    {
      "cell_type": "code",
      "source": [
        "# Invalid user (empty name)\n",
        "User(name=\" \", email=\"invalid_email\")"
      ],
      "metadata": {
        "id": "RdiOH6HuTb5M"
      },
      "execution_count": null,
      "outputs": []
    },
    {
      "cell_type": "markdown",
      "source": [
        "----------\n",
        "\n",
        "## **🔥 Recap: Key Pydantic Features**"
      ],
      "metadata": {
        "id": "AjG0RVQlU3oC"
      }
    },
    {
      "cell_type": "markdown",
      "source": [
        "| Feature            | Example                          |   |   |\n",
        "|--------------------|----------------------------------|---|---|\n",
        "| Type Validation    | age: int → Fails if age=\"twenty\" |   |   |\n",
        "| Default Values     | is_active: bool = True           |   |   |\n",
        "| Nested Models      | address: Address                 |   |   |\n",
        "| JSON Serialization | .model_dump_json()               |   |   |\n",
        "| Env Config         | class Settings(BaseSettings)     |   |   |"
      ],
      "metadata": {
        "id": "rXKM9dzlU_bP"
      }
    },
    {
      "cell_type": "markdown",
      "source": [
        "\n",
        "----------\n",
        "\n",
        "## **🎯 Conclusion**\n",
        "\n",
        "Pydantic ensures **your data is always correct** while keeping code clean and readable. It’s a must-have for **APIs, configs, and data pipelines**!\n",
        "\n",
        "📌 **Key Takeaway:**  \n",
        "**Pydantic = Type hints + Validation + Serialization** 🚀"
      ],
      "metadata": {
        "id": "MSVvLh3NVJAx"
      }
    },
    {
      "cell_type": "markdown",
      "source": [
        "\n",
        "\n",
        "---\n",
        "\n",
        "\n",
        "# **Generics in Python 3.12: A Complete Beginner's Guide**\n",
        "\n",
        "Python 3.12 introduced several improvements to generics, making them more powerful and easier to use. This tutorial covers everything you need to know about generics in Python 3.12, with clear examples and practical applications.\n",
        "\n",
        "Generics in Python 3.12 are part of the type hinting system, which has evolved significantly since Python 3.5 introduced type annotations via PEP 484. Generics allow developers to write reusable, type-safe code by defining classes, functions, or data structures that can operate on different types while maintaining static type checking. With Python 3.12, generics have been refined with improvements in syntax and runtime behavior, building on earlier enhancements like those in PEP 695 (introduced in Python 3.12). Let’s break this down in depth.\n",
        "\n",
        "## **Table of Contents**\n",
        "\n",
        "1.  What Are Generics?\n",
        "2.  New Features in Python 3.12\n",
        "3.  Basic Generic Functions\n",
        "4.  Generic Classes\n",
        "5.  TypeVar and Bounds\n",
        "6.  Generic Collections\n",
        "7.  Overloading with `@overload`\n",
        "8.  Real-World Examples\n",
        "9.  Best Practices\n",
        "\n",
        "----------\n",
        "\n",
        "\n",
        "## **1. What Are Generics?** <a name=\"what-are-generics\"></a>\n",
        "\n",
        "Generics enable you to parameterize types, meaning you can create a blueprint for a class or function that works with any type (or a constrained set of types) specified by the user of that code. For example, a generic List can hold integers, strings, or custom objects, and the type checker ensures consistency without needing separate implementations for each type.\n",
        "\n",
        "In Python, generics are primarily used with the typing module (e.g., List, Dict, Optional) and, starting with Python 3.12, with new syntax from PEP 695, such as type statements and TypeVar refinements. They don’t change runtime behavior directly—Python remains dynamically typed—but they enhance static analysis tools like mypy, pyright, or IDEs.\n",
        "\n",
        "## **2. Why Are Generics Needed?**\n",
        "\n",
        "1.  **Code Reusability**: Without generics, you’d need to write duplicate code for different types. For instance, a function to process a list of integers and a list of strings would require two separate implementations. Generics let you write one function that works for any type.\n",
        "2.  **Type Safety**: Generics allow static type checkers to catch errors before runtime. For example, if a function expects a List[int] but receives a List[str], the type checker flags it.\n",
        "3.  **Abstraction**: They enable abstract data structures (e.g., stacks, queues, or trees) that can work with any data type, making libraries more flexible and maintainable.\n",
        "4.  **Interoperability**: Modern Python codebases often integrate with typed libraries or frameworks (e.g., FastAPI, Pydantic). Generics ensure compatibility and clarity in such ecosystems.\n",
        "\n",
        "## **3. How Do Generics Work in Python 3.12?**\n",
        "\n",
        "Python 3.12 introduces a cleaner syntax for generics via PEP 695, reducing reliance on the typing module’s older constructs. Here’s how they’re implemented:"
      ],
      "metadata": {
        "id": "eBv5EKTZzEUY"
      }
    },
    {
      "cell_type": "markdown",
      "source": [
        "\n",
        "❌ Example: A Function Without Generics"
      ],
      "metadata": {
        "id": "OoA_iB8f0hQi"
      }
    },
    {
      "cell_type": "code",
      "source": [
        "def double(value):\n",
        "    return value * 2\n",
        "\n",
        "print(double(5))     # ✅ Works (int → 10)\n",
        "print(double(\"Hi\"))  # ✅ Works (str → 'HiHi')\n",
        "print(double([1, 2])) # ✅ Works ([1,2,1,2])"
      ],
      "metadata": {
        "id": "JYzBdFKM0lVY"
      },
      "execution_count": null,
      "outputs": []
    },
    {
      "cell_type": "markdown",
      "source": [
        "📌 **Issue:**\n",
        "\n",
        "-   The function accepts **any data type**.\n",
        "    \n",
        "-   While **multiplication works for `int` and `str`**, unintended behavior can happen for **custom types**.\n",
        "    \n",
        "-   There’s **no type safety**, so errors may **only appear at runtime**.\n",
        "    \n",
        "\n",
        "### **🔹 Solution: Use Generics for Type Safety**\n",
        "\n",
        "Generics allow **type flexibility** while ensuring **type consistency**."
      ],
      "metadata": {
        "id": "P6bK1d5r0u0k"
      }
    },
    {
      "cell_type": "markdown",
      "source": [
        "\n",
        "## **jupyter notebook use:**\n",
        "\n",
        "\n",
        "`This automatically runs mypy on every cell before it is executed.`\n",
        "\n",
        "This is just for convenience to show the mypy output for this talk."
      ],
      "metadata": {
        "id": "B3LvzyVwINZj"
      }
    },
    {
      "cell_type": "code",
      "source": [
        "if \"google.colab\" in str(get_ipython()):\n",
        "    !pip install nb-mypy -qqq\n",
        "%load_ext nb_mypy"
      ],
      "metadata": {
        "id": "TX5xTpQkHY6V"
      },
      "execution_count": null,
      "outputs": []
    },
    {
      "cell_type": "code",
      "source": [
        "from typing import TypeVar\n",
        "\n",
        "T = TypeVar(\"T\", int, float)  # Restrict to int & float\n",
        "\n",
        "def double(value: T) -> T:\n",
        "    return value * 2\n",
        "\n",
        "print(double(5))     # ✅ Works (int → 10)\n",
        "print(double(3.14))  # ✅ Works (float → 6.28)\n",
        "print(double(\"Hi\"))  # ❌ TypeError: str not allowed"
      ],
      "metadata": {
        "id": "3FWbZ5B50xVB"
      },
      "execution_count": null,
      "outputs": []
    },
    {
      "cell_type": "code",
      "source": [
        "%%writefile test_mypy.py\n",
        "\n",
        "def multiply(x: float | int, y: float | int) -> float  | int: #Create the data type according to the values given float or int\n",
        "    return x * y\n",
        "\n",
        "result: float = multiply(3, 4.5) #Change the value to string data tyoe to see error when validating with mypy\n",
        "print(type(result),\" = \", result)"
      ],
      "metadata": {
        "id": "exx6RZWKMhgh"
      },
      "execution_count": null,
      "outputs": []
    },
    {
      "cell_type": "code",
      "source": [
        "!mypy test_mypy.py"
      ],
      "metadata": {
        "id": "r95Q2DCeL7uI"
      },
      "execution_count": null,
      "outputs": []
    },
    {
      "cell_type": "markdown",
      "source": [
        "## **For VSCode Use:**\n",
        "\n",
        "**A - By Command:**\n",
        "  1.  Open terminal window type 'uv add mypy' or 'pip install mypy'\n",
        "  2.  Validate class typing by using command in terminal window 'mypy class_name.py'\n",
        "\n",
        "**B - By Installing an Extension:**\n",
        "  1.  Click on extensions icon on the left side search 'Mypy Type Checker' by Microsoft then install it.\n",
        "  2.  Now the IDE it self is capable to figure out type error in source code while you are writing Python code.\n"
      ],
      "metadata": {
        "id": "EKTdPIINLVEy"
      }
    },
    {
      "cell_type": "markdown",
      "source": [
        "## **Example With Generics**"
      ],
      "metadata": {
        "id": "U5LQ38nlfHM0"
      }
    },
    {
      "cell_type": "code",
      "source": [
        "from typing import TypeVar, List\n",
        "\n",
        "T = TypeVar('T', bound=int | str)  # Declare a generic type\n",
        "\n",
        "def first_item(items: List[T]) -> T:  # Returns the correct type\n",
        "    return items[0]\n",
        "\n",
        "# print(first_item([1, 2, 3]))       # Output: int\n",
        "# print(first_item([\"a\", \"b\"]))      # Output: str\n",
        "print(first_item([1.0, 2.0, 3.0])) # Uncomment to see error"
      ],
      "metadata": {
        "id": "3HBZ0BnXfMpz"
      },
      "execution_count": null,
      "outputs": []
    },
    {
      "cell_type": "markdown",
      "source": [
        "----------\n",
        "\n",
        "## **4. New Features in Python 3.12** <a name=\"new-features\"></a>"
      ],
      "metadata": {
        "id": "4ZxTA9-Eg6KF"
      }
    },
    {
      "cell_type": "markdown",
      "source": [
        "| Feature               | Description                            | Example                              |   |\n",
        "|-----------------------|----------------------------------------|--------------------------------------|---|\n",
        "| Simpler Syntax        | No need for from typing import TypeVar | def func[T](): ...                   |   |\n",
        "| Type Parameter Lists  | Declare generics inline                | class Stack[T]: ...                  |   |\n",
        "| TypeVar Improvements  | Easier bounds and constraints          | T = TypeVar('T', bound=int)          |   |\n",
        "| Better Error Messages | More readable type errors              | TypeError: Expected 'int', got 'str' |"
      ],
      "metadata": {
        "id": "RB8yTun1hKyJ"
      }
    },
    {
      "cell_type": "markdown",
      "source": [
        "# ⚠ **<font color=\"red\">Important Note:</font>**\n",
        "\n",
        "**In order to use new generic type syntax introduced in Python 3.12 we need to upgrade Python enviroment of Google Colab Notebook, below are the steps how to do that.**"
      ],
      "metadata": {
        "id": "2a57Uyw2UjJ3"
      }
    },
    {
      "cell_type": "code",
      "source": [
        "%%python --version"
      ],
      "metadata": {
        "id": "yGBOvo3_iTAw"
      },
      "execution_count": null,
      "outputs": []
    },
    {
      "cell_type": "markdown",
      "source": [
        "## [**Step-by-Step Guide to Install Python 3.12 in Google Colab**](https://saturncloud.io/blog/how-to-update-google-colabs-python-version/)"
      ],
      "metadata": {
        "id": "fDsn7jmdkqf2"
      }
    },
    {
      "cell_type": "code",
      "source": [
        "# Install python 3.12\n",
        "!apt-get install python3.12"
      ],
      "metadata": {
        "id": "m4Y7R2Kzk1d4"
      },
      "execution_count": null,
      "outputs": []
    },
    {
      "cell_type": "code",
      "source": [
        "# Change default python3 to 3.12\n",
        "!sudo update-alternatives --install /usr/bin/python3 python3 /usr/bin/python3.11 1\n",
        "!sudo update-alternatives --install /usr/bin/python3 python3 /usr/bin/python3.12 2\n",
        "\n",
        "# Confirm version\n",
        "!python3 --version\n",
        "# Python 3.12.1"
      ],
      "metadata": {
        "id": "jLbsZfb7mhiC"
      },
      "execution_count": null,
      "outputs": []
    },
    {
      "cell_type": "code",
      "source": [
        "!python3.12 --version"
      ],
      "metadata": {
        "id": "b6VxDFqBlvnk"
      },
      "execution_count": null,
      "outputs": []
    },
    {
      "cell_type": "markdown",
      "source": [
        "\n",
        "\n",
        "---\n",
        "\n",
        "\n",
        "\n",
        "---\n",
        "\n",
        "\n",
        "## **<font color=\"red\">Problem:</font>**\n",
        "\n",
        "\n",
        "Google Colab's Python environment might not be fully configured to recognize the new generic type syntax introduced in Python 3.12, despite showing the correct version. This can lead to Syntax errors when you use new Syntax e.g.`swap[T]`.\n",
        "\n",
        "## **<font color=\"Green\">Solution:</font>**\n",
        "\n",
        "While Colab might indicate it's running Python 3.12, it's actually still referencing the old environment files in the background where generic type Syntax is invalid.\n",
        "\n",
        "<font color='orange' size=5>**To solve this issue we will use VSCode, the GitHub link for the new Generic Syntax is here.** </font>\n",
        "\n",
        "[**Generic: Source Code**](https://github.com/panaversity/learn-modern-ai-python/tree/main/00_python_colab/Lesson_Source_Code/generics)\n",
        "\n",
        "\n",
        "---\n",
        "\n",
        "\n",
        "---\n",
        "\n",
        "\n"
      ],
      "metadata": {
        "id": "R1y_J3SlWP-O"
      }
    },
    {
      "cell_type": "markdown",
      "source": [
        "\n",
        "## **5. Basic Generic Functions** <a name=\"generic-functions\"></a>\n",
        "\n",
        "### **Example: Swap Two Values** <font color=red>**(Colab ERROR: Not recognizing Python Version 3.12)**</font>"
      ],
      "metadata": {
        "id": "ysypFj4mhlW4"
      }
    },
    {
      "cell_type": "code",
      "source": [
        "def swap[T](a: T, b: T) -> tuple[T, T]:\n",
        "    return b, a\n",
        "\n",
        "x, y = swap(10, 20)    # ✅ (int, int)\n",
        "a, b = swap(\"A\", \"B\")  # ✅ (str, str)"
      ],
      "metadata": {
        "id": "CCL99cD3hoOC"
      },
      "execution_count": null,
      "outputs": []
    },
    {
      "cell_type": "markdown",
      "source": [
        "\n",
        "### **Example: Swap Two Values**\n",
        "\n",
        "\n",
        "\n",
        "\n",
        "```python\n",
        "def swap[T](a: T, b: T) -> tuple[T, T]:\n",
        "    return b, a\n",
        "\n",
        "x, y = swap(10, 20)    # ✅ (int, int)\n",
        "a, b = swap(\"A\", \"B\")  # ✅ (str, str)\n",
        "\n",
        "```\n",
        "\n",
        "### **Multiple Generic Types**\n",
        "\n",
        "\n",
        "\n",
        "```python\n",
        "def get_value[K, V](d: dict[K, V], key: K) -> V:\n",
        "    return d[key]\n",
        "\n",
        "person = {\"name\": \"Alice\", \"age\": 30}\n",
        "print(get_value(person, \"name\"))  # Returns \"Alice\" (str)\n",
        "```"
      ],
      "metadata": {
        "id": "OuRVo61pk2sw"
      }
    },
    {
      "cell_type": "markdown",
      "source": [
        "## **6. Generic Classes** <a name=\"generic-classes\"></a>\n",
        "\n",
        "### **Example: Stack Data Structure**\n",
        "\n",
        "\n",
        "```python\n",
        "class Stack[T]:\n",
        "    def __init__(self):\n",
        "        self.items: list[T] = []\n",
        "    \n",
        "    def push(self, item: T) -> None:\n",
        "        self.items.append(item)\n",
        "    \n",
        "    def pop(self) -> T:\n",
        "        return self.items.pop()\n",
        "\n",
        "# Usage\n",
        "int_stack = Stack[int]()\n",
        "int_stack.push(10)\n",
        "print(int_stack.pop())  # ✅ Returns int\n",
        "\n",
        "str_stack = Stack[str]()\n",
        "str_stack.push(\"hello\")\n",
        "print(str_stack.pop())  # ✅ Returns str\n",
        "\n",
        "```\n",
        "\n",
        "----------\n",
        "\n",
        "## **7. TypeVar and Bounds** <a name=\"typevar\"></a>\n",
        "\n",
        "### **Restricting Types (`bound=`)**\n",
        "\n",
        "```python\n",
        "from typing import TypeVar\n",
        "\n",
        "Numeric = TypeVar('Numeric', bound=int | float)  # Only int or float\n",
        "\n",
        "def add(a: Numeric, b: Numeric) -> Numeric:\n",
        "    return a + b\n",
        "\n",
        "print(add(5, 10))      # ✅ Valid\n",
        "print(add(3.14, 2.71)) # ✅ Valid\n",
        "print(add(\"a\", \"b\"))   # ❌ Error\n",
        "\n",
        "```\n",
        "\n",
        "### **Upper Bounds (Inheritance)**\n",
        "\n",
        "\n",
        "```python\n",
        "from typing import TypeVar\n",
        "\n",
        "class Animal: ...\n",
        "\n",
        "class Dog(Animal): ...\n",
        "\n",
        "A = TypeVar('A', bound=Animal)  # Must be Animal or subclass\n",
        "\n",
        "def make_sound(animal: A) -> None:\n",
        "    print(\"Sound!\")\n",
        "\n",
        "make_sound(Dog())  # ✅ Valid\n",
        "\n",
        "```\n",
        "\n",
        "----------\n",
        "\n",
        "## **8. Generic Collections** <a name=\"generic-collections\"></a>\n",
        "\n",
        "Python 3.12 supports **inline generic syntax** for collections:"
      ],
      "metadata": {
        "id": "yp7iwDqAMjJW"
      }
    },
    {
      "cell_type": "markdown",
      "source": [
        "| Collection | Old Syntax | New Syntax (Python 3.12) |   |\n",
        "|------------|------------|--------------------------|---|\n",
        "| list       | List[T]    | list[T]                  |   |\n",
        "| dict       | Dict[K, V] | dict[K, V]               |   |\n",
        "| set        | Set[T]     | set[T]                   |   |"
      ],
      "metadata": {
        "id": "ts6I3bIzMtkF"
      }
    },
    {
      "cell_type": "markdown",
      "source": [
        "\n",
        "### **Example**\n",
        "\n",
        "\n",
        "```python\n",
        "names: list[str] = [\"Alice\", \"Bob\"]\n",
        "ages: dict[str, int] = {\"Alice\": 25, \"Bob\": 30}\n",
        "unique: set[int] = {1, 2, 3}\n",
        "\n",
        "```\n",
        "\n",
        "----------\n",
        "\n",
        "## **9. Overloading with `@overload`** <a name=\"overloading\"></a>\n",
        "\n",
        "Define **multiple function signatures** for different input types:\n",
        "\n",
        "\n",
        "**How it Works:**\n",
        "\n",
        "1.  **Multiple Signatures:** You define multiple function signatures using `@overload`. These signatures specify the expected input types and return types for different cases.\n",
        "\n",
        "2.  **Implementation:** You provide a single, general implementation of the function. This implementation typically uses type hints that are compatible with all the overloaded signatures.\n",
        "\n",
        "3.  **Type Checker's Role:** The type checker uses the overloaded signatures to determine the correct return type based on the input types. The implementation is used at runtime.\n",
        "\n",
        "```python\n",
        "from typing import overload\n",
        "\n",
        "@overload\n",
        "def double(x: int) -> int: ...\n",
        "@overload\n",
        "def double(x: str) -> str: ...\n",
        "\n",
        "def double(x: int | str) -> int | str:\n",
        "    return x * 2\n",
        "\n",
        "print(double(5))     # Returns 10 (int)\n",
        "print(double(\"A\"))   # Returns \"AA\" (str)\n",
        "\n",
        "```\n",
        "\n",
        "----------\n",
        "\n",
        "## **10. Real-World Examples** <a name=\"real-world-examples\"></a>\n",
        "\n",
        "### **Example 1: API Response Wrapper**\n",
        "\n",
        "\n",
        "\n",
        "```python\n",
        "class APIResponse[T, U]:\n",
        "    def __init__(self, data: T, status: U):\n",
        "        self.data = data\n",
        "        self.status = status\n",
        "\n",
        "# Usage\n",
        "response = APIResponse[str, int](\"Success!\", 200)\n",
        "print(response.data)  # Output: \"Success!\"\n",
        "\n",
        "response2 = APIResponse[bool, float](True, 0.200)\n",
        "print(response2.data)  # Output: True\n",
        "\n",
        "\n",
        "```\n",
        "\n",
        "### **Example 2: Caching System**\n",
        "\n",
        "\n",
        "```python\n",
        "class Cache[K, V]:\n",
        "    def __init__(self):\n",
        "        self.store: dict[K, V] = {}\n",
        "    \n",
        "    def set(self, key: K, value: V) -> None:\n",
        "        self.store[key] = value\n",
        "    \n",
        "    def get(self, key: K) -> V:\n",
        "        return self.store[key]\n",
        "\n",
        "# Usage\n",
        "cache = Cache[str, int]()\n",
        "cache.set(\"count\", 10)\n",
        "print(cache.get(\"count\"))  # Output: 10\n",
        "\n",
        "```\n",
        "\n",
        "----------\n",
        "\n",
        "## **11`. Best Practices** <a name=\"best-practices\"></a>\n",
        "\n",
        "✅ **Use inline generics (`def func[T]()`) for simplicity**  \n",
        "✅ **Apply `bound=` when restricting types**  \n",
        "✅ **Prefer `list[T]` over `List[T]`**  \n",
        "❌ **Avoid `Any` when generics can be used**\n",
        "\n",
        "----------\n",
        "\n",
        "## **Final Thoughts**\n",
        "\n",
        "Python 3.12 makes generics:  \n",
        "✔ **Easier to write**  \n",
        "✔ **More readable**  \n",
        "✔ **Better for large codebases**"
      ],
      "metadata": {
        "id": "tIPo80GTN0Ez"
      }
    }
  ]
}