{
  "cells": [
    {
      "cell_type": "markdown",
      "metadata": {
        "id": "view-in-github",
        "colab_type": "text"
      },
      "source": [
        "<a href=\"https://colab.research.google.com/github/AbdullahMalik17/Python/blob/main/app.ipynb\" target=\"_parent\"><img src=\"https://colab.research.google.com/assets/colab-badge.svg\" alt=\"Open In Colab\"/></a>"
      ]
    },
    {
      "cell_type": "markdown",
      "source": [
        "# Why do we need python dictionary\n",
        "We can also give data in key and value pair . It is fast and easiest way to access and store data .  "
      ],
      "metadata": {
        "id": "kt8N518skQNL"
      }
    },
    {
      "cell_type": "code",
      "execution_count": 10,
      "metadata": {
        "vscode": {
          "languageId": "plaintext"
        },
        "colab": {
          "base_uri": "https://localhost:8080/"
        },
        "id": "Z4SvF21njuAw",
        "outputId": "d976c94f-120e-4c35-e3ab-9389cf71880c"
      },
      "outputs": [
        {
          "output_type": "stream",
          "name": "stdout",
          "text": [
            "{'Abdullah'} {'Athar'}\n"
          ]
        }
      ],
      "source": [
        "users = {\n",
        "  \"username\" : \"Abdullah\",\n",
        "  \"father\" : \"Athar\",\n",
        "  \"age\" : 16\n",
        "}\n",
        "print({users[\"username\"]},{users[\"father\"]})"
      ]
    },
    {
      "cell_type": "markdown",
      "source": [
        "# Modifing a value"
      ],
      "metadata": {
        "id": "eDpvNTv3rS-r"
      }
    },
    {
      "cell_type": "code",
      "source": [
        "users = {\n",
        "  \"username\" : \"Abdullah\",\n",
        "  \"father\" : \"Athar\",\n",
        "  \"age\" : 16\n",
        "}\n",
        "user = {\n",
        "    \"username\" : \"\"\n",
        "}\n",
        "user[\"username\"] = users[\"username\"]\n",
        "print(user)\n",
        "\n"
      ],
      "metadata": {
        "colab": {
          "base_uri": "https://localhost:8080/"
        },
        "id": "x-pfHxhMrWEl",
        "outputId": "408dc023-34d6-49db-fb79-c1f8c1d68866"
      },
      "execution_count": 12,
      "outputs": [
        {
          "output_type": "stream",
          "name": "stdout",
          "text": [
            "{'username': 'Abdullah'}\n"
          ]
        }
      ]
    },
    {
      "cell_type": "markdown",
      "source": [
        "# Modifing a key"
      ],
      "metadata": {
        "id": "lojKWdfZstqL"
      }
    },
    {
      "cell_type": "code",
      "source": [
        "introduction = {\n",
        "    \"name\" : \"Abdullah\", # Each line in dictionary is called property .\n",
        "    \"father_name\" : \"Athar\",\n",
        "    \"age\" : 16\n",
        "}\n",
        "print(introduction)\n",
        "introduction[\"country\"] = \"Pakistan\"\n",
        "print(introduction)"
      ],
      "metadata": {
        "colab": {
          "base_uri": "https://localhost:8080/"
        },
        "id": "D0pMGR7lstAh",
        "outputId": "071ac9ce-059d-443c-857d-22eba2bfce2b"
      },
      "execution_count": 13,
      "outputs": [
        {
          "output_type": "stream",
          "name": "stdout",
          "text": [
            "{'name': 'Abdullah', 'father_name': 'Athar', 'age': 16}\n",
            "{'name': 'Abdullah', 'father_name': 'Athar', 'age': 16, 'country': 'Pakistan'}\n"
          ]
        }
      ]
    },
    {
      "cell_type": "code",
      "source": [
        "# dict is used as data type of dictionary\n",
        "user1:dict = {\"name\" : \"Abdullah\"}\n",
        "print(user1)\n",
        "user1"
      ],
      "metadata": {
        "colab": {
          "base_uri": "https://localhost:8080/"
        },
        "id": "POv9V8RQx4AK",
        "outputId": "7cc6c65d-705b-4586-d703-947faac90078"
      },
      "execution_count": 14,
      "outputs": [
        {
          "output_type": "stream",
          "name": "stdout",
          "text": [
            "{'name': 'Abdullah'}\n"
          ]
        }
      ]
    },
    {
      "cell_type": "code",
      "source": [
        "# Home Work\n",
        "# List of dict\n",
        "user1 = {\"name\":\"Ali\",\"age\":13}\n",
        "user2 = {\"name\":\"Naveed\",\"age\":14}\n",
        "user3 = {\"name\":\"Abdullah\",\"age\":17}\n",
        "users = [user1,user2,user3]\n",
        "print(users)"
      ],
      "metadata": {
        "colab": {
          "base_uri": "https://localhost:8080/"
        },
        "id": "NOq2Ah3LzbuC",
        "outputId": "d6e267fe-6830-4edb-c306-ada32f86a555"
      },
      "execution_count": 16,
      "outputs": [
        {
          "output_type": "stream",
          "name": "stdout",
          "text": [
            "[{'name': 'Ali', 'age': 13}, {'name': 'Naveed', 'age': 14}, {'name': 'Abdullah', 'age': 17}]\n"
          ]
        }
      ]
    }
  ],
  "metadata": {
    "language_info": {
      "name": "python"
    },
    "colab": {
      "provenance": [],
      "include_colab_link": true
    },
    "kernelspec": {
      "name": "python3",
      "display_name": "Python 3"
    }
  },
  "nbformat": 4,
  "nbformat_minor": 0
}