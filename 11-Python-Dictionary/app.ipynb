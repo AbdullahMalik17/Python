{
  "cells": [
    {
      "cell_type": "markdown",
      "metadata": {
        "colab_type": "text",
        "id": "view-in-github"
      },
      "source": [
        "<a href=\"https://colab.research.google.com/github/AbdullahMalik17/Python/blob/main/app.ipynb\" target=\"_parent\"><img src=\"https://colab.research.google.com/assets/colab-badge.svg\" alt=\"Open In Colab\"/></a>"
      ]
    },
    {
      "cell_type": "markdown",
      "metadata": {
        "id": "kt8N518skQNL"
      },
      "source": [
        "# Why do we need python dictionary\n",
        "We can also give data in key and value pair . It is fast and easiest way to access and store data .  "
      ]
    },
    {
      "cell_type": "code",
      "execution_count": 10,
      "metadata": {
        "colab": {
          "base_uri": "https://localhost:8080/"
        },
        "id": "Z4SvF21njuAw",
        "outputId": "d976c94f-120e-4c35-e3ab-9389cf71880c",
        "vscode": {
          "languageId": "plaintext"
        }
      },
      "outputs": [
        {
          "name": "stdout",
          "output_type": "stream",
          "text": [
            "{'Abdullah'} {'Athar'}\n"
          ]
        }
      ],
      "source": [
        "users = {\n",
        "  \"username\" : \"Abdullah\",\n",
        "  \"father\" : \"Athar\",\n",
        "  \"age\" : 16\n",
        "}\n",
        "print({users[\"username\"]},{users[\"father\"]})"
      ]
    },
    {
      "cell_type": "markdown",
      "metadata": {
        "id": "eDpvNTv3rS-r"
      },
      "source": [
        "# Modifing a value"
      ]
    },
    {
      "cell_type": "code",
      "execution_count": 12,
      "metadata": {
        "colab": {
          "base_uri": "https://localhost:8080/"
        },
        "id": "x-pfHxhMrWEl",
        "outputId": "408dc023-34d6-49db-fb79-c1f8c1d68866"
      },
      "outputs": [
        {
          "name": "stdout",
          "output_type": "stream",
          "text": [
            "{'username': 'Abdullah'}\n"
          ]
        }
      ],
      "source": [
        "users = {\n",
        "  \"username\" : \"Abdullah\",\n",
        "  \"father\" : \"Athar\",\n",
        "  \"age\" : 16\n",
        "}\n",
        "user = {\n",
        "    \"username\" : \"\"\n",
        "}\n",
        "user[\"username\"] = users[\"username\"]\n",
        "print(user)\n",
        "\n"
      ]
    },
    {
      "cell_type": "markdown",
      "metadata": {
        "id": "lojKWdfZstqL"
      },
      "source": [
        "# Modifing a key"
      ]
    },
    {
      "cell_type": "code",
      "execution_count": 13,
      "metadata": {
        "colab": {
          "base_uri": "https://localhost:8080/"
        },
        "id": "D0pMGR7lstAh",
        "outputId": "071ac9ce-059d-443c-857d-22eba2bfce2b"
      },
      "outputs": [
        {
          "name": "stdout",
          "output_type": "stream",
          "text": [
            "{'name': 'Abdullah', 'father_name': 'Athar', 'age': 16}\n",
            "{'name': 'Abdullah', 'father_name': 'Athar', 'age': 16, 'country': 'Pakistan'}\n"
          ]
        }
      ],
      "source": [
        "introduction = {\n",
        "    \"name\" : \"Abdullah\", # Each line in dictionary is called property .\n",
        "    \"father_name\" : \"Athar\",\n",
        "    \"age\" : 16\n",
        "}\n",
        "print(introduction)\n",
        "introduction[\"country\"] = \"Pakistan\"\n",
        "print(introduction)"
      ]
    },
    {
      "cell_type": "code",
      "execution_count": 14,
      "metadata": {
        "colab": {
          "base_uri": "https://localhost:8080/"
        },
        "id": "POv9V8RQx4AK",
        "outputId": "7cc6c65d-705b-4586-d703-947faac90078"
      },
      "outputs": [
        {
          "name": "stdout",
          "output_type": "stream",
          "text": [
            "{'name': 'Abdullah'}\n"
          ]
        }
      ],
      "source": [
        "# dict is used as data type of dictionary\n",
        "user1:dict = {\"name\" : \"Abdullah\"}\n",
        "print(user1)\n",
        "user1"
      ]
    },
    {
      "cell_type": "code",
      "execution_count": 16,
      "metadata": {
        "colab": {
          "base_uri": "https://localhost:8080/"
        },
        "id": "NOq2Ah3LzbuC",
        "outputId": "d6e267fe-6830-4edb-c306-ada32f86a555"
      },
      "outputs": [
        {
          "name": "stdout",
          "output_type": "stream",
          "text": [
            "[{'name': 'Ali', 'age': 13}, {'name': 'Naveed', 'age': 14}, {'name': 'Abdullah', 'age': 17}]\n"
          ]
        }
      ],
      "source": [
        "# Home Work\n",
        "# List of dict\n",
        "user1 = {\"name\":\"Ali\",\"age\":13}\n",
        "user2 = {\"name\":\"Naveed\",\"age\":14}\n",
        "user3 = {\"name\":\"Abdullah\",\"age\":17}\n",
        "users = [user1,user2,user3]\n",
        "print(users)"
      ]
    },
    {
      "cell_type": "code",
      "execution_count": null,
      "metadata": {},
      "outputs": [],
      "source": [
        "# get method\n",
        "user = {\"name\":\"Abdullah\"}\n",
        "print(user.get(\"name\"))"
      ]
    }
  ],
  "metadata": {
    "colab": {
      "include_colab_link": true,
      "provenance": []
    },
    "kernelspec": {
      "display_name": "Python 3",
      "name": "python3"
    },
    "language_info": {
      "name": "python"
    }
  },
  "nbformat": 4,
  "nbformat_minor": 0
}
