{
  "cells": [
    {
      "cell_type": "markdown",
      "metadata": {
        "id": "view-in-github",
        "colab_type": "text"
      },
      "source": [
        "<a href=\"https://colab.research.google.com/github/AbdullahMalik17/Python/blob/main/app.ipynb\" target=\"_parent\"><img src=\"https://colab.research.google.com/assets/colab-badge.svg\" alt=\"Open In Colab\"/></a>"
      ]
    },
    {
      "cell_type": "code",
      "execution_count": 1,
      "metadata": {
        "vscode": {
          "languageId": "plaintext"
        },
        "colab": {
          "base_uri": "https://localhost:8080/"
        },
        "id": "C6RVMX5nL4kM",
        "outputId": "cf5f6776-9ee8-4e3f-994a-da7fd4e60527"
      },
      "outputs": [
        {
          "output_type": "stream",
          "name": "stdout",
          "text": [
            "1.9\n",
            "2.9\n",
            "3.9\n",
            "4.9\n",
            "5.9\n",
            "6.9\n",
            "7.9\n"
          ]
        }
      ],
      "source": [
        "# We use while loop when we have to first run the code according to the condition\n",
        "n = 1.9\n",
        "while n <=8:\n",
        "  print(n)\n",
        "  n=n+1"
      ]
    },
    {
      "cell_type": "code",
      "source": [
        "# We are going to make a guessing game .\n",
        "guess = 0\n",
        "correct_number = 8\n",
        "while guess != correct_number :\n",
        "  guess = int(input(\"Please Input a number \"))\n",
        "  print(\"Wrong number \" if guess != correct_number else \"You guess correct number\") # This is a good way of coding 8\n",
        "  # if guess != correct_number:\n",
        "  #  print(\"Wrong number\")\n",
        "  # else :\n",
        "  # print(\"You guess right answer .\")"
      ],
      "metadata": {
        "id": "A3Q23FEwO8_-",
        "outputId": "7b65cb46-5a3e-4579-d87f-e77775318024",
        "colab": {
          "base_uri": "https://localhost:8080/"
        }
      },
      "execution_count": 4,
      "outputs": [
        {
          "output_type": "stream",
          "name": "stdout",
          "text": [
            "Please Input a number 6\n",
            "Wrong number\n",
            "Please Input a number 8\n",
            "You guess right answer .\n"
          ]
        }
      ]
    },
    {
      "cell_type": "code",
      "source": [
        "# Write a code about count down from ten\n",
        "num = 10\n",
        "while num >= 0:\n",
        "  print(num)\n",
        "  num -=1"
      ],
      "metadata": {
        "id": "cbpMWw-lUsst",
        "outputId": "f53e9a0c-57f3-4268-bbd6-e960d06f80df",
        "colab": {
          "base_uri": "https://localhost:8080/"
        }
      },
      "execution_count": null,
      "outputs": [
        {
          "output_type": "stream",
          "name": "stdout",
          "text": [
            "10\n",
            "9\n",
            "8\n",
            "7\n",
            "6\n",
            "5\n",
            "4\n",
            "3\n",
            "2\n",
            "1\n",
            "0\n"
          ]
        }
      ]
    },
    {
      "cell_type": "code",
      "source": [
        "countdown = 10\n",
        "while 0<10 :\n",
        " countdown-=1\n",
        " if(countdown==8):\n",
        "  print(countdown)\n",
        "  break\n",
        " print(countdown)# Use of break\n",
        "\n"
      ],
      "metadata": {
        "colab": {
          "base_uri": "https://localhost:8080/"
        },
        "id": "CyKpt9JZidEw",
        "outputId": "736c26f0-e496-4045-b5ec-a1933c578b43"
      },
      "execution_count": null,
      "outputs": [
        {
          "output_type": "stream",
          "name": "stdout",
          "text": [
            "9\n",
            "8\n"
          ]
        }
      ]
    },
    {
      "cell_type": "code",
      "source": [
        "# Use of continue\n",
        "countdown = 10\n",
        "while countdown >=1 :\n",
        "  countdown -= 1\n",
        "  if(countdown==8):\n",
        "   print(countdown)\n",
        "   continue\n",
        "\n",
        "\n"
      ],
      "metadata": {
        "colab": {
          "base_uri": "https://localhost:8080/"
        },
        "id": "nUri-FINjtgl",
        "outputId": "482559ed-8a9e-48fe-df9b-509659e69453"
      },
      "execution_count": null,
      "outputs": [
        {
          "output_type": "stream",
          "name": "stdout",
          "text": [
            "9\n",
            "8\n",
            "7\n",
            "6\n",
            "5\n",
            "4\n",
            "3\n",
            "2\n",
            "1\n",
            "0\n"
          ]
        }
      ]
    }
  ],
  "metadata": {
    "language_info": {
      "name": "python"
    },
    "colab": {
      "provenance": [],
      "include_colab_link": true
    },
    "kernelspec": {
      "name": "python3",
      "display_name": "Python 3"
    }
  },
  "nbformat": 4,
  "nbformat_minor": 0
}