{
  "cells": [
    {
      "cell_type": "markdown",
      "metadata": {
        "id": "view-in-github",
        "colab_type": "text"
      },
      "source": [
        "<a href=\"https://colab.research.google.com/github/AbdullahMalik17/Python/blob/main/app.ipynb\" target=\"_parent\"><img src=\"https://colab.research.google.com/assets/colab-badge.svg\" alt=\"Open In Colab\"/></a>"
      ]
    },
    {
      "cell_type": "code",
      "execution_count": null,
      "metadata": {
        "vscode": {
          "languageId": "plaintext"
        },
        "colab": {
          "base_uri": "https://localhost:8080/"
        },
        "id": "bzpoG_kf4lC_",
        "outputId": "1d8de2e9-39d7-460b-cb39-40ddf7b151ba"
      },
      "outputs": [
        {
          "output_type": "stream",
          "name": "stdout",
          "text": [
            "ABd1234@1\n"
          ]
        }
      ],
      "source": [
        "# Question no . 18\n",
        "# We have to test the criteria of password .\n",
        "# The criteria of password is as follows:-\n",
        "# At least 1 letter between [a-z]\n",
        "# At least 1 number between [0-9]\n",
        "# At least 1 letter between [A-Z]\n",
        "# At least 1 character from [$#@]\n",
        "# Minimum length of transaction password: 6\n",
        "# Maximum length of transaction password: 12\n",
        "# re is the module that is used for data search in match\n",
        "import re\n",
        "\n",
        "passwords = [\"ABd1234@1\", \"a F1#\", \"2w3E*\", \"2We3345\"]\n",
        "\n",
        "for password in passwords:\n",
        "    if (\n",
        "        6 <= len(password) <= 12\n",
        "        and re.search(\"[a-z]\", password)\n",
        "        and re.search(\"[A-Z]\", password)\n",
        "        and re.search(\"[0-9]\", password)\n",
        "        and re.search(\"[$#@]\", password)\n",
        "    ):\n",
        "        print(password)"
      ]
    },
    {
      "cell_type": "code",
      "source": [
        "# Question no. 19\n",
        "# We have to sort the data in it .\n",
        "# Data will contain name , age and score .\n",
        "from operator import itemgetter\n",
        "entries = [\"Tom\",19,80,\"John\",20,90,\"Jony\",17,91,\"Jony\",17,93,\"Json\",21,85]\n",
        "tuple_list = list(zip(entries[::3], entries[1::3], entries[2::3]))\n",
        "sorted_list = sorted(tuple_list,key = itemgetter(0))\n",
        "print(sorted_list)\n"
      ],
      "metadata": {
        "colab": {
          "base_uri": "https://localhost:8080/"
        },
        "id": "sryWsNkD_q6I",
        "outputId": "be0bccbd-9b48-4efe-f7c4-f7a7b60d6844"
      },
      "execution_count": null,
      "outputs": [
        {
          "output_type": "stream",
          "name": "stdout",
          "text": [
            "[('Tom', 19, 80), ('John', 20, 90), ('Jony', 17, 91), ('Jony', 17, 93), ('Json', 21, 85)]\n",
            "[('John', 20, 90), ('Jony', 17, 91), ('Jony', 17, 93), ('Json', 21, 85), ('Tom', 19, 80)]\n"
          ]
        }
      ]
    },
    {
      "cell_type": "code",
      "source": [],
      "metadata": {
        "id": "eB7L6LxcE0Dl"
      },
      "execution_count": null,
      "outputs": []
    }
  ],
  "metadata": {
    "language_info": {
      "name": "python"
    },
    "colab": {
      "provenance": [],
      "include_colab_link": true
    },
    "kernelspec": {
      "name": "python3",
      "display_name": "Python 3"
    }
  },
  "nbformat": 4,
  "nbformat_minor": 0
}