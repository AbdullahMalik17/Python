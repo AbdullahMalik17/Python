{
  "cells": [
    {
      "cell_type": "markdown",
      "metadata": {
        "id": "view-in-github",
        "colab_type": "text"
      },
      "source": [
        "<a href=\"https://colab.research.google.com/github/AbdullahMalik17/Python/blob/main/app.ipynb\" target=\"_parent\"><img src=\"https://colab.research.google.com/assets/colab-badge.svg\" alt=\"Open In Colab\"/></a>"
      ]
    },
    {
      "cell_type": "code",
      "execution_count": null,
      "metadata": {
        "vscode": {
          "languageId": "plaintext"
        },
        "id": "dJ_V48cF238c",
        "colab": {
          "base_uri": "https://localhost:8080/"
        },
        "outputId": "2694d943-fdad-4b23-8cbd-eabcbc65968f"
      },
      "outputs": [
        {
          "output_type": "stream",
          "name": "stdout",
          "text": [
            "2002,2009,2016,2023,2037,2044,2051,2058,2072,2079,2086,2093,2107,2114,2121,2128,2142,2149,2156,2163,2177,2184,2191,2198,2212,2219,2226,2233,2247,2254,2261,2268,2282,2289,2296,2303,2317,2324,2331,2338,2352,2359,2366,2373,2387,2394,2401,2408,2422,2429,2436,2443,2457,2464,2471,2478,2492,2499,2506,2513,2527,2534,2541,2548,2562,2569,2576,2583,2597,2604,2611,2618,2632,2639,2646,2653,2667,2674,2681,2688,2702,2709,2716,2723,2737,2744,2751,2758,2772,2779,2786,2793,2807,2814,2821,2828,2842,2849,2856,2863,2877,2884,2891,2898,2912,2919,2926,2933,2947,2954,2961,2968,2982,2989,2996,3003,3017,3024,3031,3038,3052,3059,3066,3073,3087,3094,3101,3108,3122,3129,3136,3143,3157,3164,3171,3178,3192,3199\n"
          ]
        }
      ],
      "source": [
        "# Question no 1\n",
        "number = []\n",
        "for i in range(2000,3201):\n",
        "  # It return a value which divides by 7 but not the multiple of 5\n",
        "  if i%7==0 and i%5 != 0 :\n",
        "    # we use string method to make it string to apply the\n",
        "    number.append(str(i))\n",
        "print(\",\".join(number))"
      ]
    },
    {
      "cell_type": "code",
      "source": [
        "# Question no 2\n",
        "# We have to find the factorial of num as a parameter .\n",
        "def factorial(num1):\n",
        "  result=1\n",
        "  for i in range(1,num1+1):\n",
        "    result = result*i\n",
        "  return result\n",
        "number = 7\n",
        "factorial_of_number= factorial(8)\n",
        "print(f\"{factorial_of_number}\")\n"
      ],
      "metadata": {
        "id": "vK6hRpdt8aOQ",
        "colab": {
          "base_uri": "https://localhost:8080/"
        },
        "outputId": "57a8cf0f-8200-4c45-d9e4-aacc85482afa"
      },
      "execution_count": null,
      "outputs": [
        {
          "output_type": "stream",
          "name": "stdout",
          "text": [
            "40320\n"
          ]
        }
      ]
    },
    {
      "cell_type": "code",
      "source": [
        "# Question no 3\n",
        "# We have to find the square of all the integral parts of number and give the result in dict\n",
        "def square(num):\n",
        "  return num*num\n",
        "\n",
        "for i in range(1,9):\n",
        "  square1 =square(i)\n",
        "  print(f\"{i}:{square(i)}\")"
      ],
      "metadata": {
        "colab": {
          "base_uri": "https://localhost:8080/"
        },
        "id": "weR7aE0ZC2MV",
        "outputId": "e9d3329a-1fb9-4464-fd7c-aa183a631bfe"
      },
      "execution_count": null,
      "outputs": [
        {
          "output_type": "stream",
          "name": "stdout",
          "text": [
            "1:1\n",
            "2:4\n",
            "3:9\n",
            "4:16\n",
            "5:25\n",
            "6:36\n",
            "7:49\n",
            "8:64\n"
          ]
        }
      ]
    },
    {
      "cell_type": "code",
      "source": [
        "# Question no. 4\n",
        "list_1 = []\n",
        "for i in range(1,5):\n",
        " nums = int(input(\"Enter Few numbers \"))\n",
        " list_1.append(nums)\n",
        "print(list_1)\n",
        "print(tuple(list_1))"
      ],
      "metadata": {
        "id": "5uPGF4WJC19O",
        "colab": {
          "base_uri": "https://localhost:8080/"
        },
        "outputId": "366be71a-14a0-4485-cfd0-634f5d0d9256"
      },
      "execution_count": null,
      "outputs": [
        {
          "output_type": "stream",
          "name": "stdout",
          "text": [
            "Enter Few numbers 8\n",
            "Enter Few numbers 8\n",
            "Enter Few numbers 9\n",
            "Enter Few numbers 0\n",
            "[8, 8, 9, 0]\n",
            "(8, 8, 9, 0)\n"
          ]
        }
      ]
    },
    {
      "cell_type": "code",
      "source": [
        "# Question no. 5\n",
        "class getting :\n",
        "  def __init__(self):\n",
        "    self.getstring = input(\"Enter you Name \")\n",
        "    self.printstring = self.getstring\n",
        "get = getting()\n",
        "print(get.getstring)\n"
      ],
      "metadata": {
        "colab": {
          "base_uri": "https://localhost:8080/"
        },
        "id": "wdgouVuixk9c",
        "outputId": "f64fc42f-1c3c-4246-9f3e-a57cc3a04fb4"
      },
      "execution_count": null,
      "outputs": [
        {
          "output_type": "stream",
          "name": "stdout",
          "text": [
            "Enter you Name Abdullah\n",
            "Abdullah\n"
          ]
        }
      ]
    }
  ],
  "metadata": {
    "language_info": {
      "name": "python"
    },
    "colab": {
      "provenance": [],
      "include_colab_link": true
    },
    "kernelspec": {
      "name": "python3",
      "display_name": "Python 3"
    }
  },
  "nbformat": 4,
  "nbformat_minor": 0
}