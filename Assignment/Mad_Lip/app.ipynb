{
 "cells": [
  {
   "cell_type": "markdown",
   "metadata": {},
   "source": [
    "# Mad lip Project "
   ]
  },
  {
   "cell_type": "code",
   "execution_count": null,
   "metadata": {
    "vscode": {
     "languageId": "plaintext"
    }
   },
   "outputs": [],
   "source": [
    "name = input(\"What is your name ...\")\n",
    "age = int(input(\"What is your age ...\"))\n",
    "father_name = input(\"What is ypur father name ...\")\n",
    "caste = \"What is your caste ...\"\n",
    "education = \"What is your education ...\"\n",
    "mad_lip = f\"\"\" Your name is {name} .Your father name is {ather_name} . Your age is {age} \n",
    ".Your caste is {caste} . Your education is {education}\"\"\""
   ]
  }
 ],
 "metadata": {
  "language_info": {
   "name": "python"
  }
 },
 "nbformat": 4,
 "nbformat_minor": 2
}
