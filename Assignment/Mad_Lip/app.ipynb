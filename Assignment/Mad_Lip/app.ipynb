{
  "cells": [
    {
      "cell_type": "markdown",
      "metadata": {
        "id": "view-in-github",
        "colab_type": "text"
      },
      "source": [
        "<a href=\"https://colab.research.google.com/github/AbdullahMalik17/Python/blob/main/app.ipynb\" target=\"_parent\"><img src=\"https://colab.research.google.com/assets/colab-badge.svg\" alt=\"Open In Colab\"/></a>"
      ]
    },
    {
      "cell_type": "markdown",
      "metadata": {
        "id": "iAEncih89Alf"
      },
      "source": [
        "# Mad lip Project"
      ]
    },
    {
      "cell_type": "code",
      "execution_count": null,
      "metadata": {
        "vscode": {
          "languageId": "plaintext"
        },
        "id": "a-TkifVn9Alh"
      },
      "outputs": [],
      "source": [
        "name = input(\"What is your name ...\")\n",
        "father_name = input(\"What is your father name ...\")\n",
        "age = int(input(\"What is your age ...\"))\n",
        "caste = input(\"What is your caste ...\")\n",
        "education = input(\"What is your education ...\")\n",
        "mad_lip = f\"\"\" Your name is {name.capitalize()} .Your father name is {father_name.capitalize()} . Your age is {age}\n",
        ".Your caste is {caste.capitalize()} . Your education is {education.capitalize()}\"\"\"\n",
        "print(mad_lip)"
      ]
    }
  ],
  "metadata": {
    "language_info": {
      "name": "python"
    },
    "colab": {
      "provenance": [],
      "include_colab_link": true
    },
    "kernelspec": {
      "name": "python3",
      "display_name": "Python 3"
    }
  },
  "nbformat": 4,
  "nbformat_minor": 0
}