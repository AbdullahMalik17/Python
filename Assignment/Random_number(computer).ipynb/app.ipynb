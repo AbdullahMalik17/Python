{
  "cells": [
    {
      "cell_type": "markdown",
      "metadata": {
        "id": "view-in-github",
        "colab_type": "text"
      },
      "source": [
        "<a href=\"https://colab.research.google.com/github/AbdullahMalik17/Python/blob/main/app.ipynb\" target=\"_parent\"><img src=\"https://colab.research.google.com/assets/colab-badge.svg\" alt=\"Open In Colab\"/></a>"
      ]
    },
    {
      "cell_type": "code",
      "execution_count": null,
      "metadata": {
        "vscode": {
          "languageId": "plaintext"
        },
        "colab": {
          "base_uri": "https://localhost:8080/"
        },
        "id": "HspdfL50il0c",
        "outputId": "9044a99e-f69a-4b3a-9377-a32bd1cad41c"
      },
      "outputs": [
        {
          "output_type": "stream",
          "name": "stdout",
          "text": [
            "--------------------------------------------------\n"
          ]
        }
      ],
      "source": [
        "# We are going to make the random number game for computer\n",
        "# We have to judge the computer number\n",
        "import random\n",
        "def guess(x):\n",
        "  computer_number  = random.randint(1,x)\n",
        "  guess = 0\n",
        "  print(\"-\"*50)\n",
        "  while guess != computer_number:\n",
        "    guess = int(input(f\"Guess a number between 1 and {x} \"))\n",
        "    print(\"-\"*50)\n",
        "    if computer_number > guess:\n",
        "      print(\"Sorry , Your guess is low\")\n",
        "    elif computer_number < guess:\n",
        "      print(\"Sorry , Your guess is high\")\n",
        "\n",
        "  print(f\"Contratualtional , You guess correct number {computer_number}\")\n",
        "guess(10)"
      ]
    }
  ],
  "metadata": {
    "language_info": {
      "name": "python"
    },
    "colab": {
      "provenance": [],
      "include_colab_link": true
    },
    "kernelspec": {
      "name": "python3",
      "display_name": "Python 3"
    }
  },
  "nbformat": 4,
  "nbformat_minor": 0
}