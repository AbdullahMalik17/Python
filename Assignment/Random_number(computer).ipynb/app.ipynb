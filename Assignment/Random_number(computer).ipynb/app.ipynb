{
  "cells": [
    {
      "cell_type": "markdown",
      "metadata": {
        "id": "view-in-github",
        "colab_type": "text"
      },
      "source": [
        "<a href=\"https://colab.research.google.com/github/AbdullahMalik17/Python/blob/main/app.ipynb\" target=\"_parent\"><img src=\"https://colab.research.google.com/assets/colab-badge.svg\" alt=\"Open In Colab\"/></a>"
      ]
    },
    {
      "cell_type": "code",
      "execution_count": 29,
      "metadata": {
        "vscode": {
          "languageId": "plaintext"
        },
        "colab": {
          "base_uri": "https://localhost:8080/"
        },
        "id": "HspdfL50il0c",
        "outputId": "b435d152-c144-44d4-aeec-190dab7b0263"
      },
      "outputs": [
        {
          "output_type": "stream",
          "name": "stdout",
          "text": [
            "Your number is low 21\n"
          ]
        }
      ],
      "source": [
        "# We are going to make the random number game for computer\n",
        "import random\n",
        "number = 45\n",
        "computer_number = random.randint(1,100)\n",
        "def game():\n",
        "  \"\"\"Here , We are going to make the game of random number for computer.\n",
        "  Computer will generate random number and judge our number as 45\"\"\"\n",
        "  try:\n",
        "    while True:\n",
        "      if number > computer_number:\n",
        "        print(\"Your number is low\",computer_number)\n",
        "      elif number < computer_number:\n",
        "        print(\"Your number is high\",computer_number)\n",
        "      else:\n",
        "        print(\"You win and judge correct number\")\n",
        "      break\n",
        "\n",
        "  except Exception as e:\n",
        "    print(e)\n",
        "game()\n"
      ]
    }
  ],
  "metadata": {
    "language_info": {
      "name": "python"
    },
    "colab": {
      "provenance": [],
      "include_colab_link": true
    },
    "kernelspec": {
      "name": "python3",
      "display_name": "Python 3"
    }
  },
  "nbformat": 4,
  "nbformat_minor": 0
}